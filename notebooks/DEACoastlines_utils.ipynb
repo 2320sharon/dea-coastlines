{
 "cells": [
  {
   "cell_type": "markdown",
   "metadata": {
    "tags": []
   },
   "source": [
    "# DEA Coastlines useful tools <img align=\"right\" src=\"https://github.com/GeoscienceAustralia/dea-notebooks/raw/develop/Supplementary_data/dea_logo.jpg\">\n",
    "\n",
    "This notebook contains useful code snippets for processing and manipulating DEA Coastlines data.\n",
    "\n",
    "\n",
    "---"
   ]
  },
  {
   "cell_type": "markdown",
   "metadata": {},
   "source": [
    "## Getting started\n",
    "Set working directory to top level of repo to ensure links work correctly:"
   ]
  },
  {
   "cell_type": "code",
   "execution_count": 1,
   "metadata": {},
   "outputs": [
    {
     "name": "stdout",
     "output_type": "stream",
     "text": [
      "/home/jovyan/Robbi/dea-coastlines\n"
     ]
    }
   ],
   "source": [
    "cd .."
   ]
  },
  {
   "cell_type": "markdown",
   "metadata": {},
   "source": [
    "### Load packages\n",
    "\n",
    "First we import the required Python packages, then we connect to the database, and load the catalog of virtual products."
   ]
  },
  {
   "cell_type": "code",
   "execution_count": 2,
   "metadata": {},
   "outputs": [],
   "source": [
    "%matplotlib inline\n",
    "%load_ext line_profiler\n",
    "%load_ext autoreload\n",
    "%autoreload 2\n",
    "\n",
    "import os\n",
    "import sys\n",
    "import numpy as np\n",
    "import pandas as pd\n",
    "import geopandas as gpd\n",
    "import matplotlib.pyplot as plt\n"
   ]
  },
  {
   "cell_type": "markdown",
   "metadata": {},
   "source": [
    "## Run tests"
   ]
  },
  {
   "cell_type": "code",
   "execution_count": 3,
   "metadata": {},
   "outputs": [
    {
     "name": "stdout",
     "output_type": "stream",
     "text": [
      "\u001b[33mWARNING: You are using pip version 22.0.2; however, version 22.3.1 is available.\n",
      "You should consider upgrading via the '/env/bin/python -m pip install --upgrade pip' command.\u001b[0m\u001b[33m\n",
      "\u001b[0mNote: you may need to restart the kernel to use updated packages.\n"
     ]
    }
   ],
   "source": [
    "pip install -r requirements.in --quiet"
   ]
  },
  {
   "cell_type": "code",
   "execution_count": 4,
   "metadata": {},
   "outputs": [
    {
     "name": "stdout",
     "output_type": "stream",
     "text": [
      "Collecting pytest-dependency\n",
      "  Using cached pytest_dependency-0.5.1-py3-none-any.whl\n",
      "Requirement already satisfied: pytest>=3.6.0 in /env/lib/python3.8/site-packages (from pytest-dependency) (7.1.2)\n",
      "Requirement already satisfied: packaging in /env/lib/python3.8/site-packages (from pytest>=3.6.0->pytest-dependency) (21.0)\n",
      "Requirement already satisfied: tomli>=1.0.0 in /env/lib/python3.8/site-packages (from pytest>=3.6.0->pytest-dependency) (1.2.1)\n",
      "Requirement already satisfied: iniconfig in /env/lib/python3.8/site-packages (from pytest>=3.6.0->pytest-dependency) (1.1.1)\n",
      "Requirement already satisfied: py>=1.8.2 in /env/lib/python3.8/site-packages (from pytest>=3.6.0->pytest-dependency) (1.11.0)\n",
      "Requirement already satisfied: attrs>=19.2.0 in /env/lib/python3.8/site-packages (from pytest>=3.6.0->pytest-dependency) (21.2.0)\n",
      "Requirement already satisfied: pluggy<2.0,>=0.12 in /env/lib/python3.8/site-packages (from pytest>=3.6.0->pytest-dependency) (1.0.0)\n",
      "Requirement already satisfied: pyparsing>=2.0.2 in /env/lib/python3.8/site-packages (from packaging->pytest>=3.6.0->pytest-dependency) (2.4.7)\n",
      "Installing collected packages: pytest-dependency\n",
      "Successfully installed pytest-dependency-0.5.1\n",
      "\u001b[33mWARNING: You are using pip version 22.0.2; however, version 22.3.1 is available.\n",
      "You should consider upgrading via the '/env/bin/python -m pip install --upgrade pip' command.\u001b[0m\u001b[33m\n",
      "\u001b[0mNote: you may need to restart the kernel to use updated packages.\n"
     ]
    }
   ],
   "source": [
    "pip install pytest-dependency"
   ]
  },
  {
   "cell_type": "code",
   "execution_count": 5,
   "metadata": {},
   "outputs": [
    {
     "name": "stdout",
     "output_type": "stream",
     "text": [
      "\u001b[1m============================= test session starts ==============================\u001b[0m\n",
      "platform linux -- Python 3.8.10, pytest-7.1.2, pluggy-1.0.0 -- /env/bin/python\n",
      "cachedir: .pytest_cache\n",
      "rootdir: /home/jovyan/Robbi/dea-coastlines\n",
      "plugins: anyio-3.5.0, nbval-0.9.6, dependency-0.5.1, celery-4.4.7\n",
      "collected 3 items                                                              \u001b[0m\u001b[1m\n",
      "\n",
      "tests/test_coastline.py::test_generate_rasters_cli \u001b[32mPASSED\u001b[0m\u001b[33m                [ 33%]\u001b[0m\n",
      "tests/test_coastline.py::test_generate_vector_cli \u001b[32mPASSED\u001b[0m\u001b[33m                 [ 66%]\u001b[0m\n",
      "tests/test_coastline.py::test_generate_continental_cli \u001b[32mPASSED\u001b[0m\u001b[33m            [100%]\u001b[0m\n",
      "\n",
      "\u001b[33m=============================== warnings summary ===============================\u001b[0m\n",
      "../../../../env/lib/python3.8/site-packages/numexpr/expressions.py:21\n",
      "../../../../env/lib/python3.8/site-packages/numexpr/expressions.py:21\n",
      "  /env/lib/python3.8/site-packages/numexpr/expressions.py:21: DeprecationWarning: distutils Version classes are deprecated. Use packaging.version instead.\n",
      "    _np_version_forbids_neg_powint = LooseVersion(numpy.__version__) >= LooseVersion('1.12.0b1')\n",
      "\n",
      "../../../../env/lib/python3.8/site-packages/geopandas/_compat.py:18\n",
      "  /env/lib/python3.8/site-packages/geopandas/_compat.py:18: DeprecationWarning: distutils Version classes are deprecated. Use packaging.version instead.\n",
      "    PANDAS_GE_10 = str(pd.__version__) >= LooseVersion(\"1.0.0\")\n",
      "\n",
      "../../../../env/lib/python3.8/site-packages/setuptools/_distutils/version.py:351: 16 warnings\n",
      "  /env/lib/python3.8/site-packages/setuptools/_distutils/version.py:351: DeprecationWarning: distutils Version classes are deprecated. Use packaging.version instead.\n",
      "    other = LooseVersion(other)\n",
      "\n",
      "../../../../env/lib/python3.8/site-packages/geopandas/_compat.py:19\n",
      "  /env/lib/python3.8/site-packages/geopandas/_compat.py:19: DeprecationWarning: distutils Version classes are deprecated. Use packaging.version instead.\n",
      "    PANDAS_GE_11 = str(pd.__version__) >= LooseVersion(\"1.1.0\")\n",
      "\n",
      "../../../../env/lib/python3.8/site-packages/geopandas/_compat.py:20\n",
      "  /env/lib/python3.8/site-packages/geopandas/_compat.py:20: DeprecationWarning: distutils Version classes are deprecated. Use packaging.version instead.\n",
      "    PANDAS_GE_115 = str(pd.__version__) >= LooseVersion(\"1.1.5\")\n",
      "\n",
      "../../../../env/lib/python3.8/site-packages/geopandas/_compat.py:21\n",
      "  /env/lib/python3.8/site-packages/geopandas/_compat.py:21: DeprecationWarning: distutils Version classes are deprecated. Use packaging.version instead.\n",
      "    PANDAS_GE_12 = str(pd.__version__) >= LooseVersion(\"1.2.0\")\n",
      "\n",
      "../../../../env/lib/python3.8/site-packages/geopandas/_compat.py:29\n",
      "  /env/lib/python3.8/site-packages/geopandas/_compat.py:29: DeprecationWarning: distutils Version classes are deprecated. Use packaging.version instead.\n",
      "    SHAPELY_GE_17 = str(shapely.__version__) >= LooseVersion(\"1.7.0\")\n",
      "\n",
      "../../../../env/lib/python3.8/site-packages/geopandas/_compat.py:30\n",
      "  /env/lib/python3.8/site-packages/geopandas/_compat.py:30: DeprecationWarning: distutils Version classes are deprecated. Use packaging.version instead.\n",
      "    SHAPELY_GE_18 = str(shapely.__version__) >= LooseVersion(\"1.8\")\n",
      "\n",
      "../../../../env/lib/python3.8/site-packages/geopandas/_compat.py:31\n",
      "  /env/lib/python3.8/site-packages/geopandas/_compat.py:31: DeprecationWarning: distutils Version classes are deprecated. Use packaging.version instead.\n",
      "    SHAPELY_GE_20 = str(shapely.__version__) >= LooseVersion(\"2.0\")\n",
      "\n",
      "../../../../env/lib/python3.8/site-packages/geopandas/_compat.py:50\n",
      "  /env/lib/python3.8/site-packages/geopandas/_compat.py:50: DeprecationWarning: distutils Version classes are deprecated. Use packaging.version instead.\n",
      "    if str(pygeos.__version__) >= LooseVersion(\"0.8\"):\n",
      "\n",
      "../../../../env/lib/python3.8/site-packages/geopandas/_compat.py:52\n",
      "  /env/lib/python3.8/site-packages/geopandas/_compat.py:52: DeprecationWarning: distutils Version classes are deprecated. Use packaging.version instead.\n",
      "    PYGEOS_GE_09 = str(pygeos.__version__) >= LooseVersion(\"0.9\")\n",
      "\n",
      "../../../../env/lib/python3.8/site-packages/geopandas/_compat.py:53\n",
      "  /env/lib/python3.8/site-packages/geopandas/_compat.py:53: DeprecationWarning: distutils Version classes are deprecated. Use packaging.version instead.\n",
      "    PYGEOS_GE_010 = str(pygeos.__version__) >= LooseVersion(\"0.10\")\n",
      "\n",
      "../../../../env/lib/python3.8/site-packages/geopandas/_compat.py:95\n",
      "  /env/lib/python3.8/site-packages/geopandas/_compat.py:95: DeprecationWarning: distutils Version classes are deprecated. Use packaging.version instead.\n",
      "    if not str(pygeos.__version__) >= LooseVersion(\"0.8\"):\n",
      "\n",
      "../../../../env/lib/python3.8/site-packages/geopandas/_compat.py:227\n",
      "../../../../env/lib/python3.8/site-packages/geopandas/_compat.py:227\n",
      "  /env/lib/python3.8/site-packages/geopandas/_compat.py:227: DeprecationWarning: distutils Version classes are deprecated. Use packaging.version instead.\n",
      "    PYPROJ_LT_3 = LooseVersion(pyproj.__version__) < LooseVersion(\"3\")\n",
      "\n",
      "../../../../env/lib/python3.8/site-packages/geopandas/_compat.py:228\n",
      "../../../../env/lib/python3.8/site-packages/geopandas/_compat.py:228\n",
      "  /env/lib/python3.8/site-packages/geopandas/_compat.py:228: DeprecationWarning: distutils Version classes are deprecated. Use packaging.version instead.\n",
      "    PYPROJ_GE_31 = LooseVersion(pyproj.__version__) >= LooseVersion(\"3.1\")\n",
      "\n",
      "../../../../env/lib/python3.8/site-packages/datacube/utils/geometry/_base.py:157\n",
      "../../../../env/lib/python3.8/site-packages/datacube/utils/geometry/_base.py:157\n",
      "  /env/lib/python3.8/site-packages/datacube/utils/geometry/_base.py:157: DeprecationWarning: distutils Version classes are deprecated. Use packaging.version instead.\n",
      "    DEFAULT_WKT_VERSION = (WktVersion.WKT1_GDAL if LooseVersion(rasterio.__gdal_version__) < LooseVersion(\"3.0.0\")\n",
      "\n",
      "../../../../env/lib/python3.8/site-packages/rasterstats/io.py:24\n",
      "../../../../env/lib/python3.8/site-packages/rasterstats/io.py:24\n",
      "  /env/lib/python3.8/site-packages/rasterstats/io.py:24: DeprecationWarning: Using or importing the ABCs from 'collections' instead of from 'collections.abc' is deprecated since Python 3.3, and in 3.10 it will stop working\n",
      "    from collections import Iterable, Mapping\n",
      "\n",
      "../../../../env/lib/python3.8/site-packages/matplotlib/__init__.py:152\n",
      "../../../../env/lib/python3.8/site-packages/matplotlib/__init__.py:152\n",
      "../../../../env/lib/python3.8/site-packages/matplotlib/__init__.py:152\n",
      "../../../../env/lib/python3.8/site-packages/matplotlib/__init__.py:152\n",
      "../../../../env/lib/python3.8/site-packages/matplotlib/__init__.py:152\n",
      "  /env/lib/python3.8/site-packages/matplotlib/__init__.py:152: DeprecationWarning: distutils Version classes are deprecated. Use packaging.version instead.\n",
      "    if LooseVersion(module.__version__) < minver:\n",
      "\n",
      "../../../../env/lib/python3.8/site-packages/skimage/restoration/inpaint.py:6\n",
      "  /env/lib/python3.8/site-packages/skimage/restoration/inpaint.py:6: DeprecationWarning: Please use `laplace` from the `scipy.ndimage` namespace, the `scipy.ndimage.filters` namespace is deprecated.\n",
      "    from scipy.ndimage.filters import laplace\n",
      "\n",
      "../../../../env/lib/python3.8/site-packages/skimage/filters/_unsharp_mask.py:2\n",
      "  /env/lib/python3.8/site-packages/skimage/filters/_unsharp_mask.py:2: DeprecationWarning: Please use `gaussian_filter` from the `scipy.ndimage` namespace, the `scipy.ndimage.filters` namespace is deprecated.\n",
      "    from scipy.ndimage.filters import gaussian_filter\n",
      "\n",
      "tests/test_coastline.py::test_generate_rasters_cli\n",
      "  /env/lib/python3.8/site-packages/datacube/virtual/impl.py:662: PendingDeprecationWarning: Dataset.apply may be deprecated in the future. Using Dataset.map is encouraged\n",
      "    return result.apply(lambda x: x.chunk({dim: load_settings['dask_chunks'][dim]}), keep_attrs=True)\n",
      "\n",
      "tests/test_coastline.py::test_generate_rasters_cli\n",
      "  /env/lib/python3.8/site-packages/odc/algo/_masking.py:115: PendingDeprecationWarning: Dataset.apply may be deprecated in the future. Using Dataset.map is encouraged\n",
      "    return x.apply(lambda x: erase_bad(x, where, inplace=inplace), keep_attrs=True)\n",
      "\n",
      "tests/test_coastline.py: 21 warnings\n",
      "  /home/jovyan/Robbi/dea-coastlines/coastlines/vector.py:134: DeprecationWarning: open_rasterio is Deprecated in favor of rioxarray. For information about transitioning, see: https://corteva.github.io/rioxarray/stable/getting_started/getting_started.html\n",
      "    layer_da = xr.concat([xr.open_rasterio(i) for i in paths], dim=time_var)\n",
      "\n",
      "tests/test_coastline.py::test_generate_vector_cli\n",
      "  /env/lib/python3.8/site-packages/pyproj/crs/crs.py:131: FutureWarning: '+init=<authority>:<code>' syntax is deprecated. '<authority>:<code>' is the preferred initialization method. When making the change, be mindful of axis order changes: https://pyproj4.github.io/pyproj/stable/gotchas.html#axis-order-changes-in-proj-6\n",
      "    in_crs_string = _prepare_from_proj_string(in_crs_string)\n",
      "\n",
      "tests/test_coastline.py::test_generate_vector_cli\n",
      "  /home/jovyan/Robbi/dea-coastlines/coastlines/vector.py:316: PendingDeprecationWarning: GroupBy.apply may be deprecated in the future. Using GroupBy.map is encouraged\n",
      "    temporal_mask = label_neighbour_ds.groupby(\"year\").apply(\n",
      "\n",
      "tests/test_coastline.py::test_generate_vector_cli\n",
      "tests/test_coastline.py::test_generate_vector_cli\n",
      "tests/test_coastline.py::test_generate_vector_cli\n",
      "  /env/lib/python3.8/site-packages/pandas/core/dtypes/cast.py:118: ShapelyDeprecationWarning: The array interface is deprecated and will no longer work in Shapely 2.0. Convert the '.coords' to a numpy array instead.\n",
      "    arr = construct_1d_object_array_from_listlike(values)\n",
      "\n",
      "tests/test_coastline.py: 26 warnings\n",
      "  /env/lib/python3.8/site-packages/geopandas/io/file.py:389: DeprecationWarning: distutils Version classes are deprecated. Use packaging.version instead.\n",
      "    if LooseVersion(gdal_version) >= LooseVersion(\"3.0.0\") and crs:\n",
      "\n",
      "-- Docs: https://docs.pytest.org/en/stable/how-to/capture-warnings.html\n",
      "\u001b[33m================== \u001b[32m3 passed\u001b[0m, \u001b[33m\u001b[1m98 warnings\u001b[0m\u001b[33m in 102.22s (0:01:42)\u001b[0m\u001b[33m ==================\u001b[0m\n"
     ]
    }
   ],
   "source": [
    "!python -m pytest tests/ -v"
   ]
  },
  {
   "cell_type": "markdown",
   "metadata": {},
   "source": [
    "## Extract style table from GeoPackage"
   ]
  },
  {
   "cell_type": "code",
   "execution_count": null,
   "metadata": {},
   "outputs": [],
   "source": [
    "import zipfile\n",
    "with zipfile.ZipFile('../coastlines_v0.2.2.zip', 'r') as zip_ref:\n",
    "    zip_ref.extractall()"
   ]
  },
  {
   "cell_type": "code",
   "execution_count": null,
   "metadata": {},
   "outputs": [],
   "source": [
    "# Load 'layer_styles' from geopackage and export as a CSV\n",
    "layer = gpd.read_file(\"coastlines_v0.0.2 (1).gpkg\", layer=\"layer_styles\")\n",
    "layer.drop(['geometry'], axis=1).to_csv('coastlines/styles.csv', index=False)"
   ]
  },
  {
   "cell_type": "markdown",
   "metadata": {},
   "source": [
    "## View output files on S3"
   ]
  },
  {
   "cell_type": "code",
   "execution_count": null,
   "metadata": {},
   "outputs": [],
   "source": [
    "# !aws s3 --no-sign-request --region=af-south-1 ls --recursive s3://deafrica-data-dev-af/coastlines/ | grep '.gpkg$'"
   ]
  },
  {
   "cell_type": "code",
   "execution_count": null,
   "metadata": {},
   "outputs": [],
   "source": [
    "# !aws s3 --no-sign-request --region=af-south-1 ls --recursive s3://deafrica-data-staging-af/coastlines/\n"
   ]
  },
  {
   "cell_type": "markdown",
   "metadata": {},
   "source": [
    "## Run status per tile from Argo YAML"
   ]
  },
  {
   "cell_type": "code",
   "execution_count": null,
   "metadata": {},
   "outputs": [],
   "source": [
    "import pandas as pd\n",
    "import yaml\n",
    "from yaml import SafeLoader\n",
    "\n",
    "# Load Argo job status\n",
    "with open('run_status_30nodes_codefix.yaml') as f:\n",
    "    data = yaml.load(f, Loader=SafeLoader)\n",
    "\n",
    "# Keep only jobs with valid inputs    \n",
    "data_cleaned = {a:b for a, b in data['status']['nodes'].items() if 'inputs' in b}\n",
    "\n",
    "# Obtain error code or missing error code for each job\n",
    "df = pd.DataFrame(\n",
    "    [\n",
    "        (b[\"inputs\"][\"parameters\"][0][\"value\"], b[\"outputs\"][\"exitCode\"], b[\"startedAt\"], b[\"finishedAt\"])\n",
    "        if \"outputs\" in b\n",
    "        else (b[\"inputs\"][\"parameters\"][0][\"value\"], None)\n",
    "        for a, b in data_cleaned.items()\n",
    "    ],\n",
    "    columns=[\"id\", \"error\", \"startedAt\", \"finishedAt\"],\n",
    ")\n",
    "\n",
    "# # Drop non-tiles\n",
    "df = df.loc[~df.id.isin(['v0.0.1', 'bottleneck', 'bottleneck2', '48km_tiles', '96km_tiles', \n",
    "                         'https://dea-public-data.s3.ap-southeast-2.amazonaws.com/derivative/dea_coastlines/supplementary/ga_summary_grid_c3_32km_coastal.geojson', \n",
    "                         'https://dea-public-data.s3.ap-southeast-2.amazonaws.com/derivative/dea_coastlines/supplementary/ga_summary_grid_c3_48km_coastal.geojson',\n",
    "                         'https://dea-public-data.s3.ap-southeast-2.amazonaws.com/derivative/dea_coastlines/supplementary/ga_summary_grid_c3_coastal_clipped.geojson'])]\n",
    "\n",
    "# Calculate duration\n",
    "df['id'] = df.id.astype(int)\n",
    "df['startedAt'] = pd.to_datetime(df['startedAt'])\n",
    "df['finishedAt'] = pd.to_datetime(df['finishedAt'])\n",
    "df['duration'] = df['finishedAt'] - df['startedAt']\n",
    "\n",
    "# Set up logical errors\n",
    "df['error'] = df['error'].replace({None: 2, '1': 1, '0': 0, '137': 137})\n",
    "\n",
    "# Group and combine multiple runs into one\n",
    "overall_df = df.loc[df.groupby('id')['error'].idxmin()]\n",
    "# overall_df['retries'] = df.groupby('id')['error'].nunique()\n",
    "overall_df['duration'] = overall_df.duration.dt.seconds / 60\n",
    "\n",
    "# Export to geoJSON\n",
    "# tiles_gdf = gpd.read_file('https://dea-public-data.s3.ap-southeast-2.amazonaws.com/derivative/dea_coastlines/supplementary/ga_summary_grid_c3_32km_coastal.geojson')\n",
    "# tiles_gdf.merge(overall_df, on='id').to_file('test.geojson')"
   ]
  },
  {
   "cell_type": "code",
   "execution_count": null,
   "metadata": {},
   "outputs": [],
   "source": []
  },
  {
   "cell_type": "code",
   "execution_count": null,
   "metadata": {},
   "outputs": [],
   "source": [
    "ids = [860, 866, 867, 872, 873, 876, 878, 881, 883, 884, 887, 888, 892, 893, 897, 902, 903, 906, 907, 910, 912, 913, 915, 917, 929, 930, 940, 952, 953, 966, 967, 968, 976, 977, 978, 986, 987, 988, 989, 995, 996, 997, 998, 999, 1005, 1006, 1007, 1008, 1015, 1016, 1017, 1018, 1019, 1020, 1021, 1022, 1023, 1037, 1038, 1039, 1040, 1041, 1042, 1043, 1044, 1045, 1060, 1061, 1062, 1063, 1064, 1065, 1066, 1067, 1074, 1075, 1076, 1077, 1078, 1079, 1080, 1081, 1082, 1083, 1084, 1085, 1090, 1091, 1092, 1093, 1094, 1095, 1096, 1097, 1098, 1104, 1105, 1106, 1107, 1108, 1109, 1110, 1111, 1112, 1121, 1122, 1123, 1124, 1125, 1126, 1127, 1128, 1135, 1136, 1137, 1138, 1139, 1140, 1141, 1142, 1143, 1144, 1145, 1146, 1147, 1148, 1149, 1150, 1151, 1152, 1153, 1154, 1155, 1156, 1157, 1158, 1159, 1160, 1161, 1162, 1163, 1164, 1165, 1166, 1167, 1168, 1169, 1170, 1171, 1172, 1173, 1174, 1175, 1176, 1177, 1178, 1179, 1180, 1181, 1182, 1183, 1184, 1185, 1186, 1187, 1188, 1189, 1190, 1191, 1192, 1193, 1194, 1195, 1196, 1197, 1198, 1199, 1200, 1201, 1202, 1203, 1204, 1205, 1206, 1207, 1208, 1209, 1210, 1211, 1212, 1213, 1214, 1215, 1216, 1217, 1218, 1219, 1220, 1222, 1223]"
   ]
  },
  {
   "cell_type": "code",
   "execution_count": null,
   "metadata": {},
   "outputs": [],
   "source": [
    "# ids = ids[0:100]\n",
    "# ids = [1097]\n",
    "\n",
    "df_subset = df.loc[df.id.isin(ids)]\n",
    "# df_subset = df\n"
   ]
  },
  {
   "cell_type": "code",
   "execution_count": null,
   "metadata": {},
   "outputs": [],
   "source": [
    "(df_subset.groupby('id')['duration'].max().dt.seconds/60).plot.hist(xlim=(0, 100))"
   ]
  },
  {
   "cell_type": "code",
   "execution_count": null,
   "metadata": {},
   "outputs": [],
   "source": [
    "(df_subset.groupby('id')['duration'].max().dt.seconds/60).plot.hist(xlim=(0, 100))"
   ]
  },
  {
   "cell_type": "code",
   "execution_count": null,
   "metadata": {},
   "outputs": [],
   "source": [
    "(df_subset.groupby('id')['duration'].max().dt.seconds/60).plot.hist(xlim=(0, 100))"
   ]
  },
  {
   "cell_type": "code",
   "execution_count": null,
   "metadata": {},
   "outputs": [],
   "source": [
    "df_subset.groupby('id')['duration'].max().median()"
   ]
  },
  {
   "cell_type": "code",
   "execution_count": null,
   "metadata": {},
   "outputs": [],
   "source": [
    "df_subset.groupby('id')['duration'].max().median()"
   ]
  },
  {
   "cell_type": "code",
   "execution_count": null,
   "metadata": {},
   "outputs": [],
   "source": [
    "df_subset.groupby('id')['duration'].max().median()"
   ]
  },
  {
   "cell_type": "code",
   "execution_count": null,
   "metadata": {},
   "outputs": [],
   "source": [
    "out = df_subset.groupby('id')['duration'].max().sum()\n",
    "out"
   ]
  },
  {
   "cell_type": "code",
   "execution_count": null,
   "metadata": {},
   "outputs": [],
   "source": [
    "out = df_subset.groupby('id')['duration'].max().sum()\n",
    "out"
   ]
  },
  {
   "cell_type": "code",
   "execution_count": null,
   "metadata": {},
   "outputs": [],
   "source": [
    "out = df_subset.groupby('id')['duration'].max().sum()\n",
    "out"
   ]
  },
  {
   "cell_type": "code",
   "execution_count": null,
   "metadata": {},
   "outputs": [],
   "source": [
    "(out.total_seconds() / 60.0 / 60.0) * 1.2"
   ]
  },
  {
   "cell_type": "code",
   "execution_count": null,
   "metadata": {},
   "outputs": [],
   "source": [
    "(out.total_seconds() / 60.0 / 60.0) * 0.6 "
   ]
  },
  {
   "cell_type": "code",
   "execution_count": null,
   "metadata": {},
   "outputs": [],
   "source": [
    "(out.total_seconds() / 60.0 / 60.0) * 0.6"
   ]
  },
  {
   "cell_type": "code",
   "execution_count": null,
   "metadata": {},
   "outputs": [],
   "source": [
    "(df_max_nodes_30_codefix.groupby('id')['duration'].max().dt.seconds/60).plot.hist(xlim=(0, 60))"
   ]
  },
  {
   "cell_type": "code",
   "execution_count": null,
   "metadata": {},
   "outputs": [],
   "source": [
    "df_max_nodes_30_codefix.groupby('id')['duration'].max().median()"
   ]
  },
  {
   "cell_type": "code",
   "execution_count": null,
   "metadata": {},
   "outputs": [],
   "source": [
    "df_max_nodes_150 = df_subset\n",
    "(df_max_nodes_150.groupby('id')['duration'].max().dt.seconds/60).plot.hist(xlim=(0, 400))"
   ]
  },
  {
   "cell_type": "code",
   "execution_count": null,
   "metadata": {},
   "outputs": [],
   "source": [
    "df_subset.groupby('id')['duration'].max().median()"
   ]
  },
  {
   "cell_type": "code",
   "execution_count": null,
   "metadata": {},
   "outputs": [],
   "source": [
    "df_subset.duration.mean()"
   ]
  },
  {
   "cell_type": "code",
   "execution_count": null,
   "metadata": {},
   "outputs": [],
   "source": [
    "data_cleaned['dea-coastlines-flhfc-1000208692']"
   ]
  },
  {
   "cell_type": "code",
   "execution_count": null,
   "metadata": {},
   "outputs": [],
   "source": [
    "df['error'].unique()"
   ]
  },
  {
   "cell_type": "markdown",
   "metadata": {},
   "source": [
    "***\n",
    "\n",
    "## Additional information"
   ]
  },
  {
   "cell_type": "markdown",
   "metadata": {},
   "source": [
    "**License:** The code in this notebook is licensed under the [Apache License, Version 2.0](https://www.apache.org/licenses/LICENSE-2.0). \n",
    "Digital Earth Australia data is licensed under the [Creative Commons by Attribution 4.0](https://creativecommons.org/licenses/by/4.0/) license.\n",
    "\n",
    "**Contact:** For assistance with any of the Python code or Jupyter Notebooks in this repository, please post a [Github issue](https://github.com/GeoscienceAustralia/dea-coastlines/issues/new).\n",
    "\n",
    "**Last modified:** November 2022\n",
    "\n",
    "**To cite:**\n",
    "\n",
    "> Bishop-Taylor, R., Nanson, R., Sagar, S., Lymburner, L. (2021). Mapping Australia's dynamic coastline at mean sea level using three decades of Landsat imagery. Remote Sensing of Environment, 267, 112734. Available: https://doi.org/10.1016/j.rse.2021.112734\n",
    ">\n",
    "> Nanson, R., Bishop-Taylor, R., Sagar, S., Lymburner, L., (2022). Geomorphic insights into Australia's coastal change using a national dataset derived from the multi-decadal Landsat archive. Estuarine, Coastal and Shelf Science, 265, p.107712. Available: https://doi.org/10.1016/j.ecss.2021.107712\n",
    ">\n",
    "> Bishop-Taylor, R., Sagar, S., Lymburner, L., Alam, I., Sixsmith, J. (2019). Sub-pixel waterline extraction: characterising accuracy and sensitivity to indices and spectra. Remote Sensing, 11 (24):2984. Available: https://doi.org/10.3390/rs11242984"
   ]
  }
 ],
 "metadata": {
  "kernelspec": {
   "display_name": "Python 3 (ipykernel)",
   "language": "python",
   "name": "python3"
  },
  "language_info": {
   "codemirror_mode": {
    "name": "ipython",
    "version": 3
   },
   "file_extension": ".py",
   "mimetype": "text/x-python",
   "name": "python",
   "nbconvert_exporter": "python",
   "pygments_lexer": "ipython3",
   "version": "3.8.10"
  },
  "widgets": {
   "application/vnd.jupyter.widget-state+json": {
    "state": {},
    "version_major": 2,
    "version_minor": 0
   }
  }
 },
 "nbformat": 4,
 "nbformat_minor": 4
}
