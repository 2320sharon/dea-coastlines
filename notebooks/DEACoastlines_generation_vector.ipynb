{
 "cells": [
  {
   "cell_type": "markdown",
   "metadata": {
    "tags": []
   },
   "source": [
    "# DEA Coastlines vector statistics <img align=\"right\" src=\"https://github.com/GeoscienceAustralia/dea-notebooks/raw/develop/Supplementary_data/dea_logo.jpg\">\n",
    "\n",
    "This code conducts vector subpixel shoreline extraction for DEA Coastlines:\n",
    "\n",
    "* Apply morphological extraction algorithms to mask annual median composite rasters to a valid coastal region\n",
    "* Extract waterline vectors using subpixel waterline extraction ([Bishop-Taylor et al. 2019b](https://doi.org/10.3390/rs11242984))\n",
    "* Compute rates of coastal change at every 30 m using linear regression\n",
    "\n",
    "This is an interactive version of the code intended for prototyping; to run this analysis at scale, use the [command line tools](DEACoastlines_generation_CLI.ipynb).\n",
    "\n",
    "\n",
    "---"
   ]
  },
  {
   "cell_type": "markdown",
   "metadata": {},
   "source": [
    "## Getting started\n",
    "Set working directory to top level of repo to ensure links work correctly:"
   ]
  },
  {
   "cell_type": "code",
   "execution_count": 1,
   "metadata": {},
   "outputs": [
    {
     "name": "stdout",
     "output_type": "stream",
     "text": [
      "/home/jovyan/Robbi/dea-coastlines\n"
     ]
    }
   ],
   "source": [
    "cd .."
   ]
  },
  {
   "cell_type": "markdown",
   "metadata": {},
   "source": [
    "### Load packages\n",
    "\n",
    "First we import the required Python packages, then we connect to the database, and load the catalog of virtual products."
   ]
  },
  {
   "cell_type": "code",
   "execution_count": 2,
   "metadata": {},
   "outputs": [
    {
     "name": "stdout",
     "output_type": "stream",
     "text": [
      "\u001b[33mWARNING: You are using pip version 22.0.2; however, version 22.1.2 is available.\n",
      "You should consider upgrading via the '/env/bin/python -m pip install --upgrade pip' command.\u001b[0m\u001b[33m\n",
      "\u001b[0mNote: you may need to restart the kernel to use updated packages.\n"
     ]
    }
   ],
   "source": [
    "pip install -r requirements.in --quiet"
   ]
  },
  {
   "cell_type": "code",
   "execution_count": 3,
   "metadata": {},
   "outputs": [],
   "source": [
    "%matplotlib inline\n",
    "%load_ext line_profiler\n",
    "%load_ext autoreload\n",
    "%autoreload 2\n",
    "\n",
    "import os\n",
    "import sys\n",
    "import numpy as np\n",
    "import pandas as pd\n",
    "import geopandas as gpd\n",
    "import matplotlib.pyplot as plt\n",
    "from shapely.geometry import box\n",
    "from rasterio.transform import array_bounds\n",
    "from dea_tools.spatial import subpixel_contours\n",
    "\n",
    "# Load DEA Coastlines code\n",
    "import coastlines.raster\n",
    "import coastlines.vector\n",
    "\n",
    "# Hide Pandas warnings\n",
    "pd.options.mode.chained_assignment = None"
   ]
  },
  {
   "cell_type": "markdown",
   "metadata": {},
   "source": [
    "## Load in data"
   ]
  },
  {
   "cell_type": "code",
   "execution_count": 55,
   "metadata": {},
   "outputs": [],
   "source": [
    "study_area = 6727\n",
    "raster_version = \"testing\"\n",
    "vector_version = \"testing\"\n",
    "water_index = \"mndwi\"\n",
    "index_threshold = 0.00\n",
    "start_year = 1988\n",
    "end_year = 2021\n",
    "baseline_year = 2021\n",
    "\n",
    "# Load analysis params from config file\n",
    "config = coastlines.raster.load_config(\n",
    "    config_path=\"configs/dea_coastlines_config.yaml\"\n",
    ")"
   ]
  },
  {
   "cell_type": "markdown",
   "metadata": {},
   "source": [
    "## Load DEA Coastlines rasters"
   ]
  },
  {
   "cell_type": "code",
   "execution_count": 5,
   "metadata": {},
   "outputs": [
    {
     "name": "stdout",
     "output_type": "stream",
     "text": [
      "<xarray.Dataset>\n",
      "Dimensions:  (year: 34, y: 2131, x: 2063)\n",
      "Coordinates:\n",
      "  * year     (year) int64 1988 1989 1990 1991 1992 ... 2017 2018 2019 2020 2021\n",
      "  * y        (y) float64 -4.79e+06 -4.79e+06 -4.79e+06 ... -4.853e+06 -4.853e+06\n",
      "  * x        (x) float64 3.938e+05 3.938e+05 3.938e+05 ... 4.556e+05 4.556e+05\n",
      "Data variables:\n",
      "    mndwi    (year, y, x) float32 nan nan nan nan ... 0.354 0.2901 0.2622 0.2992\n",
      "    ndwi     (year, y, x) float32 nan nan nan nan ... 0.1595 0.1421 0.1226\n",
      "    tide_m   (year, y, x) float32 -0.01526 -0.01527 -0.01527 ... 0.02845 0.02849\n",
      "    count    (year, y, x) int16 0 0 0 0 0 0 0 0 0 ... 15 15 16 15 15 15 15 15 15\n",
      "    stdev    (year, y, x) float32 nan nan nan nan ... 0.2011 0.2606 0.2075\n",
      "Attributes:\n",
      "    transform:      | 30.00, 0.00, 393765.00|\\n| 0.00,-30.00,-4789515.00|\\n| ...\n",
      "    crs:            +init=epsg:32655\n",
      "    res:            (30.0, 30.0)\n",
      "    is_tiled:       1\n",
      "    nodatavals:     (nan,)\n",
      "    scales:         (1.0,)\n",
      "    offsets:        (0.0,)\n",
      "    AREA_OR_POINT:  Area\n"
     ]
    }
   ],
   "source": [
    "yearly_ds, gapfill_ds = coastlines.vector.load_rasters(\n",
    "    path=\"data/interim/raster\",\n",
    "    raster_version=raster_version,\n",
    "    study_area=study_area,\n",
    "    water_index=water_index,\n",
    "    start_year=start_year,\n",
    "    end_year=end_year,\n",
    ")\n",
    "print(yearly_ds)\n",
    "\n",
    "# Create output vector folder\n",
    "output_dir = f\"data/interim/vector/{vector_version}/{study_area}_{vector_version}\"\n",
    "os.makedirs(output_dir, exist_ok=True)"
   ]
  },
  {
   "cell_type": "markdown",
   "metadata": {},
   "source": [
    "## Load vector data"
   ]
  },
  {
   "cell_type": "code",
   "execution_count": 56,
   "metadata": {},
   "outputs": [],
   "source": [
    "# Get bounding box to load data for\n",
    "bbox = gpd.GeoSeries(\n",
    "    box(\n",
    "        *array_bounds(\n",
    "            height=yearly_ds.sizes[\"y\"],\n",
    "            width=yearly_ds.sizes[\"x\"],\n",
    "            transform=yearly_ds.transform,\n",
    "        )\n",
    "    ),\n",
    "    crs=yearly_ds.crs,\n",
    ")\n",
    "\n",
    "# Tide points\n",
    "tide_points_gdf = gpd.read_file(config[\"Input files\"][\"points_path\"], bbox=bbox).to_crs(\n",
    "    yearly_ds.crs\n",
    ")\n",
    "\n",
    "# Study area polygon\n",
    "gridcell_gdf = (\n",
    "    gpd.read_file(config[\"Input files\"][\"grid_path\"], bbox=bbox)\n",
    "    .set_index(\"id\")\n",
    "    .to_crs(str(yearly_ds.crs))\n",
    ")\n",
    "gridcell_gdf.index = gridcell_gdf.index.astype(int).astype(str)\n",
    "gridcell_gdf = gridcell_gdf.loc[[str(study_area)]]\n",
    "\n",
    "# # Coastal mask modifications\n",
    "# modifications_gdf = gpd.read_file(\n",
    "#     config[\"Input files\"][\"modifications_path\"], bbox=bbox\n",
    "# ).to_crs(str(yearly_ds.crs))\n",
    "\n",
    "# Geomorphology dataset\n",
    "geomorphology_gdf = gpd.read_file(\n",
    "    config[\"Input files\"][\"geomorphology_path\"], bbox=bbox\n",
    ").to_crs(str(yearly_ds.crs))\n",
    "\n",
    "# Region attribute dataset\n",
    "region_gdf = gpd.read_file(\n",
    "    config[\"Input files\"][\"region_attributes_path\"], bbox=bbox\n",
    ").to_crs(str(yearly_ds.crs))"
   ]
  },
  {
   "cell_type": "markdown",
   "metadata": {},
   "source": [
    "## Extract annual shorelines\n",
    "\n",
    "### Restrict annual shorelines to coastal study area"
   ]
  },
  {
   "cell_type": "code",
   "execution_count": 7,
   "metadata": {},
   "outputs": [],
   "source": [
    "# Mask dataset to focus on coastal zone only\n",
    "masked_ds, certainty_masks = coastlines.vector.contours_preprocess(\n",
    "    yearly_ds,\n",
    "    gapfill_ds,\n",
    "    water_index,\n",
    "    index_threshold,\n",
    "    tide_points_gdf,\n",
    "    buffer_pixels=33,\n",
    "    mask_landcover=False,\n",
    "    mask_modifications=None, # modifications_gdf,\n",
    ")"
   ]
  },
  {
   "cell_type": "code",
   "execution_count": 17,
   "metadata": {},
   "outputs": [
    {
     "data": {
      "text/plain": [
       "<matplotlib.image.AxesImage at 0x7f8479db0fa0>"
      ]
     },
     "execution_count": 17,
     "metadata": {},
     "output_type": "execute_result"
    },
    {
     "data": {
      "image/png": "[encoded data removed]",
      "text/plain": [
       "<Figure size 432x288 with 2 Axes>"
      ]
     },
     "metadata": {
      "needs_background": "light"
     },
     "output_type": "display_data"
    }
   ],
   "source": [
    "# masked_ds.isel(year=-10).plot.imshow()"
   ]
  },
  {
   "cell_type": "code",
   "execution_count": 18,
   "metadata": {},
   "outputs": [
    {
     "data": {
      "text/plain": [
       "'0.18.3'"
      ]
     },
     "execution_count": 18,
     "metadata": {},
     "output_type": "execute_result"
    }
   ],
   "source": [
    "import skimage\n",
    "skimage.__version__"
   ]
  },
  {
   "cell_type": "code",
   "execution_count": 63,
   "metadata": {},
   "outputs": [],
   "source": [
    "# Extract contours\n",
    "contours_gdf = subpixel_contours(\n",
    "    da=masked_ds,\n",
    "    z_values=index_threshold+1e-12,\n",
    "    min_vertices=10,\n",
    "    dim=\"year\",\n",
    "    output_path=f\"temp.geojson\",\n",
    ").set_index(\"year\")"
   ]
  },
  {
   "cell_type": "markdown",
   "metadata": {},
   "source": [
    "## Compute statistics\n",
    "### Create stats points on baseline contour"
   ]
  },
  {
   "cell_type": "code",
   "execution_count": 20,
   "metadata": {},
   "outputs": [],
   "source": [
    "# Extract statistics modelling points along baseline contour\n",
    "points_gdf = coastlines.vector.points_on_line(contours_gdf, str(baseline_year), distance=30)"
   ]
  },
  {
   "cell_type": "markdown",
   "metadata": {},
   "source": [
    "### Measure annual coastline movements"
   ]
  },
  {
   "cell_type": "code",
   "execution_count": 21,
   "metadata": {},
   "outputs": [],
   "source": [
    "if points_gdf is not None and len(points_gdf) > 0:\n",
    "\n",
    "    # Calculate annual movements and residual tide heights for every\n",
    "    # contour compared to the baseline year\n",
    "    points_gdf = coastlines.vector.annual_movements(\n",
    "        points_gdf,\n",
    "        contours_gdf,\n",
    "        yearly_ds,\n",
    "        str(baseline_year),\n",
    "        water_index,\n",
    "        max_valid_dist=5000,\n",
    "    )"
   ]
  },
  {
   "cell_type": "markdown",
   "metadata": {},
   "source": [
    "### Calculate regressions"
   ]
  },
  {
   "cell_type": "code",
   "execution_count": 22,
   "metadata": {},
   "outputs": [],
   "source": [
    "if points_gdf is not None and len(points_gdf) > 0:\n",
    "\n",
    "    # Apply regression function to each row in dataset\n",
    "    points_gdf = coastlines.vector.calculate_regressions(points_gdf, contours_gdf)\n",
    "\n",
    "# Add count and span of valid obs, Shoreline Change Envelope (SCE),\n",
    "# Net Shoreline Movement (NSM) and Max/Min years\n",
    "stats_list = [\"valid_obs\", \"valid_span\", \"sce\", \"nsm\", \"max_year\", \"min_year\"]\n",
    "points_gdf[stats_list] = points_gdf.apply(\n",
    "    lambda x: coastlines.vector.all_time_stats(x, initial_year=start_year), axis=1\n",
    ")"
   ]
  },
  {
   "cell_type": "markdown",
   "metadata": {},
   "source": [
    "### Add certainty flags\n",
    "Add certainty column to flag points with:\n",
    "- Likely rocky shorelines: Rates of change can be unreliable in areas with steep rocky/bedrock shorelines due to terrain shadow.\n",
    "- Extreme rate of change value (> 50 m per year change) that is more likely to reflect modelling issues than real-world coastal change\n",
    "- High angular variability: the nearest shorelines for each year do not fall on an approximate line, making rates of change invalid\n",
    "- Insufficient observations: less than 25 valid annual shorelines, which make the resulting rates of change more likely to be inaccurate"
   ]
  },
  {
   "cell_type": "code",
   "execution_count": 52,
   "metadata": {},
   "outputs": [],
   "source": [
    "rocky = [\n",
    "    \"Bedrock breakdown debris (cobbles/boulders)\",\n",
    "    \"Boulder (rock) beach\",\n",
    "    \"Cliff (>5m) (undiff)\",\n",
    "    \"Colluvium (talus) undiff\",\n",
    "    \"Flat boulder deposit (rock) undiff\",\n",
    "    \"Hard bedrock shore\",\n",
    "    \"Hard bedrock shore inferred\",\n",
    "    \"Hard rock cliff (>5m)\",\n",
    "    \"Hard rocky shore platform\",\n",
    "    \"Rocky shore (undiff)\",\n",
    "    \"Rocky shore platform (undiff)\",\n",
    "    \"Sloping hard rock shore\",\n",
    "    \"Sloping rocky shore (undiff)\",\n",
    "    \"Soft `bedrock¿ cliff (>5m)\",\n",
    "    \"Steep boulder talus\",\n",
    "    \"Hard rocky shore platform\",\n",
    "]\n",
    "\n",
    "# Initialise certainty column with good values\n",
    "points_gdf[\"certainty\"] = \"good\"\n",
    "\n",
    "# Flag rocky shorelines\n",
    "points_gdf.loc[\n",
    "    coastlines.vector.rocky_shoreline_flag(\n",
    "        points_gdf,\n",
    "        geomorphology_gdf,\n",
    "        rocky_query=f\"(INTERTD1_V in {rocky}) & (INTERTD2_V in {rocky + ['Unclassified']})\",\n",
    "    ),\n",
    "    \"certainty\",\n",
    "] = \"likely rocky coastline\"\n",
    "\n",
    "# Flag extreme rates of change\n",
    "points_gdf.loc[\n",
    "    points_gdf.rate_time.abs() > 50, \"certainty\"\n",
    "] = \"extreme value (> 50 m)\"\n",
    "\n",
    "# Flag points where change does not fall on a line\n",
    "points_gdf.loc[points_gdf.angle_std > 30, \"certainty\"] = \"high angular variability\"\n",
    "\n",
    "# Flag shorelines with less than X valid shorelines\n",
    "points_gdf.loc[points_gdf.valid_obs < 25, \"certainty\"] = \"insufficient observations\""
   ]
  },
  {
   "cell_type": "markdown",
   "metadata": {},
   "source": [
    "### Add region attributes"
   ]
  },
  {
   "cell_type": "code",
   "execution_count": 61,
   "metadata": {},
   "outputs": [],
   "source": [
    "points_gdf = coastlines.vector.region_atttributes(\n",
    "    points_gdf, region_gdf, attribute_col=\"ID_Primary\", rename_col=\"id_primary\"\n",
    ")"
   ]
  },
  {
   "cell_type": "markdown",
   "metadata": {},
   "source": [
    "## Export files\n",
    "\n",
    "### Export stats files"
   ]
  },
  {
   "cell_type": "code",
   "execution_count": 50,
   "metadata": {},
   "outputs": [],
   "source": [
    "if points_gdf is not None:\n",
    "\n",
    "    # Set up scheme to optimise file size\n",
    "    schema_dict = {key: \"float:8.2\" for key in points_gdf.columns if key != \"geometry\"}\n",
    "    schema_dict.update(\n",
    "        {\n",
    "            \"sig_time\": \"float:8.3\",\n",
    "            \"outl_time\": \"str:80\",\n",
    "            \"angle_mean\": \"int:3\",\n",
    "            \"angle_std\": \"int:3\",\n",
    "            \"valid_obs\": \"int:4\",\n",
    "            \"valid_span\": \"int:4\",\n",
    "            \"max_year\": \"int:4\",\n",
    "            \"min_year\": \"int:4\",\n",
    "            \"certainty\": \"str:25\",\n",
    "            \"id_primary\": \"str:10\",\n",
    "        }\n",
    "    )\n",
    "    col_schema = schema_dict.items()\n",
    "\n",
    "    # Clip stats to study area extent\n",
    "    stats_path = (\n",
    "        f\"{output_dir}/ratesofchange_{study_area}_\"\n",
    "        f\"{vector_version}_{water_index}_{index_threshold:.2f}\"\n",
    "    )\n",
    "    points_gdf = points_gdf[points_gdf.intersects(gridcell_gdf.geometry.item())]\n",
    "\n",
    "    # Export to GeoJSON\n",
    "    points_gdf.to_crs(\"EPSG:4326\").to_file(f\"{stats_path}.geojson\", driver=\"GeoJSON\")\n",
    "\n",
    "    # Export as ESRI shapefiles\n",
    "    points_gdf.to_file(\n",
    "        f\"{stats_path}.shp\", schema={\"properties\": col_schema, \"geometry\": \"Point\"}\n",
    "    )"
   ]
  },
  {
   "cell_type": "markdown",
   "metadata": {},
   "source": [
    "### Export annual shorelines"
   ]
  },
  {
   "cell_type": "code",
   "execution_count": 64,
   "metadata": {},
   "outputs": [],
   "source": [
    "# Assign certainty to contours based on underlying masks\n",
    "contours_gdf = coastlines.vector.contour_certainty(contours_gdf, certainty_masks)\n",
    "\n",
    "# Add tide datum details (this supports future addition of extra tide datums)\n",
    "contours_gdf[\"tide_datum\"] = \"0 m AMSL (approx)\"\n",
    "\n",
    "# Add region attributes\n",
    "contours_gdf = coastlines.vector.region_atttributes(\n",
    "    contours_gdf, region_gdf, attribute_col=\"ID_Primary\", rename_col=\"id_primary\"\n",
    ")\n",
    "\n",
    "# Clip annual shoreline contours to study area extent\n",
    "contour_path = (\n",
    "    f\"{output_dir}/annualshorelines_{study_area}_{vector_version}_\"\n",
    "    f\"{water_index}_{index_threshold:.2f}\"\n",
    ")\n",
    "contours_gdf[\"geometry\"] = contours_gdf.intersection(gridcell_gdf.geometry.item())\n",
    "contours_gdf.reset_index().to_crs(\"EPSG:4326\").to_file(\n",
    "    f\"{contour_path}.geojson\", driver=\"GeoJSON\"\n",
    ")\n",
    "\n",
    "# Export stats and contours as ESRI shapefiles\n",
    "contours_gdf.reset_index().to_file(f\"{contour_path}.shp\")"
   ]
  },
  {
   "cell_type": "markdown",
   "metadata": {},
   "source": [
    "***\n",
    "\n",
    "## Additional information"
   ]
  },
  {
   "cell_type": "markdown",
   "metadata": {},
   "source": [
    "**License:** The code in this notebook is licensed under the [Apache License, Version 2.0](https://www.apache.org/licenses/LICENSE-2.0). \n",
    "Digital Earth Australia data is licensed under the [Creative Commons by Attribution 4.0](https://creativecommons.org/licenses/by/4.0/) license.\n",
    "\n",
    "**Contact:** For assistance with any of the Python code or Jupyter Notebooks in this repository, please post a [Github issue](https://github.com/GeoscienceAustralia/dea-coastlines/issues/new).\n",
    "\n",
    "**Last modified:** July 2022"
   ]
  }
 ],
 "metadata": {
  "kernelspec": {
   "display_name": "Python 3 (ipykernel)",
   "language": "python",
   "name": "python3"
  },
  "language_info": {
   "codemirror_mode": {
    "name": "ipython",
    "version": 3
   },
   "file_extension": ".py",
   "mimetype": "text/x-python",
   "name": "python",
   "nbconvert_exporter": "python",
   "pygments_lexer": "ipython3",
   "version": "3.8.10"
  },
  "widgets": {
   "application/vnd.jupyter.widget-state+json": {
    "state": {},
    "version_major": 2,
    "version_minor": 0
   }
  }
 },
 "nbformat": 4,
 "nbformat_minor": 4
}
