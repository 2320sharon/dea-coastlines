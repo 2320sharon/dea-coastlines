{
 "cells": [
  {
   "cell_type": "code",
   "execution_count": null,
   "metadata": {},
   "outputs": [],
   "source": [
    "# !unzip ../data/validation/validation_data.zip"
   ]
  },
  {
   "cell_type": "code",
   "execution_count": 1,
   "metadata": {},
   "outputs": [
    {
     "name": "stdout",
     "output_type": "stream",
     "text": [
      "/home/jovyan/Robbi/dea-coastlines\n"
     ]
    }
   ],
   "source": [
    "cd .."
   ]
  },
  {
   "cell_type": "code",
   "execution_count": 2,
   "metadata": {},
   "outputs": [],
   "source": [
    "%load_ext autoreload\n",
    "%autoreload 2\n",
    "\n",
    "import pandas as pd\n",
    "\n",
    "# Load DEA Coastlines code\n",
    "import coastlines.validation\n",
    "\n",
    "\n",
    "rename_dict = {\n",
    "    'Beachrock undiff': 'rocky',\n",
    "    'Beachrock undiff dominant': 'rocky',\n",
    "    'Boulder or shingle-grade beach undiff': 'rocky',\n",
    "    'Boulder groyne or breakwater undiff': 'rocky',\n",
    "    'Flat boulder deposit (rock) undiff': 'rocky',\n",
    "    'Hard bedrock shore': 'rocky',\n",
    "    'Hard bedrock shore inferred': 'rocky',\n",
    "    'Hard rock cliff (>5m)': 'rocky',\n",
    "    'Hard rocky shore platform': 'rocky',\n",
    "    'Rocky shore platform (undiff)': 'rocky',\n",
    "    'Sloping boulder deposit (rock) undiff': 'rocky',\n",
    "    'Sloping hard rock shore': 'rocky',\n",
    "    'Sloping soft `bedrock¿ shore': 'rocky',\n",
    "    'Sloping soft \\u2018bedrock\\u2019 shore': 'rocky',\n",
    "    'Soft `bedrock¿ shore inferred': 'rocky',\n",
    "    'Soft `bedrock¿ shore platform': 'rocky',\n",
    "    'Beach (sediment type undiff)': 'sandy',\n",
    "    'Fine-medium sand beach': 'sandy',\n",
    "    'Fine-medium sandy tidal flats': 'sandy',\n",
    "    'Mixed sand and shell beach': 'sandy',\n",
    "    'Mixed sandy shore undiff': 'sandy',\n",
    "    'Perched sandy beach (undiff)': 'sandy',\n",
    "    'Sandy beach undiff': 'sandy',\n",
    "    'Sandy beach with cobbles/pebbles (rock)': 'sandy',\n",
    "    'Sandy shore undiff': 'sandy',\n",
    "    'Sandy tidal flats': 'sandy',\n",
    "    'Sandy tidal flats with coarse stony debris': 'sandy',\n",
    "    'Sandy tidal flats, no bedrock protruding': 'sandy',\n",
    "    'Sloping coffee rock deposit': 'rocky',\n",
    "    'Muddy tidal flats': 'muddy',\n",
    "    'Tidal flats (sediment undiff)': 'muddy',\n",
    "    'Artificial shoreline undiff': 'rocky',\n",
    "    'Artificial boulder structures undiff': 'rocky',\n",
    "    'Boulder revetment': 'rocky',\n",
    "    'Boulder seawall': 'rocky',\n",
    "    'Concrete sea wall': 'rocky',\n",
    "    'Piles (Jetty)': 'rocky',\n",
    "    'Coarse sand beach': 'sandy'\n",
    "}\n"
   ]
  },
  {
   "cell_type": "code",
   "execution_count": null,
   "metadata": {},
   "outputs": [],
   "source": [
    "!wget https://dea-public-data-dev.s3-ap-southeast-2.amazonaws.com/derivative/dea_coastlines/v0.0.3/coastlines_v0.0.3.gpkg -P data/releases"
   ]
  },
  {
   "cell_type": "code",
   "execution_count": 10,
   "metadata": {},
   "outputs": [
    {
     "name": "stdout",
     "output_type": "stream",
     "text": [
      "--2023-02-01 23:49:36--  https://data.dea.ga.gov.au/derivative/dea_coastlines/1-1-0/DEACoastlines_gpkg_v1.1.0.zip\n",
      "Resolving data.dea.ga.gov.au (data.dea.ga.gov.au)... 18.67.111.81, 18.67.111.13, 18.67.111.49, ...\n",
      "Connecting to data.dea.ga.gov.au (data.dea.ga.gov.au)|18.67.111.81|:443... connected.\n",
      "HTTP request sent, awaiting response... 200 OK\n",
      "Length: 1407871591 (1.3G) [application/zip]\n",
      "Saving to: ‘data/releases/DEACoastlines_gpkg_v1.1.0.zip’\n",
      "\n",
      "DEACoastlines_gpkg_ 100%[===================>]   1.31G  45.6MB/s    in 27s     \n",
      "\n",
      "2023-02-01 23:50:04 (49.1 MB/s) - ‘data/releases/DEACoastlines_gpkg_v1.1.0.zip’ saved [1407871591/1407871591]\n",
      "\n"
     ]
    }
   ],
   "source": [
    "!wget https://data.dea.ga.gov.au/derivative/dea_coastlines/1-1-0/DEACoastlines_gpkg_v1.1.0.zip -P data/releases"
   ]
  },
  {
   "cell_type": "code",
   "execution_count": 11,
   "metadata": {},
   "outputs": [
    {
     "name": "stdout",
     "output_type": "stream",
     "text": [
      "Archive:  data/releases/DEACoastlines_gpkg_v1.1.0.zip\n",
      "  inflating: DEACoastlines_v1.1.0.gpkg  \n"
     ]
    }
   ],
   "source": [
    "!unzip data/releases/DEACoastlines_gpkg_v1.1.0.zip data/releases"
   ]
  },
  {
   "cell_type": "code",
   "execution_count": 32,
   "metadata": {},
   "outputs": [],
   "source": [
    "import glob\n",
    "\n",
    "val_paths = glob.glob('data/validation/interim/*2020test_narrabeen.csv')\n",
    "\n",
    "prefix = 'v0.0.3'\n",
    "deacl_path = 'data/releases/coastlines_v0.0.3.gpkg'\n",
    "layer_name = 'shorelines_annual'\n",
    "\n",
    "# prefix = 'v1.1.0'\n",
    "# deacl_path = 'data/releases/DEACoastlines_v1.1.0.gpkg'\n",
    "# layer_name = 'DEACoastlines_annualshorelines_v1.1.0'"
   ]
  },
  {
   "cell_type": "code",
   "execution_count": 16,
   "metadata": {},
   "outputs": [
    {
     "name": "stdout",
     "output_type": "stream",
     "text": [
      "data/validation/interim/2020test_narrabeen.csv                                  \r"
     ]
    },
    {
     "name": "stderr",
     "output_type": "stream",
     "text": [
      "/env/lib/python3.8/site-packages/pandas/core/dtypes/cast.py:118: ShapelyDeprecationWarning: The array interface is deprecated and will no longer work in Shapely 2.0. Convert the '.coords' to a numpy array instead.\n",
      "  arr = construct_1d_object_array_from_listlike(values)\n",
      "/env/lib/python3.8/site-packages/pandas/core/dtypes/cast.py:118: ShapelyDeprecationWarning: The array interface is deprecated and will no longer work in Shapely 2.0. Convert the '.coords' to a numpy array instead.\n",
      "  arr = construct_1d_object_array_from_listlike(values)\n"
     ]
    }
   ],
   "source": [
    "  \n",
    "# Non-parallel (for testing)\n",
    "for val_path in val_paths:\n",
    "#     try:\n",
    "    coastlines.validation.deacl_validation(val_path=val_path, deacl_path=deacl_path, datum=0, prefix=prefix, overwrite=True, layer_name=layer_name)\n",
    "#     except:\n",
    "#         print"
   ]
  },
  {
   "cell_type": "code",
   "execution_count": 12,
   "metadata": {},
   "outputs": [],
   "source": [
    "# from concurrent.futures import ProcessPoolExecutor\n",
    "# from tqdm import tqdm\n",
    "# from itertools import repeat\n",
    "\n",
    "# args = [deacl_path, 0, prefix, True]\n",
    "\n",
    "# with ProcessPoolExecutor() as executor:\n",
    "\n",
    "#     # Apply func in parallel\n",
    "#     groups = val_paths\n",
    "#     to_iterate = (groups, *(repeat(i, len(groups)) for i in args))\n",
    "#     tqdm(executor.map(coastlines.validation.deacl_validation, *to_iterate), total=len(groups))\n"
   ]
  },
  {
   "cell_type": "code",
   "execution_count": 30,
   "metadata": {},
   "outputs": [
    {
     "name": "stdout",
     "output_type": "stream",
     "text": [
      "Combining data\n"
     ]
    },
    {
     "data": {
      "text/plain": [
       "n        2669.000\n",
       "mae         4.140\n",
       "rmse        5.470\n",
       "stdev       5.490\n",
       "corr        0.976\n",
       "bias       -2.640\n",
       "dtype: float64"
      ]
     },
     "execution_count": 30,
     "metadata": {},
     "output_type": "execute_result"
    }
   ],
   "source": [
    "# Load all results into a single file\n",
    "print('Combining data')\n",
    "stats_list = glob.glob(f'data/validation/processed/{prefix}_*.csv')\n",
    "stats_df = pd.concat([pd.read_csv(csv) for csv in stats_list])\n",
    "\n",
    "# Rename smartline categories to smaller subset\n",
    "stats_df['smartline'] = stats_df.smartline.replace(rename_dict)\n",
    "\n",
    "# Export to file\n",
    "# stats_df.to_csv('deacl_results.csv', index=False)\n",
    "\n",
    "# Run stats\n",
    "coastlines.validation.deacl_val_stats(stats_df.val_dist,\n",
    "                          stats_df.deacl_dist,\n",
    "                          n=stats_df.n,\n",
    "                          remove_bias=True)"
   ]
  },
  {
   "cell_type": "code",
   "execution_count": 31,
   "metadata": {},
   "outputs": [],
   "source": [
    "v111 = stats_df.groupby('year').apply(lambda x: coastlines.validation.deacl_val_stats(x.val_dist,\n",
    "                          x.deacl_dist,\n",
    "                          n=x.n,\n",
    "                          remove_bias=True))"
   ]
  },
  {
   "cell_type": "code",
   "execution_count": 33,
   "metadata": {},
   "outputs": [
    {
     "name": "stdout",
     "output_type": "stream",
     "text": [
      "Combining data\n"
     ]
    },
    {
     "data": {
      "text/plain": [
       "n        2669.000\n",
       "mae         4.160\n",
       "rmse        5.550\n",
       "stdev       5.570\n",
       "corr        0.975\n",
       "bias       -2.630\n",
       "dtype: float64"
      ]
     },
     "execution_count": 33,
     "metadata": {},
     "output_type": "execute_result"
    }
   ],
   "source": [
    "# Load all results into a single file\n",
    "print('Combining data')\n",
    "stats_list = glob.glob(f'data/validation/processed/{prefix}_*.csv')\n",
    "stats_df = pd.concat([pd.read_csv(csv) for csv in stats_list])\n",
    "\n",
    "# Rename smartline categories to smaller subset\n",
    "stats_df['smartline'] = stats_df.smartline.replace(rename_dict)\n",
    "\n",
    "# Export to file\n",
    "# stats_df.to_csv('deacl_results.csv', index=False)\n",
    "\n",
    "# Run stats\n",
    "coastlines.validation.deacl_val_stats(stats_df.val_dist,\n",
    "                          stats_df.deacl_dist,\n",
    "                          n=stats_df.n,\n",
    "                          remove_bias=True)"
   ]
  },
  {
   "cell_type": "code",
   "execution_count": 34,
   "metadata": {},
   "outputs": [],
   "source": [
    "v200 = stats_df.groupby('year').apply(lambda x: coastlines.validation.deacl_val_stats(x.val_dist,\n",
    "                          x.deacl_dist,\n",
    "                          n=x.n,\n",
    "                          remove_bias=True))"
   ]
  },
  {
   "cell_type": "code",
   "execution_count": 40,
   "metadata": {},
   "outputs": [
    {
     "data": {
      "text/plain": [
       "<AxesSubplot:xlabel='year'>"
      ]
     },
     "execution_count": 40,
     "metadata": {},
     "output_type": "execute_result"
    },
    {
     "data": {
      "image/png": "[encoded data removed]",
      "text/plain": [
       "<Figure size 432x288 with 1 Axes>"
      ]
     },
     "metadata": {
      "needs_background": "light"
     },
     "output_type": "display_data"
    }
   ],
   "source": [
    "v111.rmse.rename('v1.1.0').plot(legend=True)\n",
    "v200.rmse.rename('v2.0.0').plot(legend=True)"
   ]
  },
  {
   "cell_type": "code",
   "execution_count": 61,
   "metadata": {},
   "outputs": [
    {
     "data": {
      "text/html": [
       "<div>\n",
       "<style scoped>\n",
       "    .dataframe tbody tr th:only-of-type {\n",
       "        vertical-align: middle;\n",
       "    }\n",
       "\n",
       "    .dataframe tbody tr th {\n",
       "        vertical-align: top;\n",
       "    }\n",
       "\n",
       "    .dataframe thead th {\n",
       "        text-align: right;\n",
       "    }\n",
       "</style>\n",
       "<table border=\"1\" class=\"dataframe\">\n",
       "  <thead>\n",
       "    <tr style=\"text-align: right;\">\n",
       "      <th></th>\n",
       "      <th>n</th>\n",
       "      <th>Bias (m)</th>\n",
       "      <th>MAE (m)</th>\n",
       "      <th>RMSE (m)</th>\n",
       "      <th>SD (m)</th>\n",
       "      <th>Correlation</th>\n",
       "    </tr>\n",
       "    <tr>\n",
       "      <th>smartline</th>\n",
       "      <th></th>\n",
       "      <th></th>\n",
       "      <th></th>\n",
       "      <th></th>\n",
       "      <th></th>\n",
       "      <th></th>\n",
       "    </tr>\n",
       "  </thead>\n",
       "  <tbody>\n",
       "    <tr>\n",
       "      <th>sandy</th>\n",
       "      <td>2451</td>\n",
       "      <td>-7.9</td>\n",
       "      <td>10.0 (5.9)</td>\n",
       "      <td>11.5 (8.4)</td>\n",
       "      <td>8.4</td>\n",
       "      <td>0.961</td>\n",
       "    </tr>\n",
       "  </tbody>\n",
       "</table>\n",
       "</div>"
      ],
      "text/plain": [
       "              n  Bias (m)     MAE (m)    RMSE (m)  SD (m)  Correlation\n",
       "smartline                                                             \n",
       "sandy      2451      -7.9  10.0 (5.9)  11.5 (8.4)     8.4        0.961"
      ]
     },
     "execution_count": 61,
     "metadata": {},
     "output_type": "execute_result"
    }
   ],
   "source": [
    "# Stats by substrate, no bias correction\n",
    "by_smartline = stats_df.query(\"n >= 22\").groupby('smartline').apply(\n",
    "    lambda x: coastlines.validation.deacl_val_stats(x.val_dist, x.deacl_dist, x.n))\n",
    "by_smartline_nobias = stats_df.query(\"n >= 22\").groupby('smartline').apply(\n",
    "    lambda x: coastlines.validation.deacl_val_stats(x.val_dist, x.deacl_dist, x.n, True))\n",
    "\n",
    "out = coastlines.validation.rse_tableformat(by_smartline, by_smartline_nobias, 'smartline')\n",
    "out"
   ]
  },
  {
   "cell_type": "code",
   "execution_count": 62,
   "metadata": {},
   "outputs": [
    {
     "data": {
      "text/html": [
       "<div>\n",
       "<style scoped>\n",
       "    .dataframe tbody tr th:only-of-type {\n",
       "        vertical-align: middle;\n",
       "    }\n",
       "\n",
       "    .dataframe tbody tr th {\n",
       "        vertical-align: top;\n",
       "    }\n",
       "\n",
       "    .dataframe thead th {\n",
       "        text-align: right;\n",
       "    }\n",
       "</style>\n",
       "<table border=\"1\" class=\"dataframe\">\n",
       "  <thead>\n",
       "    <tr style=\"text-align: right;\">\n",
       "      <th></th>\n",
       "      <th>n</th>\n",
       "      <th>Bias (m)</th>\n",
       "      <th>MAE (m)</th>\n",
       "      <th>RMSE (m)</th>\n",
       "      <th>SD (m)</th>\n",
       "      <th>Correlation</th>\n",
       "    </tr>\n",
       "    <tr>\n",
       "      <th>smartline</th>\n",
       "      <th></th>\n",
       "      <th></th>\n",
       "      <th></th>\n",
       "      <th></th>\n",
       "      <th></th>\n",
       "      <th></th>\n",
       "    </tr>\n",
       "  </thead>\n",
       "  <tbody>\n",
       "    <tr>\n",
       "      <th>sandy</th>\n",
       "      <td>55197</td>\n",
       "      <td>1.0</td>\n",
       "      <td>11.4 (11.4)</td>\n",
       "      <td>16.1 (16.1)</td>\n",
       "      <td>16.1</td>\n",
       "      <td>0.991</td>\n",
       "    </tr>\n",
       "    <tr>\n",
       "      <th>rocky</th>\n",
       "      <td>2827</td>\n",
       "      <td>-9.6</td>\n",
       "      <td>14.1 (10.5)</td>\n",
       "      <td>18.9 (16.3)</td>\n",
       "      <td>16.3</td>\n",
       "      <td>0.997</td>\n",
       "    </tr>\n",
       "    <tr>\n",
       "      <th>muddy</th>\n",
       "      <td>1539</td>\n",
       "      <td>-9.4</td>\n",
       "      <td>16.8 (16.5)</td>\n",
       "      <td>26.7 (25.0)</td>\n",
       "      <td>25.0</td>\n",
       "      <td>0.961</td>\n",
       "    </tr>\n",
       "  </tbody>\n",
       "</table>\n",
       "</div>"
      ],
      "text/plain": [
       "               n  Bias (m)      MAE (m)     RMSE (m)  SD (m)  Correlation\n",
       "smartline                                                                \n",
       "sandy      55197       1.0  11.4 (11.4)  16.1 (16.1)    16.1        0.991\n",
       "rocky       2827      -9.6  14.1 (10.5)  18.9 (16.3)    16.3        0.997\n",
       "muddy       1539      -9.4  16.8 (16.5)  26.7 (25.0)    25.0        0.961"
      ]
     },
     "execution_count": 62,
     "metadata": {},
     "output_type": "execute_result"
    }
   ],
   "source": [
    "# Stats by substrate, no bias correction\n",
    "by_smartline = stats_df.query(\"n < 22\").groupby('smartline').apply(\n",
    "    lambda x: coastlines.validation.deacl_val_stats(x.val_dist, x.deacl_dist, x.n))\n",
    "by_smartline_nobias = stats_df.query(\"n < 22\").groupby('smartline').apply(\n",
    "    lambda x: coastlines.validation.deacl_val_stats(x.val_dist, x.deacl_dist, x.n, True))\n",
    "\n",
    "out = coastlines.validation.rse_tableformat(by_smartline, by_smartline_nobias, 'smartline')\n",
    "out"
   ]
  },
  {
   "cell_type": "code",
   "execution_count": 38,
   "metadata": {},
   "outputs": [],
   "source": [
    "# !pip install git+https://github.com/GeoscienceAustralia/dea-intertidal.git"
   ]
  },
  {
   "cell_type": "code",
   "execution_count": 36,
   "metadata": {},
   "outputs": [],
   "source": [
    "from intertidal import validation"
   ]
  },
  {
   "cell_type": "code",
   "execution_count": 37,
   "metadata": {},
   "outputs": [
    {
     "data": {
      "text/plain": [
       "Correlation          0.991\n",
       "RMSE                14.166\n",
       "MAE                 10.194\n",
       "R-squared            0.979\n",
       "Bias                -6.290\n",
       "Regression slope     0.973\n",
       "dtype: float64"
      ]
     },
     "execution_count": 37,
     "metadata": {},
     "output_type": "execute_result"
    }
   ],
   "source": [
    "validation.eval_metrics(x=stats_df.val_dist, y=stats_df.deacl_dist)"
   ]
  },
  {
   "cell_type": "code",
   "execution_count": 31,
   "metadata": {},
   "outputs": [
    {
     "data": {
      "text/html": [
       "<div>\n",
       "<style scoped>\n",
       "    .dataframe tbody tr th:only-of-type {\n",
       "        vertical-align: middle;\n",
       "    }\n",
       "\n",
       "    .dataframe tbody tr th {\n",
       "        vertical-align: top;\n",
       "    }\n",
       "\n",
       "    .dataframe thead th {\n",
       "        text-align: right;\n",
       "    }\n",
       "</style>\n",
       "<table border=\"1\" class=\"dataframe\">\n",
       "  <thead>\n",
       "    <tr style=\"text-align: right;\">\n",
       "      <th></th>\n",
       "      <th>n</th>\n",
       "      <th>Bias (m)</th>\n",
       "      <th>MAE (m)</th>\n",
       "      <th>RMSE (m)</th>\n",
       "      <th>SD (m)</th>\n",
       "      <th>Correlation</th>\n",
       "    </tr>\n",
       "    <tr>\n",
       "      <th>source</th>\n",
       "      <th></th>\n",
       "      <th></th>\n",
       "      <th></th>\n",
       "      <th></th>\n",
       "      <th></th>\n",
       "      <th></th>\n",
       "    </tr>\n",
       "  </thead>\n",
       "  <tbody>\n",
       "    <tr>\n",
       "      <th>drone photogrammetry</th>\n",
       "      <td>298</td>\n",
       "      <td>1.0</td>\n",
       "      <td>3.6 (3.5)</td>\n",
       "      <td>4.6 (4.5)</td>\n",
       "      <td>4.5</td>\n",
       "      <td>0.681</td>\n",
       "    </tr>\n",
       "    <tr>\n",
       "      <th>aerial photogrammetry</th>\n",
       "      <td>1172</td>\n",
       "      <td>5.8</td>\n",
       "      <td>8.9 (7.4)</td>\n",
       "      <td>12.4 (11.0)</td>\n",
       "      <td>11.0</td>\n",
       "      <td>0.993</td>\n",
       "    </tr>\n",
       "    <tr>\n",
       "      <th>hydrographic survey</th>\n",
       "      <td>234</td>\n",
       "      <td>2.6</td>\n",
       "      <td>11.1 (11.1)</td>\n",
       "      <td>14.9 (14.7)</td>\n",
       "      <td>14.7</td>\n",
       "      <td>0.966</td>\n",
       "    </tr>\n",
       "    <tr>\n",
       "      <th>lidar</th>\n",
       "      <td>271</td>\n",
       "      <td>15.0</td>\n",
       "      <td>20.2 (13.5)</td>\n",
       "      <td>22.9 (17.3)</td>\n",
       "      <td>17.4</td>\n",
       "      <td>0.981</td>\n",
       "    </tr>\n",
       "  </tbody>\n",
       "</table>\n",
       "</div>"
      ],
      "text/plain": [
       "                          n  Bias (m)      MAE (m)     RMSE (m)  SD (m)  \\\n",
       "source                                                                    \n",
       "drone photogrammetry    298       1.0    3.6 (3.5)    4.6 (4.5)     4.5   \n",
       "aerial photogrammetry  1172       5.8    8.9 (7.4)  12.4 (11.0)    11.0   \n",
       "hydrographic survey     234       2.6  11.1 (11.1)  14.9 (14.7)    14.7   \n",
       "lidar                   271      15.0  20.2 (13.5)  22.9 (17.3)    17.4   \n",
       "\n",
       "                       Correlation  \n",
       "source                              \n",
       "drone photogrammetry         0.681  \n",
       "aerial photogrammetry        0.993  \n",
       "hydrographic survey          0.966  \n",
       "lidar                        0.981  "
      ]
     },
     "execution_count": 31,
     "metadata": {},
     "output_type": "execute_result"
    }
   ],
   "source": [
    "by_source = stats_df.groupby('source').apply(\n",
    "    lambda x: coastlines.validation.deacl_val_stats(x.val_dist, x.deacl_dist, x.n))\n",
    "by_source_nobias = stats_df.groupby('source').apply(\n",
    "    lambda x: coastlines.validation.deacl_val_stats(x.val_dist, x.deacl_dist, x.n, True))\n",
    "\n",
    "coastlines.validation.rse_tableformat(by_source, by_source_nobias)\n"
   ]
  },
  {
   "cell_type": "code",
   "execution_count": 48,
   "metadata": {},
   "outputs": [
    {
     "data": {
      "image/png": "[encoded data removed]",
      "text/plain": [
       "<Figure size 576x576 with 1 Axes>"
      ]
     },
     "metadata": {
      "needs_background": "light"
     },
     "output_type": "display_data"
    }
   ],
   "source": [
    "import matplotlib.pyplot as plt\n",
    "import numpy as np\n",
    "import seaborn as sns\n",
    "\n",
    "# Print stats and plot scatterplot\n",
    "stats_subset = stats_df  \n",
    "\n",
    "\n",
    "def val_plot(df, \n",
    "             title='Validation',\n",
    "             scatter=True, \n",
    "             density=False,\n",
    "             time=True, \n",
    "             time_stat='mean',\n",
    "             time_legend_pos=[0.8, 0.035],\n",
    "             offset=0,\n",
    "             extent=(0, 120),\n",
    "             scatter_kwargs={}, \n",
    "             time_kwargs={}):\n",
    "    \n",
    "    # Copy data and apply offset\n",
    "    df = df.copy()\n",
    "    df['error_m'] += offset\n",
    "    df['deacl_dist'] += offset\n",
    "\n",
    "    # Compute stats  \n",
    "    n, mae, rmse, stdev, corr, bias = coastlines.validation.deacl_val_stats(\n",
    "        val_dist=df.val_dist, \n",
    "        deacl_dist=df.deacl_dist)    \n",
    "    offset_str = 'landward offset' if bias > 0 else 'ocean-ward offset'\n",
    "\n",
    "    if scatter:\n",
    "        \n",
    "        # Plot data as scatterplot\n",
    "        fig, ax = plt.subplots(figsize=(8, 8))\n",
    "        df.plot.scatter(x='val_dist',\n",
    "                        y='deacl_dist',\n",
    "                        s=15,\n",
    "                        edgecolors='black',\n",
    "                        linewidth=0,\n",
    "#                         xlim=extent,\n",
    "#                         ylim=extent,\n",
    "                        ax=ax,\n",
    "                        **scatter_kwargs)\n",
    "        \n",
    "        # Add dashed line\n",
    "        \n",
    "        \n",
    "        ax.plot(\n",
    "                np.linspace(df.loc[:, ['deacl_dist', 'val_dist']].values.min(), \n",
    "                            df.loc[:, ['deacl_dist', 'val_dist']].values.max()),\n",
    "                np.linspace(df.loc[:, ['deacl_dist', 'val_dist']].values.min(), \n",
    "                            df.loc[:, ['deacl_dist', 'val_dist']].values.max()),\n",
    "                color='black',\n",
    "                linestyle='dashed')\n",
    "        \n",
    "        ax.set_xlabel(f'{title} (metres along profile)')\n",
    "        ax.set_ylabel(f'DEA Coastlines (metres along profile)')\n",
    "        \n",
    "        # Add annotation\n",
    "        ax.annotate(f'Mean Absolute Error: {mae:.1f} m\\n' \\\n",
    "                    f'RMSE: {rmse:.1f} m\\n' \\\n",
    "                    f'Standard deviation: {stdev:.1f} m\\n' \\\n",
    "                    f'Bias: {bias:.1f} m {offset_str}\\n' \\\n",
    "                    f'Correlation: {corr:.2f}\\n',\n",
    "                    xy=(0.04, 0.75),\n",
    "                    fontsize=14,\n",
    "                    xycoords='axes fraction')\n",
    "\n",
    "        # Set title\n",
    "        plt.gca().set_title(f'DEA Coastlines vs {title}', weight='bold')\n",
    "        \n",
    "        # Export to file        \n",
    "        fig.savefig(f\"{title}_scatter_offset{offset:.1f}.png\", dpi=300)\n",
    "        \n",
    "    if density:\n",
    "        \n",
    "        fig, ax = plt.subplots(figsize=(8, 8))\n",
    "\n",
    "        g = sns.kdeplot(ax=ax,\n",
    "                        data=df.val_dist,\n",
    "                        data2=df.deacl_dist, \n",
    "                        cmap='YlOrRd', \n",
    "                        shade=True,\n",
    "                        bw=3,\n",
    "                        shade_lowest=False,\n",
    "                        clip=(extent, extent))\n",
    "\n",
    "        g.set(xlabel=f'{title} (metres along profile)', \n",
    "              ylabel=f'DEA Coastlines (metres along profile)')\n",
    "        ax.set_title(f'DEA Coastlines vs {title}', weight='bold')\n",
    "\n",
    "        # Add stats annotation\n",
    "        ax.annotate(f'Mean Absolute Error: {mae:.1f} m\\n' \\\n",
    "                    f'RMSE: {rmse:.1f} m\\n' \\\n",
    "                    f'Standard deviation: {stdev:.1f} m\\n' \\\n",
    "                    f'Bias: {bias:.1f} m {offset_str}\\n' \\\n",
    "                    f'Correlation: {corr:.2f}\\n',\n",
    "                    xy=(0.04, 0.75),\n",
    "                    fontsize=14,\n",
    "                    xycoords='axes fraction')\n",
    "\n",
    "        # Add diagonal line\n",
    "        plt.gca().plot(np.linspace(*extent), \n",
    "                       np.linspace(*extent),\n",
    "                       color='black',\n",
    "                       linestyle='dashed')\n",
    "        \n",
    "        plt.gca().set_ylim(bottom=extent[0])\n",
    "        plt.gca().set_xlim(left=extent[0])\n",
    "\n",
    "        # Export to file\n",
    "        fig = g.get_figure()\n",
    "        fig.savefig(f\"{title}_heatmap_offset{offset:.1f}.png\", dpi=300)\n",
    "        \n",
    "    if time:\n",
    "        \n",
    "        # Group by beach and apply statistic\n",
    "        stats_grouped = (df.groupby(['beach', 'year'], as_index=False)\n",
    "                         .aggregate(time_stat)\n",
    "                         .rename({'beach': 'id',\n",
    "                                  'deacl_dist': 'DEA Coastlines',\n",
    "                                  'val_dist': title}, axis=1)\n",
    "                         .groupby('id')\n",
    "                         .filter(lambda x: len(x) > 1))\n",
    "\n",
    "        # Melt data into long format for faceted plotting\n",
    "        stats_melted = pd.melt(stats_grouped, \n",
    "                               id_vars=['id', 'year'],\n",
    "                               value_vars=['DEA Coastlines', title],\n",
    "                               value_name='Distance (m)')\n",
    "\n",
    "        # Plot facet data\n",
    "        g = sns.relplot(data=stats_melted,\n",
    "                        x=\"year\", \n",
    "                        y=\"Distance (m)\", \n",
    "                        col=\"id\", \n",
    "                        hue=\"variable\",\n",
    "                        height=1.7, \n",
    "                        aspect=1.0, \n",
    "                        kind=\"line\", \n",
    "                        legend='full', \n",
    "                        col_wrap=5,\n",
    "                        **time_kwargs)\n",
    "        plt.subplots_adjust(top=0.9)\n",
    "        g.fig.suptitle(f'DEA Coastlines vs {title}', \n",
    "                       weight='bold', \n",
    "                       ha='right')\n",
    "        \n",
    "        # Simplify titles\n",
    "        g.set_titles(row_template='{row_name}', \n",
    "                     col_template='{col_name}')\n",
    "\n",
    "        # Customise legend\n",
    "        g._legend.texts[0].set_text(\"\")\n",
    "        g._legend.set_bbox_to_anchor(time_legend_pos)\n",
    "        \n",
    "        # Export to file\n",
    "        g.savefig(f\"{title}_time_offset{offset:.1f}.png\", dpi=300)\n",
    "        \n",
    "    return pd.Series({'Mean Absolute Error': mae, \n",
    "                    f'RMSE': rmse,\n",
    "                    f'Standard deviation': stdev,\n",
    "                    f'Bias': f'{bias:.1f} m {offset_str}',\n",
    "                    f'Correlation': corr})\n",
    "\n",
    "# for i, sub in stats_subset.groupby('smartline'):\n",
    "\n",
    "#     # Run analysis\n",
    "#     g = val_plot(df=sub,  # stats_subset,\n",
    "#                  title=i.replace('/', '-'),\n",
    "#                  scatter=True, \n",
    "#                  density=False,\n",
    "#                  time=False,\n",
    "#                  time_stat='median',\n",
    "#                  time_legend_pos=[0.67, 0.11],\n",
    "#                  offset=0,\n",
    "#                  extent=(0, 1000))\n",
    "\n",
    "# Run analysis\n",
    "g = val_plot(df=stats_subset,  # stats_subset,\n",
    "         title='',\n",
    "         scatter=True, \n",
    "         density=False,\n",
    "         time=False,\n",
    "         time_stat='median',\n",
    "         time_legend_pos=[0.67, 0.11],\n",
    "         offset=0,\n",
    "         extent=(0, 300))"
   ]
  },
  {
   "cell_type": "code",
   "execution_count": null,
   "metadata": {},
   "outputs": [],
   "source": []
  }
 ],
 "metadata": {
  "kernelspec": {
   "display_name": "Python 3 (ipykernel)",
   "language": "python",
   "name": "python3"
  },
  "language_info": {
   "codemirror_mode": {
    "name": "ipython",
    "version": 3
   },
   "file_extension": ".py",
   "mimetype": "text/x-python",
   "name": "python",
   "nbconvert_exporter": "python",
   "pygments_lexer": "ipython3",
   "version": "3.8.10"
  },
  "widgets": {
   "application/vnd.jupyter.widget-state+json": {
    "state": {},
    "version_major": 2,
    "version_minor": 0
   }
  }
 },
 "nbformat": 4,
 "nbformat_minor": 4
}
