{
 "cells": [
  {
   "cell_type": "markdown",
   "id": "69da8225-7681-4de4-b1b5-be4fdabf52c7",
   "metadata": {
    "tags": []
   },
   "source": [
    "# DEA Coastlines generation using command line tools <img align=\"right\" src=\"https://github.com/GeoscienceAustralia/dea-notebooks/raw/develop/Supplementary_data/dea_logo.jpg\">\n",
    "This notebook demonstrates how to run a DEA Coastlines analysis using command line tools."
   ]
  },
  {
   "cell_type": "markdown",
   "id": "81b6c48d-db3b-4f30-82fa-67c96e64cc1c",
   "metadata": {},
   "source": [
    "### Setup"
   ]
  },
  {
   "cell_type": "markdown",
   "id": "4e436c72-fa98-489e-bc7d-787ead143e76",
   "metadata": {},
   "source": [
    "Set working directory to top level of repo to ensure links work correctly:"
   ]
  },
  {
   "cell_type": "code",
   "execution_count": 1,
   "id": "c0c743c8-8d0d-4f71-9a70-c4132adaaa86",
   "metadata": {},
   "outputs": [
    {
     "name": "stdout",
     "output_type": "stream",
     "text": [
      "/home/jovyan/Robbi/dea-coastlines\n"
     ]
    }
   ],
   "source": [
    "cd .."
   ]
  },
  {
   "cell_type": "markdown",
   "id": "c0ec2b5f-36a1-423b-add1-80f50f07361a",
   "metadata": {},
   "source": [
    "Update required packages:"
   ]
  },
  {
   "cell_type": "code",
   "execution_count": 2,
   "id": "cb80bb63-817e-4098-a92d-19a3701d8958",
   "metadata": {},
   "outputs": [
    {
     "name": "stdout",
     "output_type": "stream",
     "text": [
      "\u001b[33mWARNING: You are using pip version 22.0.2; however, version 22.3.1 is available.\n",
      "You should consider upgrading via the '/env/bin/python -m pip install --upgrade pip' command.\u001b[0m\u001b[33m\n",
      "\u001b[0mNote: you may need to restart the kernel to use updated packages.\n"
     ]
    }
   ],
   "source": [
    "pip install -r requirements.in --quiet"
   ]
  },
  {
   "cell_type": "markdown",
   "id": "ccd976ef-d89d-494b-9c84-84120bf963b9",
   "metadata": {},
   "source": [
    "Set analysis parameters:"
   ]
  },
  {
   "cell_type": "code",
   "execution_count": 3,
   "id": "4729d261-6b27-4a61-a937-366c5174ce05",
   "metadata": {},
   "outputs": [],
   "source": [
    "config_path = 'configs/dea_coastlines_config_development.yaml'\n",
    "study_area = 8\n",
    "raster_version = 'development'\n",
    "vector_version = 'development'\n",
    "continental_version = 'development'"
   ]
  },
  {
   "cell_type": "markdown",
   "id": "d9906d6b-01a4-4c94-8dd0-178eb281bd6a",
   "metadata": {},
   "source": [
    "### Run DEA Coastlines analysis\n",
    "#### Run tidally-constrained raster generation"
   ]
  },
  {
   "cell_type": "code",
   "execution_count": 9,
   "id": "dc5632c4-f872-46e5-9762-80b8556f3622",
   "metadata": {},
   "outputs": [
    {
     "name": "stdout",
     "output_type": "stream",
     "text": [
      "Usage: python -m coastlines.raster [OPTIONS]\n",
      "\n",
      "Options:\n",
      "  --config_path TEXT              Path to the YAML config file defining inputs\n",
      "                                  to use for this analysis. These are\n",
      "                                  typically located in the `dea-\n",
      "                                  coastlines/configs/` directory.  [required]\n",
      "  --study_area TEXT               A string providing a unique ID of an\n",
      "                                  analysis gridcell that will be used to run\n",
      "                                  the analysis. This should match a row in the\n",
      "                                  \"id\" column of the provided analysis\n",
      "                                  gridcell vector file.  [required]\n",
      "  --raster_version TEXT           A unique string proving a name that will be\n",
      "                                  used for output raster directories and\n",
      "                                  files. This can be used to version different\n",
      "                                  analysis outputs.  [required]\n",
      "  --start_year INTEGER            The first annual shoreline you wish to be\n",
      "                                  included in the final outputs. To allow low\n",
      "                                  data pixels to be gapfilled with additional\n",
      "                                  satellite data from neighbouring years, the\n",
      "                                  full timeseries of satellite data loaded in\n",
      "                                  this step will include one additional year\n",
      "                                  of preceding satellite data (i.e. if\n",
      "                                  `--start_year 2000`, satellite data from\n",
      "                                  1999 onward will be loaded for gapfilling\n",
      "                                  purposes). Because of this, we recommend\n",
      "                                  that at least one year of satellite data\n",
      "                                  exists in your datacube prior to\n",
      "                                  `--start_year`.\n",
      "  --end_year INTEGER              The final annual shoreline you wish to be\n",
      "                                  included in the final outputs. To allow low\n",
      "                                  data pixels to be gapfilled with additional\n",
      "                                  satellite data from neighbouring years, the\n",
      "                                  full timeseries of satellite data loaded in\n",
      "                                  this step will include one additional year\n",
      "                                  of ensuing satellite data (i.e. if\n",
      "                                  `--end_year 2020`, satellite data up to and\n",
      "                                  including 2021 will be loaded for gapfilling\n",
      "                                  purposes). Because of this, we recommend\n",
      "                                  that at least one year of satellite data\n",
      "                                  exists in your datacube after `--end_year`.\n",
      "  --tide_centre FLOAT             The central tide height used to compute the\n",
      "                                  min and max tide height cutoffs. Tide\n",
      "                                  heights will be masked so all satellite\n",
      "                                  observations are approximately centred over\n",
      "                                  this value. The default is 0.0 which\n",
      "                                  represents 0 m Above Mean Sea Level.\n",
      "  --aws_unsigned / --no-aws_unsigned\n",
      "                                  Whether to use sign AWS requests for S3\n",
      "                                  access\n",
      "  --overwrite / --no-overwrite    Whether to overwrite tiles with existing\n",
      "                                  outputs, or skip these tiles entirely.\n",
      "  --help                          Show this message and exit.\n"
     ]
    }
   ],
   "source": [
    "!python -m coastlines.raster --help"
   ]
  },
  {
   "cell_type": "markdown",
   "id": "fca95348-eda9-4071-a9a1-a3f9219c5cf0",
   "metadata": {},
   "source": [
    "Example analysis:"
   ]
  },
  {
   "cell_type": "code",
   "execution_count": 8,
   "id": "47397eb8-ddec-46c6-9f7c-431a50bb7eae",
   "metadata": {},
   "outputs": [],
   "source": [
    "!python -m coastlines.raster --config_path {config_path} --study_area {study_area} --raster_version {raster_version} --start_year 1988 --end_year 2021"
   ]
  },
  {
   "cell_type": "markdown",
   "id": "1e0f60ac-c68d-4b6f-a19b-257679588ea1",
   "metadata": {},
   "source": [
    "#### Run vector annual shoreline and rates of change statistics generation"
   ]
  },
  {
   "cell_type": "code",
   "execution_count": 6,
   "id": "0ed72c21-ba89-4fad-9521-f5493aad9d66",
   "metadata": {},
   "outputs": [
    {
     "name": "stdout",
     "output_type": "stream",
     "text": [
      "Usage: python -m coastlines.vector [OPTIONS]\n",
      "\n",
      "Options:\n",
      "  --config_path TEXT              Path to the YAML config file defining inputs\n",
      "                                  to use for this analysis. These are\n",
      "                                  typically located in the `dea-\n",
      "                                  coastlines/configs/` directory.  [required]\n",
      "  --study_area TEXT               A string providing a unique ID of an\n",
      "                                  analysis gridcell that was previously used\n",
      "                                  to generate raster files. This is used to\n",
      "                                  identify the raster files that will be used\n",
      "                                  as inputs for shoreline extraction, and\n",
      "                                  should match a row in the \"id\" column of the\n",
      "                                  provided analysis gridcell vector file.\n",
      "                                  [required]\n",
      "  --raster_version TEXT           A unique string providing a name that was\n",
      "                                  used to generate raster files. This is used\n",
      "                                  to identify the raster files that will be\n",
      "                                  used as inputs for shoreline extraction.\n",
      "                                  [required]\n",
      "  --vector_version TEXT           A unique string proving a name that will be\n",
      "                                  used for output vector directories and\n",
      "                                  files. This allows multiple versions of\n",
      "                                  vector files to be generated from the same\n",
      "                                  input raster data, e.g. for testing\n",
      "                                  different water index thresholds or indices.\n",
      "                                  If not provided, this will default to the\n",
      "                                  same string supplied to \"--raster_version\".\n",
      "  --water_index TEXT              A string giving the name of the computed\n",
      "                                  water index to use for shoreline extraction.\n",
      "                                  Defaults to \"mndwi\".\n",
      "  --index_threshold FLOAT         The water index threshold used to extract\n",
      "                                  subpixel precision shorelines. Defaults to\n",
      "                                  0.00.\n",
      "  --start_year INTEGER            The first annual shoreline to extract from\n",
      "                                  the input raster data.\n",
      "  --end_year INTEGER              The final annual shoreline to extract from\n",
      "                                  the input raster data.\n",
      "  --baseline_year INTEGER         The annual shoreline used as a baseline from\n",
      "                                  which to generate the rates of change point\n",
      "                                  statistics. This is typically the most\n",
      "                                  recent annual shoreline in the dataset (i.e.\n",
      "                                  the same as `--end_year`).\n",
      "  --aws_unsigned / --no-aws_unsigned\n",
      "                                  Whether to use sign AWS requests for S3\n",
      "                                  access\n",
      "  --overwrite / --no-overwrite    Whether to overwrite tiles with existing\n",
      "                                  outputs, or skip these tiles entirely.\n",
      "  --help                          Show this message and exit.\n"
     ]
    }
   ],
   "source": [
    "!python -m coastlines.vector --help"
   ]
  },
  {
   "cell_type": "markdown",
   "id": "0dede36a-c26b-4d98-a359-7080dc3f2fd9",
   "metadata": {},
   "source": [
    "Example analysis:"
   ]
  },
  {
   "cell_type": "code",
   "execution_count": 9,
   "id": "c23665e0-6d46-4185-b9f0-04a50d856174",
   "metadata": {},
   "outputs": [],
   "source": [
    "!python -m coastlines.vector --config_path {config_path} --study_area {study_area} --raster_version {raster_version} --start_year 1988 --end_year 2021 --baseline_year 2021"
   ]
  },
  {
   "cell_type": "markdown",
   "id": "fa26bb5f-c618-418d-bc87-c01a33fd612c",
   "metadata": {},
   "source": [
    "#### Run continental-scale layer generation"
   ]
  },
  {
   "cell_type": "code",
   "execution_count": 11,
   "id": "518bf214-ce70-4baa-a2ad-28302986fe01",
   "metadata": {},
   "outputs": [
    {
     "name": "stdout",
     "output_type": "stream",
     "text": [
      "Usage: python -m coastlines.continental [OPTIONS]\n",
      "\n",
      "Options:\n",
      "  --vector_version TEXT           A unique string proving a name that was used\n",
      "                                  for output vector directories and files.\n",
      "                                  This is used to identify the tiled annual\n",
      "                                  shoreline and rates of change layers that\n",
      "                                  will be combined into continental-scale\n",
      "                                  layers.  [required]\n",
      "  --continental_version TEXT      A unique string proving a name that will be\n",
      "                                  used for output continental-scale layers.\n",
      "                                  This allows multiple versions of\n",
      "                                  continental-scale layers to be generated\n",
      "                                  from the same input vector data, e.g. for\n",
      "                                  testing different hotspot of coastal change\n",
      "                                  summary layers. If not provided, this will\n",
      "                                  default to the string provided to \"--\n",
      "                                  vector_version\".\n",
      "  --shorelines BOOLEAN            A boolean indicating whether to combine\n",
      "                                  tiled annual shorelines layers into a single\n",
      "                                  continental-scale annual shorelines layer.\n",
      "  --ratesofchange BOOLEAN         A boolean indicating whether to combine\n",
      "                                  tiled rates of change statistics layers into\n",
      "                                  a single continental-scale rates of change\n",
      "                                  statistics layer.\n",
      "  --hotspots BOOLEAN              A boolean indicating whether to generate\n",
      "                                  continental-scale coastal change hotspot\n",
      "                                  summary layers (this can be very slow\n",
      "                                  depending on the radii requested).\n",
      "  --hotspots_radius INTEGER       The distance (in metres) used to generate\n",
      "                                  coastal change hotspots summary layers. This\n",
      "                                  controls the spacing of each summary point,\n",
      "                                  and the radius used to aggregate rates of\n",
      "                                  change statistics around each point. The\n",
      "                                  default generates three hotspot layers with\n",
      "                                  radii 10000 m, 5000 m and 1000 m. To specify\n",
      "                                  multiple custom radii, repeat this argument,\n",
      "                                  e.g. `--hotspots_radius 1000\n",
      "                                  --hotspots_radius 5000`.\n",
      "  --baseline_year INTEGER         The annual shoreline used to generate the\n",
      "                                  hotspot summary points. This is typically\n",
      "                                  the most recent annual shoreline in the\n",
      "                                  dataset.\n",
      "  --shapefiles BOOLEAN            A boolean indicating whether to export\n",
      "                                  outputs as a zipped ESRI Shapefile dataset\n",
      "                                  (this can be slow).\n",
      "  --include-styles / --no-include-styles\n",
      "                                  Set this to indicate whether to include\n",
      "                                  styles in output GeoPackage file.\n",
      "  --help                          Show this message and exit.\n"
     ]
    }
   ],
   "source": [
    "!python -m coastlines.continental --help"
   ]
  },
  {
   "cell_type": "markdown",
   "id": "51249ca9-35ca-4baa-b6a1-67f149a6fef0",
   "metadata": {},
   "source": [
    "Example analysis:"
   ]
  },
  {
   "cell_type": "code",
   "execution_count": 14,
   "id": "22e3dca9-6a5e-4e6a-ac2c-c3f3b1ae904b",
   "metadata": {},
   "outputs": [
    {
     "name": "stdout",
     "output_type": "stream",
     "text": [
      "2023-01-16 00:29:06 INFO Writing data to data/processed/development\n",
      "Warning 1: A geometry of type MULTILINESTRING is inserted into layer shorelines_annual of geometry type LINESTRING, which is not normally allowed by the GeoPackage specification, but the driver will however do it. To create a conformant GeoPackage, if using ogr2ogr, the -nlt option can be used to override the layer geometry type. This warning will no longer be emitted for this combination of layer and feature geometry type.\n",
      "2023-01-16 00:29:07 INFO Merging annual shorelines complete\n",
      "2023-01-16 00:29:09 INFO Merging rates of change points complete\n",
      "2023-01-16 00:29:10 INFO Loading continental shoreline and rates of change data into memory\n",
      "2023-01-16 00:29:10 INFO Generating coastal change hotspots\n",
      "2023-01-16 00:29:10 INFO Calculating 10000 m hotspots\n",
      "2023-01-16 00:29:10 INFO Calculating 5000 m hotspots\n",
      "2023-01-16 00:29:11 INFO Calculating 1000 m hotspots\n",
      "2023-01-16 00:29:12 INFO Writing coastal change hotspots complete\n",
      "2023-01-16 00:29:12 INFO Started writing outputs as zipped ESRI Shapefiles\n",
      "2023-01-16 00:29:20 INFO Completed writing rates of change points to zipped ESRI Shapefiles\n",
      "2023-01-16 00:29:22 INFO Completed writing annual shorelines to zipped ESRI Shapefiles\n",
      "2023-01-16 00:29:22 INFO Writing styles to OGC GeoPackage file complete\n"
     ]
    }
   ],
   "source": [
    "!python -m coastlines.continental --vector_version {vector_version} --continental_version {continental_version} --shorelines True --ratesofchange True --hotspots True --baseline_year 2021"
   ]
  },
  {
   "cell_type": "markdown",
   "id": "fe55ab27-807a-44c8-9408-595934893faa",
   "metadata": {},
   "source": [
    "## Example combined analysis\n",
    "This demonstrates how the three components of DEA Coastlines (raster generation, vector generation and continental layers generation) can be applied automatically to a sequence of input study area grid cells."
   ]
  },
  {
   "cell_type": "code",
   "execution_count": 10,
   "id": "6b804fec-39f4-48a9-8525-a78fbf06e084",
   "metadata": {},
   "outputs": [],
   "source": [
    "# Study areas\n",
    "study_areas = [1, 2, 3, 4, 5, 6, 7, 8]"
   ]
  },
  {
   "cell_type": "code",
   "execution_count": 11,
   "id": "c39e6533-f4fd-4a3c-90a5-44f19825c2f5",
   "metadata": {},
   "outputs": [
    {
     "name": "stdout",
     "output_type": "stream",
     "text": [
      "1\n",
      "/env/lib/python3.8/site-packages/distributed/node.py:180: UserWarning: Port 8787 is already in use.\n",
      "Perhaps you already have a cluster running?\n",
      "Hosting the HTTP server on port 36699 instead\n",
      "  warnings.warn(\n",
      "<Client: 'tcp://127.0.0.1:40571' processes=1 threads=15, memory=117.21 GiB>\n",
      "2023-01-13 01:05:14 INFO Study area 1: Loaded study area grid\n",
      "2023-01-13 01:05:21 INFO Study area 1: Loaded virtual product\n",
      "Creating reduced resolution tide modelling array\n",
      "Modelling tides using FES2014 tide model\n",
      "Reprojecting tides into original array\n",
      "100%|██████████████████████████████████████| 1076/1076 [00:04<00:00, 234.61it/s]\n",
      "2023-01-13 01:05:49 INFO Study area 1: Finished modelling tide heights\n",
      "2023-01-13 01:05:49 INFO Study area 1: Calculating low and high tide cutoffs for each pixel\n",
      "2023-01-13 01:05:49 INFO Study area 1: Started exporting raster data\n",
      "2023-01-13 01:09:49 INFO Study area 1: Completed exporting raster data\n",
      "distributed.nanny - WARNING - Worker process still alive after 3.9999990463256836 seconds, killing\n",
      "2023-01-13 01:09:56 INFO Study area 1: Starting vector generation\n",
      "2023-01-13 01:10:00 INFO Study area 1: Loaded rasters\n",
      "Operating in single z-value, multiple arrays mode\n",
      "2023-01-13 01:10:26 INFO Study area 1: Extracted shorelines from raster data\n",
      "2023-01-13 01:10:26 INFO Study area 1: Extracted rates of change points\n",
      "2023-01-13 01:10:40 INFO Study area 1: Calculated distances to each annual shoreline\n",
      "2023-01-13 01:10:41 INFO Study area 1: Calculated rates of change regressions\n",
      "2023-01-13 01:10:43 INFO Study area 1: Calculated all of time statistics\n",
      "2023-01-13 01:10:43 INFO Study area 1: Calculated rate of change certainty flags\n",
      "2023-01-13 01:10:44 INFO Study area 1: Added region attributes and geohash UIDs\n",
      "2023-01-13 01:10:47 INFO Study area 1: Output vector files written to data/interim/vector/development/1_development\n",
      "2\n",
      "/env/lib/python3.8/site-packages/distributed/node.py:180: UserWarning: Port 8787 is already in use.\n",
      "Perhaps you already have a cluster running?\n",
      "Hosting the HTTP server on port 39529 instead\n",
      "  warnings.warn(\n",
      "<Client: 'tcp://127.0.0.1:44309' processes=1 threads=15, memory=117.21 GiB>\n",
      "2023-01-13 01:10:53 INFO Study area 2: Loaded study area grid\n",
      "2023-01-13 01:11:00 INFO Study area 2: Loaded virtual product\n",
      "Creating reduced resolution tide modelling array\n",
      "Modelling tides using FES2014 tide model\n",
      "Reprojecting tides into original array\n",
      "100%|██████████████████████████████████████| 1610/1610 [00:06<00:00, 247.64it/s]\n",
      "2023-01-13 01:11:32 INFO Study area 2: Finished modelling tide heights\n",
      "2023-01-13 01:11:32 INFO Study area 2: Calculating low and high tide cutoffs for each pixel\n",
      "2023-01-13 01:11:32 INFO Study area 2: Started exporting raster data\n",
      "CPLReleaseMutex: Error = 1 (Operation not permitted)\n",
      "2023-01-13 01:14:33 INFO Study area 2: Completed exporting raster data\n",
      "2023-01-13 01:14:41 INFO Study area 2: Starting vector generation\n",
      "2023-01-13 01:14:45 INFO Study area 2: Loaded rasters\n",
      "Operating in single z-value, multiple arrays mode\n",
      "2023-01-13 01:15:08 INFO Study area 2: Extracted shorelines from raster data\n",
      "2023-01-13 01:15:08 INFO Study area 2: Extracted rates of change points\n",
      "2023-01-13 01:15:27 INFO Study area 2: Calculated distances to each annual shoreline\n",
      "2023-01-13 01:15:28 INFO Study area 2: Calculated rates of change regressions\n",
      "2023-01-13 01:15:31 INFO Study area 2: Calculated all of time statistics\n",
      "2023-01-13 01:15:31 INFO Study area 2: Calculated rate of change certainty flags\n",
      "2023-01-13 01:15:32 INFO Study area 2: Added region attributes and geohash UIDs\n",
      "2023-01-13 01:15:35 INFO Study area 2: Output vector files written to data/interim/vector/development/2_development\n",
      "3\n",
      "/env/lib/python3.8/site-packages/distributed/node.py:180: UserWarning: Port 8787 is already in use.\n",
      "Perhaps you already have a cluster running?\n",
      "Hosting the HTTP server on port 43513 instead\n",
      "  warnings.warn(\n",
      "<Client: 'tcp://127.0.0.1:35205' processes=1 threads=15, memory=117.21 GiB>\n",
      "2023-01-13 01:15:41 INFO Study area 3: Loaded study area grid\n",
      "2023-01-13 01:15:46 INFO Study area 3: Loaded virtual product\n",
      "Creating reduced resolution tide modelling array\n",
      "Modelling tides using FES2014 tide model\n",
      "Reprojecting tides into original array\n",
      "100%|██████████████████████████████████████| 1112/1112 [00:04<00:00, 249.85it/s]\n",
      "2023-01-13 01:16:13 INFO Study area 3: Finished modelling tide heights\n",
      "2023-01-13 01:16:13 INFO Study area 3: Calculating low and high tide cutoffs for each pixel\n",
      "2023-01-13 01:16:13 INFO Study area 3: Started exporting raster data\n",
      "2023-01-13 01:19:30 INFO Study area 3: Completed exporting raster data\n",
      "distributed.nanny - WARNING - Worker process still alive after 3.9999990463256836 seconds, killing\n",
      "Exception in thread AsyncProcess Dask Worker process (from Nanny) watch process join:\n",
      "Traceback (most recent call last):\n",
      "  File \"/usr/lib/python3.8/threading.py\", line 932, in _bootstrap_inner\n",
      "2023-01-13 01:19:37 INFO Study area 3: Starting vector generation\n",
      "2023-01-13 01:19:41 INFO Study area 3: Loaded rasters\n",
      "Operating in single z-value, multiple arrays mode\n",
      "2023-01-13 01:20:03 INFO Study area 3: Extracted shorelines from raster data\n",
      "2023-01-13 01:20:03 INFO Study area 3: Extracted rates of change points\n",
      "2023-01-13 01:20:39 INFO Study area 3: Calculated distances to each annual shoreline\n",
      "2023-01-13 01:20:42 INFO Study area 3: Calculated rates of change regressions\n",
      "2023-01-13 01:20:49 INFO Study area 3: Calculated all of time statistics\n",
      "2023-01-13 01:20:49 INFO Study area 3: Calculated rate of change certainty flags\n",
      "2023-01-13 01:20:50 INFO Study area 3: Added region attributes and geohash UIDs\n",
      "2023-01-13 01:20:59 INFO Study area 3: Output vector files written to data/interim/vector/development/3_development\n",
      "4\n",
      "/env/lib/python3.8/site-packages/distributed/node.py:180: UserWarning: Port 8787 is already in use.\n",
      "Perhaps you already have a cluster running?\n",
      "Hosting the HTTP server on port 39401 instead\n",
      "  warnings.warn(\n",
      "<Client: 'tcp://127.0.0.1:37797' processes=1 threads=15, memory=117.21 GiB>\n",
      "2023-01-13 01:21:05 INFO Study area 4: Loaded study area grid\n",
      "2023-01-13 01:21:10 INFO Study area 4: Loaded virtual product\n",
      "Creating reduced resolution tide modelling array\n",
      "Modelling tides using FES2014 tide model\n",
      "Reprojecting tides into original array\n",
      "100%|██████████████████████████████████████| 1385/1385 [00:03<00:00, 396.38it/s]\n",
      "2023-01-13 01:21:32 INFO Study area 4: Finished modelling tide heights\n",
      "2023-01-13 01:21:32 INFO Study area 4: Calculating low and high tide cutoffs for each pixel\n",
      "2023-01-13 01:21:32 INFO Study area 4: Started exporting raster data\n",
      "CPLReleaseMutex: Error = 1 (Operation not permitted)\n",
      "2023-01-13 01:23:39 INFO Study area 4: Completed exporting raster data\n",
      "distributed.nanny - WARNING - Worker process still alive after 3.9999990463256836 seconds, killing\n",
      "2023-01-13 01:23:46 INFO Study area 4: Starting vector generation\n",
      "2023-01-13 01:23:48 INFO Study area 4: Loaded rasters\n",
      "Operating in single z-value, multiple arrays mode\n",
      "2023-01-13 01:24:07 INFO Study area 4: Extracted shorelines from raster data\n",
      "2023-01-13 01:24:07 INFO Study area 4: Extracted rates of change points\n",
      "2023-01-13 01:24:14 INFO Study area 4: Calculated distances to each annual shoreline\n",
      "2023-01-13 01:24:14 INFO Study area 4: Calculated rates of change regressions\n",
      "2023-01-13 01:24:15 INFO Study area 4: Calculated all of time statistics\n",
      "2023-01-13 01:24:15 INFO Study area 4: Calculated rate of change certainty flags\n",
      "2023-01-13 01:24:16 INFO Study area 4: Added region attributes and geohash UIDs\n",
      "2023-01-13 01:24:18 INFO Study area 4: Output vector files written to data/interim/vector/development/4_development\n",
      "5\n",
      "/env/lib/python3.8/site-packages/distributed/node.py:180: UserWarning: Port 8787 is already in use.\n",
      "Perhaps you already have a cluster running?\n",
      "Hosting the HTTP server on port 44953 instead\n",
      "  warnings.warn(\n",
      "<Client: 'tcp://127.0.0.1:37265' processes=1 threads=15, memory=117.21 GiB>\n",
      "2023-01-13 01:24:24 INFO Study area 5: Loaded study area grid\n",
      "2023-01-13 01:24:31 INFO Study area 5: Loaded virtual product\n",
      "Creating reduced resolution tide modelling array\n",
      "Modelling tides using FES2014 tide model\n",
      "Reprojecting tides into original array\n",
      "100%|██████████████████████████████████████| 1065/1065 [00:10<00:00, 100.92it/s]\n",
      "2023-01-13 01:25:18 INFO Study area 5: Finished modelling tide heights\n",
      "2023-01-13 01:25:18 INFO Study area 5: Calculating low and high tide cutoffs for each pixel\n",
      "2023-01-13 01:25:18 INFO Study area 5: Started exporting raster data\n",
      "2023-01-13 01:30:55 INFO Study area 5: Completed exporting raster data\n",
      "distributed.nanny - WARNING - Worker process still alive after 3.9999990463256836 seconds, killing\n",
      "Exception in thread AsyncProcess Dask Worker process (from Nanny) watch process join:\n",
      "Traceback (most recent call last):\n",
      "  File \"/usr/lib/python3.8/threading.py\", line 932, in _bootstrap_inner\n",
      "2023-01-13 01:31:02 INFO Study area 5: Starting vector generation\n",
      "2023-01-13 01:31:11 INFO Study area 5: Loaded rasters\n",
      "Operating in single z-value, multiple arrays mode\n",
      "2023-01-13 01:31:35 INFO Study area 5: Extracted shorelines from raster data\n",
      "2023-01-13 01:31:36 INFO Study area 5: Extracted rates of change points\n",
      "2023-01-13 01:32:19 INFO Study area 5: Calculated distances to each annual shoreline\n",
      "2023-01-13 01:32:23 INFO Study area 5: Calculated rates of change regressions\n",
      "2023-01-13 01:32:29 INFO Study area 5: Calculated all of time statistics\n",
      "2023-01-13 01:32:29 INFO Study area 5: Calculated rate of change certainty flags\n",
      "2023-01-13 01:32:30 INFO Study area 5: Added region attributes and geohash UIDs\n",
      "2023-01-13 01:32:40 INFO Study area 5: Output vector files written to data/interim/vector/development/5_development\n",
      "6\n",
      "/env/lib/python3.8/site-packages/distributed/node.py:180: UserWarning: Port 8787 is already in use.\n",
      "Perhaps you already have a cluster running?\n",
      "Hosting the HTTP server on port 39225 instead\n",
      "  warnings.warn(\n",
      "<Client: 'tcp://127.0.0.1:32815' processes=1 threads=15, memory=117.21 GiB>\n",
      "2023-01-13 01:32:46 INFO Study area 6: Loaded study area grid\n",
      "2023-01-13 01:32:53 INFO Study area 6: Loaded virtual product\n",
      "Creating reduced resolution tide modelling array\n",
      "Modelling tides using FES2014 tide model\n",
      "Reprojecting tides into original array\n",
      "100%|██████████████████████████████████████| 1814/1814 [00:07<00:00, 250.34it/s]\n",
      "2023-01-13 01:33:28 INFO Study area 6: Finished modelling tide heights\n",
      "2023-01-13 01:33:28 INFO Study area 6: Calculating low and high tide cutoffs for each pixel\n",
      "2023-01-13 01:33:28 INFO Study area 6: Started exporting raster data\n",
      "/env/lib/python3.8/site-packages/dask/core.py:119: RuntimeWarning: divide by zero encountered in true_divide\n",
      "  return func(*(_execute_task(a, cache) for a in args))\n",
      "/env/lib/python3.8/site-packages/dask/core.py:119: RuntimeWarning: invalid value encountered in true_divide\n",
      "  return func(*(_execute_task(a, cache) for a in args))\n",
      "2023-01-13 01:37:46 INFO Study area 6: Completed exporting raster data\n",
      "distributed.nanny - WARNING - Worker process still alive after 3.9999990463256836 seconds, killing\n",
      "Exception in thread AsyncProcess Dask Worker process (from Nanny) watch process join:\n",
      "Traceback (most recent call last):\n",
      "  File \"/usr/lib/python3.8/threading.py\", line 932, in _bootstrap_inner\n",
      "2023-01-13 01:37:54 INFO Study area 6: Starting vector generation\n",
      "2023-01-13 01:37:57 INFO Study area 6: Loaded rasters\n",
      "Operating in single z-value, multiple arrays mode\n",
      "2023-01-13 01:38:14 INFO Study area 6: Extracted shorelines from raster data\n",
      "2023-01-13 01:38:14 INFO Study area 6: Extracted rates of change points\n",
      "2023-01-13 01:38:37 INFO Study area 6: Calculated distances to each annual shoreline\n",
      "2023-01-13 01:38:39 INFO Study area 6: Calculated rates of change regressions\n",
      "2023-01-13 01:38:43 INFO Study area 6: Calculated all of time statistics\n",
      "2023-01-13 01:38:43 INFO Study area 6: Calculated rate of change certainty flags\n",
      "2023-01-13 01:38:43 INFO Study area 6: Added region attributes and geohash UIDs\n",
      "2023-01-13 01:38:50 INFO Study area 6: Output vector files written to data/interim/vector/development/6_development\n",
      "7\n",
      "/env/lib/python3.8/site-packages/distributed/node.py:180: UserWarning: Port 8787 is already in use.\n",
      "Perhaps you already have a cluster running?\n",
      "Hosting the HTTP server on port 42111 instead\n",
      "  warnings.warn(\n",
      "<Client: 'tcp://127.0.0.1:33005' processes=1 threads=15, memory=117.21 GiB>\n",
      "2023-01-13 01:38:56 INFO Study area 7: Loaded study area grid\n",
      "2023-01-13 01:39:04 INFO Study area 7: Loaded virtual product\n",
      "Creating reduced resolution tide modelling array\n",
      "Modelling tides using FES2014 tide model\n",
      "Reprojecting tides into original array\n",
      "100%|██████████████████████████████████████| 1978/1978 [00:04<00:00, 400.21it/s]\n",
      "2023-01-13 01:39:31 INFO Study area 7: Finished modelling tide heights\n",
      "2023-01-13 01:39:31 INFO Study area 7: Calculating low and high tide cutoffs for each pixel\n",
      "2023-01-13 01:39:31 INFO Study area 7: Started exporting raster data\n",
      "CPLReleaseMutex: Error = 1 (Operation not permitted)\n",
      "2023-01-13 01:42:26 INFO Study area 7: Completed exporting raster data\n",
      "distributed.nanny - WARNING - Worker process still alive after 3.9999988555908206 seconds, killing\n",
      "Exception in thread AsyncProcess Dask Worker process (from Nanny) watch process join:\n",
      "Traceback (most recent call last):\n",
      "  File \"/usr/lib/python3.8/threading.py\", line 932, in _bootstrap_inner\n",
      "2023-01-13 01:42:33 INFO Study area 7: Starting vector generation\n",
      "2023-01-13 01:42:35 INFO Study area 7: Loaded rasters\n",
      "Operating in single z-value, multiple arrays mode\n",
      "2023-01-13 01:42:51 INFO Study area 7: Extracted shorelines from raster data\n",
      "2023-01-13 01:42:51 INFO Study area 7: Extracted rates of change points\n",
      "2023-01-13 01:42:57 INFO Study area 7: Calculated distances to each annual shoreline\n",
      "2023-01-13 01:42:58 INFO Study area 7: Calculated rates of change regressions\n",
      "2023-01-13 01:42:58 INFO Study area 7: Calculated all of time statistics\n",
      "2023-01-13 01:42:59 INFO Study area 7: Calculated rate of change certainty flags\n",
      "2023-01-13 01:42:59 INFO Study area 7: Added region attributes and geohash UIDs\n",
      "2023-01-13 01:43:01 INFO Study area 7: Output vector files written to data/interim/vector/development/7_development\n",
      "8\n",
      "/env/lib/python3.8/site-packages/distributed/node.py:180: UserWarning: Port 8787 is already in use.\n",
      "Perhaps you already have a cluster running?\n",
      "Hosting the HTTP server on port 35771 instead\n",
      "  warnings.warn(\n",
      "<Client: 'tcp://127.0.0.1:36671' processes=1 threads=15, memory=117.21 GiB>\n",
      "2023-01-13 01:43:07 INFO Study area 8: Loaded study area grid\n",
      "2023-01-13 01:43:16 INFO Study area 8: Loaded virtual product\n",
      "Creating reduced resolution tide modelling array\n",
      "Modelling tides using FES2014 tide model\n",
      "Reprojecting tides into original array\n",
      "100%|██████████████████████████████████████| 1764/1764 [00:03<00:00, 455.20it/s]\n",
      "2023-01-13 01:43:37 INFO Study area 8: Finished modelling tide heights\n",
      "2023-01-13 01:43:37 INFO Study area 8: Calculating low and high tide cutoffs for each pixel\n",
      "2023-01-13 01:43:37 INFO Study area 8: Started exporting raster data\n",
      "/env/lib/python3.8/site-packages/dask/core.py:119: RuntimeWarning: divide by zero encountered in true_divide\n",
      "  return func(*(_execute_task(a, cache) for a in args))\n",
      "/env/lib/python3.8/site-packages/dask/core.py:119: RuntimeWarning: invalid value encountered in true_divide\n",
      "  return func(*(_execute_task(a, cache) for a in args))\n",
      "2023-01-13 01:46:52 INFO Study area 8: Completed exporting raster data\n",
      "distributed.nanny - WARNING - Worker process still alive after 3.9999990463256836 seconds, killing\n",
      "Exception in thread AsyncProcess Dask Worker process (from Nanny) watch process join:\n",
      "Traceback (most recent call last):\n",
      "  File \"/usr/lib/python3.8/threading.py\", line 932, in _bootstrap_inner\n",
      "2023-01-13 01:46:59 INFO Study area 8: Starting vector generation\n",
      "2023-01-13 01:47:01 INFO Study area 8: Loaded rasters\n",
      "Operating in single z-value, multiple arrays mode\n",
      "2023-01-13 01:47:15 INFO Study area 8: Extracted shorelines from raster data\n",
      "2023-01-13 01:47:15 INFO Study area 8: Extracted rates of change points\n",
      "2023-01-13 01:47:25 INFO Study area 8: Calculated distances to each annual shoreline\n",
      "2023-01-13 01:47:26 INFO Study area 8: Calculated rates of change regressions\n",
      "2023-01-13 01:47:27 INFO Study area 8: Calculated all of time statistics\n",
      "2023-01-13 01:47:27 INFO Study area 8: Calculated rate of change certainty flags\n",
      "2023-01-13 01:47:28 INFO Study area 8: Added region attributes and geohash UIDs\n",
      "2023-01-13 01:47:30 INFO Study area 8: Output vector files written to data/interim/vector/development/8_development\n"
     ]
    }
   ],
   "source": [
    "# Run raster and vector generation for each study area\n",
    "for study_area in study_areas:\n",
    "    print(study_area)\n",
    "    !python -m coastlines.raster --config_path {config_path} --study_area {study_area} --raster_version {raster_version} --start_year 1988 --end_year 2021\n",
    "    !python -m coastlines.vector --config_path {config_path} --study_area {study_area} --raster_version {raster_version} --vector_version {vector_version} --start_year 1988 --end_year 2021 --baseline_year 2021\n",
    "    \n",
    "# When complete, combine into single continental outputs\n",
    "# !python -m coastlines.continental --vector_version {vector_version} --continental_version {continental_version} --shorelines True --ratesofchange True --hotspots True --baseline_year 2021"
   ]
  },
  {
   "cell_type": "markdown",
   "id": "3f83a811-d875-4c27-9f9e-3e644119b49f",
   "metadata": {
    "tags": []
   },
   "source": [
    "### Clean up and remove files\n",
    "Warning: this will delete all data processed with a matching unique version name. Only run these cells if you no longer need these processed outputs!"
   ]
  },
  {
   "cell_type": "code",
   "execution_count": null,
   "id": "585af34b-9cde-4ff2-8fa5-5c2baaab2e79",
   "metadata": {},
   "outputs": [],
   "source": [
    "# rm -rf data/interim/raster/{raster_version}"
   ]
  },
  {
   "cell_type": "code",
   "execution_count": null,
   "id": "f3069daf-5d71-4c70-8740-d02efb1fc0f9",
   "metadata": {},
   "outputs": [],
   "source": [
    "# rm -rf data/interim/vector/{vector_version}"
   ]
  },
  {
   "cell_type": "code",
   "execution_count": null,
   "id": "38d2209f-e978-4735-835b-68381358517a",
   "metadata": {},
   "outputs": [],
   "source": [
    "# rm -rf data/processed/{continental_version}"
   ]
  },
  {
   "cell_type": "markdown",
   "id": "9d560564-e485-4a02-8f19-0dea1ba42bd3",
   "metadata": {
    "tags": []
   },
   "source": [
    "***\n",
    "\n",
    "## Additional information"
   ]
  },
  {
   "cell_type": "markdown",
   "id": "457f851c-3b51-4c80-8430-d893fdbd05ec",
   "metadata": {},
   "source": [
    "**License:** The code in this notebook is licensed under the [Apache License, Version 2.0](https://www.apache.org/licenses/LICENSE-2.0). \n",
    "Digital Earth Australia data is licensed under the [Creative Commons by Attribution 4.0](https://creativecommons.org/licenses/by/4.0/) license.\n",
    "\n",
    "**Contact:** For assistance with any of the Python code or Jupyter Notebooks in this repository, please post a [Github issue](https://github.com/GeoscienceAustralia/dea-coastlines/issues/new).\n",
    "\n",
    "**Last modified:** November 2022\n",
    "\n",
    "**To cite:**\n",
    "\n",
    "> Bishop-Taylor, R., Nanson, R., Sagar, S., Lymburner, L. (2021). Mapping Australia's dynamic coastline at mean sea level using three decades of Landsat imagery. Remote Sensing of Environment, 267, 112734. Available: https://doi.org/10.1016/j.rse.2021.112734\n",
    ">\n",
    "> Nanson, R., Bishop-Taylor, R., Sagar, S., Lymburner, L., (2022). Geomorphic insights into Australia's coastal change using a national dataset derived from the multi-decadal Landsat archive. Estuarine, Coastal and Shelf Science, 265, p.107712. Available: https://doi.org/10.1016/j.ecss.2021.107712\n",
    ">\n",
    "> Bishop-Taylor, R., Sagar, S., Lymburner, L., Alam, I., Sixsmith, J. (2019). Sub-pixel waterline extraction: characterising accuracy and sensitivity to indices and spectra. Remote Sensing, 11 (24):2984. Available: https://doi.org/10.3390/rs11242984"
   ]
  }
 ],
 "metadata": {
  "kernelspec": {
   "display_name": "Python 3 (ipykernel)",
   "language": "python",
   "name": "python3"
  },
  "language_info": {
   "codemirror_mode": {
    "name": "ipython",
    "version": 3
   },
   "file_extension": ".py",
   "mimetype": "text/x-python",
   "name": "python",
   "nbconvert_exporter": "python",
   "pygments_lexer": "ipython3",
   "version": "3.8.10"
  },
  "widgets": {
   "application/vnd.jupyter.widget-state+json": {
    "state": {},
    "version_major": 2,
    "version_minor": 0
   }
  }
 },
 "nbformat": 4,
 "nbformat_minor": 5
}
