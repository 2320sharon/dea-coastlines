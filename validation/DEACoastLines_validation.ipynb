{
 "cells": [
  {
   "cell_type": "markdown",
   "metadata": {},
   "source": [
    "# DEA CoastLines validation\n",
    "\n",
    "To do:\n",
    "* [X] Change output CRS to Australian Albers\n",
    "* [X] Discard validation sides with multiple intersects?\n",
    "* [X] Split analysis code into:\n",
    "    * Aggregate multiple profiles and export into single file\n",
    "    * Analyse and plot single file\n",
    "* [ ] Add extraction of environmental data for each profile line"
   ]
  },
  {
   "cell_type": "markdown",
   "metadata": {},
   "source": [
    "## Load modules/functions\n"
   ]
  },
  {
   "cell_type": "code",
   "execution_count": 1,
   "metadata": {},
   "outputs": [],
   "source": [
    "%matplotlib inline\n",
    "%load_ext line_profiler\n",
    "%load_ext autoreload\n",
    "%autoreload 2\n",
    "\n",
    "import sys\n",
    "import glob\n",
    "import numpy as np\n",
    "import geopandas as gpd\n",
    "import pandas as pd\n",
    "import seaborn as sns\n",
    "import matplotlib.pyplot as plt\n",
    "from shapely.geometry import box\n",
    "from sklearn.metrics import mean_squared_error\n",
    "from sklearn.metrics import mean_absolute_error\n",
    "\n",
    "sys.path.append('/g/data/r78/DEACoastLines/')\n",
    "import deacoastlines_validation as deacl_val\n",
    "import deacoastlines_statistics as deacl_stats\n",
    "\n",
    "def to_vector(df,\n",
    "              fname='test.shp',\n",
    "              x='x',\n",
    "              y='y',\n",
    "              crs='EPSG:3577',\n",
    "              output_crs='EPSG:3577'):\n",
    "    \n",
    "    # Convert datetimes to strings\n",
    "    df = df.copy()\n",
    "    is_datetime = df.dtypes == 'datetime64[ns]'\n",
    "    df.loc[:, is_datetime] = df.loc[:, is_datetime].astype(str) \n",
    "    \n",
    "    # Export to file\n",
    "    gdf = gpd.GeoDataFrame(data=df.loc[:, df.dtypes != 'datetime64[ns]'],\n",
    "                     geometry=gpd.points_from_xy(x=df[x], y=df[y]),\n",
    "                     crs=crs).to_crs(output_crs).to_file(fname)\n",
    "    \n",
    "    return gdf\n",
    "\n",
    "\n",
    "def export_eval(df, output_name, output_crs='EPSG:3577'):\n",
    "    \n",
    "    from shapely.geometry import box, Point, LineString\n",
    "\n",
    "    # Extract geometries\n",
    "    val_points = gpd.points_from_xy(x=df.val_x, y=df.val_y)\n",
    "    deacl_points = gpd.points_from_xy(x=df.deacl_x, y=df.deacl_y)\n",
    "    df_profiles = df.groupby('id').first()\n",
    "    profile_lines = df_profiles.apply(\n",
    "        lambda x: LineString([(x.start_x, x.start_y), (x.end_x, x.end_y)]), axis=1)\n",
    "\n",
    "    # Export validation points\n",
    "    val_gdf = gpd.GeoDataFrame(data=df,\n",
    "                               geometry=val_points,\n",
    "                               crs=output_crs).to_crs('EPSG:4326')\n",
    "    val_gdf.to_file(f'figures/eval/{output_name}_val.geojson', \n",
    "                    driver='GeoJSON')\n",
    "\n",
    "    # Export DEACL points\n",
    "    deacl_gdf = gpd.GeoDataFrame(data=df,\n",
    "                                 geometry=deacl_points,\n",
    "                                 crs=output_crs).to_crs('EPSG:4326')\n",
    "    deacl_gdf.to_file(f'figures/eval/{output_name}_deacl.geojson', \n",
    "                      driver='GeoJSON')\n",
    "\n",
    "    # Export profiles\n",
    "    profile_gdf = gpd.GeoDataFrame(data=df_profiles,\n",
    "                                 geometry=profile_lines,\n",
    "                                 crs=output_crs).to_crs('EPSG:4326')\n",
    "    profile_gdf.to_file(f'figures/eval/{output_name}_profiles.geojson', \n",
    "                        driver='GeoJSON')\n",
    "    "
   ]
  },
  {
   "cell_type": "code",
   "execution_count": null,
   "metadata": {},
   "outputs": [],
   "source": [
    "# to_vector(output_stats, fname='test6.shp', x='0_x', y='0_y', crs='EPSG:3577')"
   ]
  },
  {
   "cell_type": "markdown",
   "metadata": {},
   "source": [
    "## Pre-processing\n"
   ]
  },
  {
   "cell_type": "markdown",
   "metadata": {},
   "source": [
    "### Victoria/Deakin\n",
    "* [X] Renovated"
   ]
  },
  {
   "cell_type": "code",
   "execution_count": 22,
   "metadata": {},
   "outputs": [
    {
     "name": "stdout",
     "output_type": "stream",
     "text": [
      "Processing output_data/vicdeakin_wbl.csv                                                   \r"
     ]
    }
   ],
   "source": [
    "deacl_val.preprocess_vicdeakin(fname='input_data/vicdeakin/z_data_10cm_VIC.csv',\n",
    "                               datum=0)"
   ]
  },
  {
   "cell_type": "markdown",
   "metadata": {},
   "source": [
    "### WRL Narrabeen \n",
    "* [X] Renovated"
   ]
  },
  {
   "cell_type": "code",
   "execution_count": 23,
   "metadata": {},
   "outputs": [
    {
     "name": "stdout",
     "output_type": "stream",
     "text": [
      "Processing output_data/wrl_narrabeen.csv                                                   \r"
     ]
    }
   ],
   "source": [
    "deacl_val.preprocess_narrabeen(fname='input_data/wrl/Narrabeen_Profiles_2018.csv',\n",
    "                               datum=0,\n",
    "                               overwrite=True)\n"
   ]
  },
  {
   "cell_type": "markdown",
   "metadata": {},
   "source": [
    "### NSW Beach Profile Database\n",
    "* [X] Renovated"
   ]
  },
  {
   "cell_type": "code",
   "execution_count": 24,
   "metadata": {},
   "outputs": [
    {
     "name": "stdout",
     "output_type": "stream",
     "text": [
      "Processing output_data/nswbpd_lennoxhead.csv                                               \r"
     ]
    },
    {
     "name": "stderr",
     "output_type": "stream",
     "text": [
      "/g/data/v10/public/modules/dea-env/20200612/lib/python3.6/site-packages/IPython/core/interactiveshell.py:3254: DtypeWarning: Columns (1) have mixed types.Specify dtype option on import or set low_memory=False.\n",
      "  if (await self.run_code(code, result,  async_=asy)):\n"
     ]
    },
    {
     "name": "stdout",
     "output_type": "stream",
     "text": [
      "\n",
      "Dropping invalid profiles: 19                                                                              \n",
      "Processing output_data/nswbpd_brunswick.csv                                                \n",
      "Dropping invalid profiles: 1                                                                               \n",
      "Processing output_data/nswbpd_saphirebeach.csv                                             \n",
      "Dropping invalid profiles: 13                                                                              \n",
      "Processing output_data/nswbpd_ballina.csv                                                  \n",
      "Dropping invalid profiles: 1                                                                               \n",
      "Processing output_data/nswbpd_boambeebeach.csv                                             \n",
      "Dropping invalid profiles: 9                                                                               \n",
      "Processing output_data/nswbpd_saltsbay.csv                                                 \n",
      "Dropping invalid profiles: 6                                                                               \n",
      "Processing output_data/nswbpd_oldbar.csv                                                   \n",
      "Dropping invalid profiles: 4                                                                               \n",
      "Processing output_data/nswbpd_diamondbeach.csv                                             \n",
      "Dropping invalid profiles: 2                                                                               \n",
      "Processing output_data/nswbpd_kingscliff.csv                                               \n",
      "Dropping invalid profiles: 2                                                                               \n",
      "Processing output_data/nswbpd_byronbay.csv                                                 \n",
      "Dropping invalid profiles: 14                                                                              \n",
      "Processing output_data/nswbpd_minnamurra.csv                                               \n",
      "Dropping invalid profiles: 1                                                                               \n",
      "Processing output_data/nswbpd_nambucca.csv                                                 \n",
      "Dropping invalid profiles: 18                                                                              \n",
      "Processing output_data/nswbpd_uminabeach.csv                                               \n",
      "Dropping invalid profiles: 1                                                                               \n",
      "Processing output_data/nswbpd_sealrocks.csv                                                \n",
      "Dropping invalid profiles: 6                                                                               \n",
      "Processing output_data/nswbpd_fiddamansbeachheadland.csv                                   \n",
      "Dropping invalid profiles: 14                                                                              \n",
      "Processing output_data/nswbpd_macauleysbeach.csv                                           \n",
      "Dropping invalid profiles: 9                                                                               \n",
      "Processing output_data/nswbpd_kendalls.csv                                                 \n",
      "Dropping invalid profiles: 7                                                                               \n",
      "Processing output_data/nswbpd_woolibeach.csv                                               \n",
      "Dropping invalid profiles: 19                                                                              \n",
      "Processing output_data/nswbpd_swanseabelmont.csv                                           \n",
      "Dropping invalid profiles: 6                                                                               \n",
      "Processing output_data/nswbpd_mullaway.csv                                                 \n",
      "Dropping invalid profiles: 4                                                                               \n",
      "Processing output_data/nswbpd_porthacking,cornullaandkurnell.csv                           \n",
      "Dropping invalid profiles: 11                                                                              \n",
      "Processing output_data/nswbpd_flynnsbeach.csv                                              \n",
      "Dropping invalid profiles: 8                                                                               \n",
      "Processing output_data/nswbpd_yamba.csv                                                    \n",
      "Dropping invalid profiles: 11                                                                              \n",
      "Processing output_data/nswbpd_macmastersforresters.csv                                     \n",
      "Dropping invalid profiles: 6                                                                               \n",
      "Processing output_data/nswbpd_mollymook&narrawally&collers.csv                             \n",
      "Dropping invalid profiles: 8                                                                               \n",
      "Processing output_data/nswbpd_burrillakeandracecoursebeach.csv                             \n",
      "Dropping invalid profiles: 14                                                                              \n",
      "Processing output_data/nswbpd_parksbeach.csv                                               \n",
      "Dropping invalid profiles: 6                                                                               \n",
      "Processing output_data/nswbpd_eurobodallabeachessouth.csv                                  \n",
      "Dropping invalid profiles: 4                                                                               \n",
      "Processing output_data/nswbpd_patchsbeach.csv                                              \n",
      "Dropping invalid profiles: 5                                                                               \n",
      "Processing output_data/nswbpd_monavale.csv                                                 \r"
     ]
    }
   ],
   "source": [
    "for fname in glob.glob('input_data/nswbpd/*.csv'):\n",
    "    profiles_df = deacl_val.preprocess_nswbpd(fname, \n",
    "                                              datum=0, \n",
    "                                              overwrite=True)     \n"
   ]
  },
  {
   "cell_type": "markdown",
   "metadata": {},
   "source": [
    "### City of Gold Coast\n",
    "* [X] Renovated\n",
    "* [ ] Fix North Kirra name"
   ]
  },
  {
   "cell_type": "code",
   "execution_count": 6,
   "metadata": {},
   "outputs": [
    {
     "name": "stdout",
     "output_type": "stream",
     "text": [
      "Processing output_data/cgc_broadbeach.csv                                                  \n",
      "Dropping invalid profiles: 2                                                                               \n",
      "Processing output_data/cgc_palmbeach.csv                                                   \n",
      "Dropping invalid profiles: 1                                                                               \n",
      "Processing output_data/cgc_surfersparadise.csv                                             \n",
      "Dropping invalid profiles: 3                                                                               \n",
      "Processing output_data/cgc_tweedriverentrance.csv                                          \r"
     ]
    }
   ],
   "source": [
    "sites = ['BILINGA', 'BROADBEACH', 'BURLEIGH HEADS', 'COOLANGATTA', 'CURRUMBIN',\n",
    "         'DURANABH', 'FINGAL', 'GREENMOUNT HILL', 'KINGSCLIFF', 'KIRRA',\n",
    "         'MAIN BEACH', 'MERMAID BEACH', 'MIAMI', 'Main Beach Cross Sections',\n",
    "         'NARROWNECK', 'NO*TH KIRRA', 'PALM BEACH', 'POINT DANGER', \n",
    "         'RAINBOW BAY', 'SEAWAY CENTRE LINE', 'SNAPPER ROCKS', \n",
    "         'SOUTH STRADBROKE', 'SURFERS PARADISE', 'THE SPIT', 'TUGUN', \n",
    "         'TWEED RIVER ENTRANCE']\n",
    "# sites=['SEAWAY CENTRE LINE']\n",
    "\n",
    "for site in sites:\n",
    "    profiles_df = deacl_val.preprocess_cgc(site=site,\n",
    "                                           datum=0,\n",
    "                                           overwrite=True)"
   ]
  },
  {
   "cell_type": "markdown",
   "metadata": {},
   "source": [
    "### TASMARC\n",
    "* [X] Renovated"
   ]
  },
  {
   "cell_type": "code",
   "execution_count": 38,
   "metadata": {},
   "outputs": [
    {
     "name": "stdout",
     "output_type": "stream",
     "text": [
      "Processing output_data/tasmarc_gorringes_beach.csv                                         \r"
     ]
    }
   ],
   "source": [
    "# List of sites to iterate over\n",
    "sites = [i.split('/')[2] for i in glob.glob('input_data/tasmarc/*/')]\n",
    "# sites = sites[2:]\n",
    "\n",
    "for site in sites:\n",
    "    deacl_val.preprocess_tasmarc(site, datum=0, overwrite=True) \n"
   ]
  },
  {
   "cell_type": "markdown",
   "metadata": {},
   "source": [
    "### WA DoT\n",
    "* [X] Renovated"
   ]
  },
  {
   "cell_type": "code",
   "execution_count": null,
   "metadata": {},
   "outputs": [],
   "source": [
    "# Read in tertiary compartment file to regionalise results\n",
    "# tertiary_gdf = gpd.read_file('input_data/WA_tertiaryCC.shp').to_crs('EPSG:3577')\n",
    "tertiary_gdf = gpd.read_file('input_data/wa_sw.geojson').to_crs('EPSG:3577')\n",
    "tertiary_gdf = tertiary_gdf.set_index('FROM_')\n",
    "\n",
    "# Extract transects and validation distances\n",
    "deacl_val.preprocess_wadot(regions_gdf=tertiary_gdf, \n",
    "                           fname='input_data/wadot/Coastline_Movements_20190819.gdb',\n",
    "                           smartline='../input_data/Smartline.gdb',\n",
    "                           aus_poly='/g/data/r78/rt1527/shapefiles/australia/australia/cstauscd_r.shp')"
   ]
  },
  {
   "cell_type": "markdown",
   "metadata": {},
   "source": [
    "### WA DoT - Stirling"
   ]
  },
  {
   "cell_type": "code",
   "execution_count": null,
   "metadata": {},
   "outputs": [],
   "source": [
    "deacl_val.preprocess_stirling(fname_out='output_data/stirling_stirling.csv',\n",
    "                              datum=0)"
   ]
  },
  {
   "cell_type": "markdown",
   "metadata": {},
   "source": [
    "### SA Department of Environment and Water"
   ]
  },
  {
   "cell_type": "code",
   "execution_count": null,
   "metadata": {},
   "outputs": [],
   "source": [
    "import math\n",
    "from pyproj import Transformer\n",
    "\n",
    "# Load data and set nodata values to NaN\n",
    "wide_df = pd.read_csv('input_data/sadew/200011.CSV', na_values=[-9999])\n",
    "\n",
    "# Reproject coords to Albers and create geodataframe\n",
    "trans = Transformer.from_crs(\"EPSG:28354\", \"EPSG:28356\", always_xy=True)\n",
    "wide_df['EASTING'], wide_df['NORTHING'] = trans.transform(\n",
    "    wide_df.EASTING.values, wide_df.NORTHING.values)\n",
    "\n",
    "# Reshape into long format with each observation on a new row\n",
    "profile_df = pd.melt(wide_df.drop('SAMPLE_NO', axis=1), \n",
    "                     id_vars=['EASTING', 'NORTHING', 'PROFILE'],\n",
    "                     value_name='elevation').dropna()\n",
    "\n",
    "# Set column names to lower case\n",
    "profile_df.columns = profile_df.columns.str.lower()\n",
    "\n",
    "# Extract date info\n",
    "profile_df['date'] = profile_df['variable'].str[1:].str.strip()\n",
    "profile_df['date'] = pd.to_datetime(profile_df['date'], format='%d%m%Y')\n",
    "\n",
    "# Restrict to post 1987\n",
    "profile_df = profile_df[(profile_df.date.dt.year > 1987)]\n",
    "\n",
    "# Add unique ID column\n",
    "profile_df['beach'] = 'sadew'\n",
    "profile_df['section'] = 'all'\n",
    "profile_df['profile'] = profile_df['profile'].astype(str)\n",
    "profile_df['site'] = profile_df[['beach', 'section', 'profile']].apply('_'.join, 1)\n",
    "profile_df['source'] = 'sadew'\n",
    "\n",
    "# Compute origin points for each profile\n",
    "profile_df = profile_df.assign(start_x=wide_df.iloc[0, 2], \n",
    "                               start_y=wide_df.iloc[0, 3],\n",
    "                               end_x=wide_df.iloc[-1, 2],\n",
    "                               end_y=wide_df.iloc[-1, 3])\n",
    "\n",
    "# Compute chainage\n",
    "profile_df['chainage'] = profile_df.apply(\n",
    "    lambda x: math.hypot(x.easting - x.start_x, x.northing - x.start_y), axis=1)"
   ]
  },
  {
   "cell_type": "code",
   "execution_count": 64,
   "metadata": {},
   "outputs": [],
   "source": [
    "# Find location and distance to water for datum height (0 m AHD)\n",
    "out = profile_df.groupby(['site', 'date']).apply(deacl_val.waterline_intercept, \n",
    "                                                  dist_col='chainage',\n",
    "                                                  x_col='easting', \n",
    "                                                  y_col='northing', \n",
    "                                                  z_col='elevation', \n",
    "                                                  z_val=0).dropna()\n",
    "\n",
    "# If the output contains data\n",
    "if len(out.index):\n",
    "\n",
    "    # Join into dataframe\n",
    "    shoreline_dist = out.join(\n",
    "        profile_df.groupby(['site', 'date']).first())\n",
    "\n",
    "    # Keep required columns\n",
    "    shoreline_dist = shoreline_dist[['beach', 'section', 'profile',  \n",
    "                                     'source', 'start_x', 'start_y', \n",
    "                                     'end_x', 'end_y', '0_dist', \n",
    "                                     '0_x', '0_y']]\n",
    "\n",
    "    # Export to file\n",
    "    shoreline_dist.to_csv(f'output_data/satest.csv')"
   ]
  },
  {
   "cell_type": "markdown",
   "metadata": {},
   "source": [
    "## Analysis\n",
    "To investigate:\n",
    "* [X] Outlier in Bermagui (Horseshoe Bay)\n",
    "* [X] **Multiple outliers in Boambee Beach**\n",
    "* [X] Single remaining outlier in Bogangar to Kingscliff\n",
    "* [X] **Cluster of outliers in Burgess Beach: caused by one year of channel profiles**\n",
    "* [X] Sporadic outliers in Byron Bay\n",
    "* [X] Two remaining outlier in Corindi Beach\n",
    "* [X] **Major outliers at Crowdy Head**\n",
    "* [X] **String of outliers in opposite direction at Cullendulla**\n",
    "* [X] One remaining outlier at Diamond Beach\n",
    "* [X] One remaining outlier at Eurobadalla Beaches North\n",
    "* [ ] **Cluster of outliers at Evans Head and Broadwater**\n",
    "* [X] Two outliers in Fern Bay\n",
    "* [ ] **Extreme outliers at Flynn's Beach**\n",
    "* [ ] **Skewed result at Gerringong Harbour**\n",
    "* [ ] Outliers in Hargrave's Beach\n",
    "* [ ] Remaining outliers at Jimmy's Beach\n",
    "* [X] **Remaining major outlier at Lake Illawarra**\n",
    "* [X] **Outliers in Manly Beach**\n",
    "* [X] **Outliers at Mooney Beach**\n",
    "* [X] **Major issues with offset shorelines at Narrabeen/Collory**\n",
    "* [X] Outlier at Ocean View Beach\n",
    "* [X] **Outliers in opposite direction at Park's Beach**\n",
    "* [X] Cluster of outliers at Patch's Beach\n",
    "* [X] Outliers at Port Hacking \n",
    "* [X] **Weird line of points at Rainbow Beach**\n",
    "* [X] **No relationship at Sandbar Beach**\n",
    "* [ ] Outliers at Shellharbour Little Lake\n",
    "* [X] One remaining outlier at Stuart's Point\n",
    "* [ ] **Several remaining outliers at Swansea Belmont**\n",
    "* [X] **Cluster of outliers at The Entrance**\n",
    "* [X] Single outlier at Warrain\n",
    "* [ ] **Major issues with Valla Beach**"
   ]
  },
  {
   "cell_type": "code",
   "execution_count": 65,
   "metadata": {},
   "outputs": [
    {
     "name": "stdout",
     "output_type": "stream",
     "text": [
      "output_data/wrl_narrabeen.csv                                                   \r"
     ]
    }
   ],
   "source": [
    "val_paths = glob.glob('output_data/wrl_*.csv')\n",
    "deacl_path = '/g/data/r78/DEACoastLines/DEACoastLines_coastlines_v0.3.0.shp'\n",
    "\n",
    "stats_list = []\n",
    "\n",
    "for val_path in val_paths:\n",
    "    \n",
    "    # Run analysis and close resulting figure\n",
    "    print(f'{val_path:<80}', end='\\r')\n",
    "    output_stats = deacl_val.deacl_validation(val_path, \n",
    "                                              deacl_path,\n",
    "                                              datum=0)\n",
    "    \n",
    "    # Append stats to list\n",
    "    stats_list.append(output_stats)\n",
    "    "
   ]
  },
  {
   "cell_type": "code",
   "execution_count": 66,
   "metadata": {},
   "outputs": [
    {
     "data": {
      "text/html": [
       "<div>\n",
       "<style scoped>\n",
       "    .dataframe tbody tr th:only-of-type {\n",
       "        vertical-align: middle;\n",
       "    }\n",
       "\n",
       "    .dataframe tbody tr th {\n",
       "        vertical-align: top;\n",
       "    }\n",
       "\n",
       "    .dataframe thead th {\n",
       "        text-align: right;\n",
       "    }\n",
       "</style>\n",
       "<table border=\"1\" class=\"dataframe\">\n",
       "  <thead>\n",
       "    <tr style=\"text-align: right;\">\n",
       "      <th></th>\n",
       "      <th>id</th>\n",
       "      <th>year</th>\n",
       "      <th>beach</th>\n",
       "      <th>section</th>\n",
       "      <th>profile</th>\n",
       "      <th>source</th>\n",
       "      <th>certainty</th>\n",
       "      <th>n</th>\n",
       "      <th>start_x</th>\n",
       "      <th>start_y</th>\n",
       "      <th>end_x</th>\n",
       "      <th>end_y</th>\n",
       "      <th>val_x</th>\n",
       "      <th>val_y</th>\n",
       "      <th>val_dist</th>\n",
       "      <th>deacl_x</th>\n",
       "      <th>deacl_y</th>\n",
       "      <th>deacl_dist</th>\n",
       "      <th>diff_dist</th>\n",
       "    </tr>\n",
       "  </thead>\n",
       "  <tbody>\n",
       "    <tr>\n",
       "      <th>0</th>\n",
       "      <td>narrabeen_all_pf1</td>\n",
       "      <td>1988</td>\n",
       "      <td>narrabeen</td>\n",
       "      <td>all</td>\n",
       "      <td>pf2</td>\n",
       "      <td>DUNEFILL</td>\n",
       "      <td>good</td>\n",
       "      <td>11</td>\n",
       "      <td>1.772383e+06</td>\n",
       "      <td>-3.812083e+06</td>\n",
       "      <td>1.772527e+06</td>\n",
       "      <td>-3.812212e+06</td>\n",
       "      <td>1.772450e+06</td>\n",
       "      <td>-3.812143e+06</td>\n",
       "      <td>90.373134</td>\n",
       "      <td>1.772454e+06</td>\n",
       "      <td>-3.812147e+06</td>\n",
       "      <td>95.308817</td>\n",
       "      <td>-4.935683</td>\n",
       "    </tr>\n",
       "    <tr>\n",
       "      <th>1</th>\n",
       "      <td>narrabeen_all_pf2</td>\n",
       "      <td>1988</td>\n",
       "      <td>narrabeen</td>\n",
       "      <td>all</td>\n",
       "      <td>pf2</td>\n",
       "      <td>DUNEFILL</td>\n",
       "      <td>good</td>\n",
       "      <td>11</td>\n",
       "      <td>1.772172e+06</td>\n",
       "      <td>-3.812452e+06</td>\n",
       "      <td>1.772326e+06</td>\n",
       "      <td>-3.812565e+06</td>\n",
       "      <td>1.772236e+06</td>\n",
       "      <td>-3.812499e+06</td>\n",
       "      <td>79.083969</td>\n",
       "      <td>1.772225e+06</td>\n",
       "      <td>-3.812491e+06</td>\n",
       "      <td>65.703471</td>\n",
       "      <td>13.380499</td>\n",
       "    </tr>\n",
       "    <tr>\n",
       "      <th>2</th>\n",
       "      <td>narrabeen_all_pf4</td>\n",
       "      <td>1988</td>\n",
       "      <td>narrabeen</td>\n",
       "      <td>all</td>\n",
       "      <td>pf2</td>\n",
       "      <td>DUNEFILL</td>\n",
       "      <td>good</td>\n",
       "      <td>10</td>\n",
       "      <td>1.771750e+06</td>\n",
       "      <td>-3.813269e+06</td>\n",
       "      <td>1.771924e+06</td>\n",
       "      <td>-3.813335e+06</td>\n",
       "      <td>1.771826e+06</td>\n",
       "      <td>-3.813298e+06</td>\n",
       "      <td>80.756596</td>\n",
       "      <td>1.771814e+06</td>\n",
       "      <td>-3.813293e+06</td>\n",
       "      <td>67.930720</td>\n",
       "      <td>12.825877</td>\n",
       "    </tr>\n",
       "    <tr>\n",
       "      <th>3</th>\n",
       "      <td>narrabeen_all_pf6</td>\n",
       "      <td>1988</td>\n",
       "      <td>narrabeen</td>\n",
       "      <td>all</td>\n",
       "      <td>pf2</td>\n",
       "      <td>DUNEFILL</td>\n",
       "      <td>good</td>\n",
       "      <td>11</td>\n",
       "      <td>1.771614e+06</td>\n",
       "      <td>-3.814134e+06</td>\n",
       "      <td>1.771799e+06</td>\n",
       "      <td>-3.814137e+06</td>\n",
       "      <td>1.771641e+06</td>\n",
       "      <td>-3.814134e+06</td>\n",
       "      <td>27.280702</td>\n",
       "      <td>1.771639e+06</td>\n",
       "      <td>-3.814134e+06</td>\n",
       "      <td>25.028625</td>\n",
       "      <td>2.252076</td>\n",
       "    </tr>\n",
       "    <tr>\n",
       "      <th>4</th>\n",
       "      <td>narrabeen_all_pf8</td>\n",
       "      <td>1988</td>\n",
       "      <td>narrabeen</td>\n",
       "      <td>all</td>\n",
       "      <td>pf2</td>\n",
       "      <td>DUNEFILL</td>\n",
       "      <td>good</td>\n",
       "      <td>11</td>\n",
       "      <td>1.771690e+06</td>\n",
       "      <td>-3.814964e+06</td>\n",
       "      <td>1.771865e+06</td>\n",
       "      <td>-3.814880e+06</td>\n",
       "      <td>1.771734e+06</td>\n",
       "      <td>-3.814943e+06</td>\n",
       "      <td>49.383562</td>\n",
       "      <td>1.771735e+06</td>\n",
       "      <td>-3.814943e+06</td>\n",
       "      <td>50.025371</td>\n",
       "      <td>-0.641809</td>\n",
       "    </tr>\n",
       "  </tbody>\n",
       "</table>\n",
       "</div>"
      ],
      "text/plain": [
       "                  id  year      beach section profile    source certainty   n  \\\n",
       "0  narrabeen_all_pf1  1988  narrabeen     all     pf2  DUNEFILL      good  11   \n",
       "1  narrabeen_all_pf2  1988  narrabeen     all     pf2  DUNEFILL      good  11   \n",
       "2  narrabeen_all_pf4  1988  narrabeen     all     pf2  DUNEFILL      good  10   \n",
       "3  narrabeen_all_pf6  1988  narrabeen     all     pf2  DUNEFILL      good  11   \n",
       "4  narrabeen_all_pf8  1988  narrabeen     all     pf2  DUNEFILL      good  11   \n",
       "\n",
       "        start_x       start_y         end_x         end_y         val_x  \\\n",
       "0  1.772383e+06 -3.812083e+06  1.772527e+06 -3.812212e+06  1.772450e+06   \n",
       "1  1.772172e+06 -3.812452e+06  1.772326e+06 -3.812565e+06  1.772236e+06   \n",
       "2  1.771750e+06 -3.813269e+06  1.771924e+06 -3.813335e+06  1.771826e+06   \n",
       "3  1.771614e+06 -3.814134e+06  1.771799e+06 -3.814137e+06  1.771641e+06   \n",
       "4  1.771690e+06 -3.814964e+06  1.771865e+06 -3.814880e+06  1.771734e+06   \n",
       "\n",
       "          val_y   val_dist       deacl_x       deacl_y  deacl_dist  diff_dist  \n",
       "0 -3.812143e+06  90.373134  1.772454e+06 -3.812147e+06   95.308817  -4.935683  \n",
       "1 -3.812499e+06  79.083969  1.772225e+06 -3.812491e+06   65.703471  13.380499  \n",
       "2 -3.813298e+06  80.756596  1.771814e+06 -3.813293e+06   67.930720  12.825877  \n",
       "3 -3.814134e+06  27.280702  1.771639e+06 -3.814134e+06   25.028625   2.252076  \n",
       "4 -3.814943e+06  49.383562  1.771735e+06 -3.814943e+06   50.025371  -0.641809  "
      ]
     },
     "execution_count": 66,
     "metadata": {},
     "output_type": "execute_result"
    }
   ],
   "source": [
    "# Combine stats into a dataframe\n",
    "stats_df = pd.concat(stats_list)\n",
    "stats_df.head()"
   ]
  },
  {
   "cell_type": "code",
   "execution_count": null,
   "metadata": {},
   "outputs": [],
   "source": [
    "# # Export evaluation vector\n",
    "# output_name = 'tasmarc'\n",
    "# export_eval(stats_df, output_name)"
   ]
  },
  {
   "cell_type": "code",
   "execution_count": 75,
   "metadata": {},
   "outputs": [
    {
     "data": {
      "image/png": "[encoded data removed]",
      "text/plain": [
       "<Figure size 576x576 with 1 Axes>"
      ]
     },
     "metadata": {
      "needs_background": "light"
     },
     "output_type": "display_data"
    },
    {
     "data": {
      "image/png": "[encoded data removed]",
      "text/plain": [
       "<Figure size 576x576 with 1 Axes>"
      ]
     },
     "metadata": {
      "needs_background": "light"
     },
     "output_type": "display_data"
    },
    {
     "data": {
      "image/png": "[encoded data removed]",
      "text/plain": [
       "<Figure size 861.875x122.4 with 1 Axes>"
      ]
     },
     "metadata": {
      "needs_background": "light"
     },
     "output_type": "display_data"
    }
   ],
   "source": [
    "# Print stats and plot scatterplot\n",
    "stats_subset = stats_df  #.loc[stats_df.id.isin(['bussleton_all_31'])]\n",
    "\n",
    "def val_plot(df, \n",
    "             title='Validation',\n",
    "             scatter=True, \n",
    "             density=True,\n",
    "             time=True, \n",
    "             time_stat='mean',\n",
    "             time_legend_pos=[0.8, 0.035],\n",
    "             offset=0,\n",
    "             extent=(0, 120),\n",
    "             scatter_kwargs={}, \n",
    "             time_kwargs={}):\n",
    "    \n",
    "    # Copy data and apply offset\n",
    "    df = df.copy()\n",
    "    df['deacl_dist'] += offset\n",
    "\n",
    "    # Compute stats\n",
    "    mae = mean_absolute_error(df.val_dist, df.deacl_dist)\n",
    "    rmse = mean_squared_error(df.val_dist, df.deacl_dist) ** 0.5\n",
    "    stdev = df[[\"diff_dist\"]].std().iloc[0]\n",
    "    corr = df[[\"val_dist\", \"deacl_dist\"]].corr().iloc[0, 1]\n",
    "    bias = df[[\"diff_dist\"]].mean().iloc[0]\n",
    "    offset_str = 'landward offset' if bias > 0 else 'ocean-ward offset'\n",
    "\n",
    "    if scatter:\n",
    "        \n",
    "        # Plot data as scatterplot\n",
    "        fig, ax = plt.subplots(figsize=(8, 8))\n",
    "        df.plot.scatter(x='val_dist',\n",
    "                        y='deacl_dist',\n",
    "                        s=25,\n",
    "                        edgecolors='black',\n",
    "                        linewidth=0.5,\n",
    "                        xlim=extent,\n",
    "                        ylim=extent,\n",
    "                        ax=ax,\n",
    "                        **scatter_kwargs)\n",
    "        \n",
    "        # Add dashed line\n",
    "        ax.plot(np.linspace(*extent),\n",
    "                np.linspace(*extent),\n",
    "                color='black',\n",
    "                linestyle='dashed')\n",
    "        \n",
    "        ax.set_xlabel(f'{title} (metres along transect)')\n",
    "        ax.set_ylabel(f'DEA CoastLines (metres along transect)')\n",
    "        \n",
    "        # Add annotation\n",
    "        ax.annotate(f'Mean Absolute Error: {mae:.1f} m\\n' \\\n",
    "                    f'RMSE: {rmse:.1f} m\\n' \\\n",
    "                    f'Standard deviation: {stdev:.1f} m\\n' \\\n",
    "                    f'Bias: {bias:.1f} m {offset_str}\\n' \\\n",
    "                    f'Correlation: {corr:.2f}\\n',\n",
    "                    xy=(0.04, 0.75),\n",
    "                    fontsize=14,\n",
    "                    xycoords='axes fraction')\n",
    "\n",
    "        # Set title\n",
    "        plt.gca().set_title(f'DEA CoastLines vs {title}', weight='bold')\n",
    "        \n",
    "        # Export to file        \n",
    "        fig.savefig(f\"{title}_scatter_offset{offset:.1f}.png\", dpi=300)\n",
    "        \n",
    "    if density:\n",
    "        \n",
    "        fig, ax = plt.subplots(figsize=(8, 8))\n",
    "\n",
    "        g = sns.kdeplot(ax=ax,\n",
    "                        data=df.val_dist,\n",
    "                        data2=df.deacl_dist, \n",
    "                        cmap='YlOrRd', \n",
    "                        shade=True,\n",
    "                        bw=4,\n",
    "                        shade_lowest=False,\n",
    "                        clip=(extent, extent))\n",
    "\n",
    "        g.set(xlabel=f'{title} (metres along transect)', \n",
    "              ylabel=f'DEA CoastLines (metres along transect)')\n",
    "        ax.set_title(f'DEA CoastLines vs {title}', weight='bold')\n",
    "\n",
    "        # Add stats annotation\n",
    "        ax.annotate(f'Mean Absolute Error: {mae:.1f} m\\n' \\\n",
    "                    f'RMSE: {rmse:.1f} m\\n' \\\n",
    "                    f'Standard deviation: {stdev:.1f} m\\n' \\\n",
    "                    f'Bias: {bias:.1f} m {offset_str}\\n' \\\n",
    "                    f'Correlation: {corr:.2f}\\n',\n",
    "                    xy=(0.04, 0.75),\n",
    "                    fontsize=14,\n",
    "                    xycoords='axes fraction')\n",
    "\n",
    "        # Add diagonal line\n",
    "        plt.gca().plot(np.linspace(*extent), \n",
    "                       np.linspace(*extent),\n",
    "                       color='black',\n",
    "                       linestyle='dashed')\n",
    "        \n",
    "        plt.gca().set_ylim(bottom=extent[0])\n",
    "        plt.gca().set_xlim(left=extent[0])\n",
    "\n",
    "        # Export to file\n",
    "        fig = g.get_figure()\n",
    "        fig.savefig(f\"{title}_heatmap_offset{offset:.1f}.png\", dpi=300)\n",
    "        \n",
    "    if time:\n",
    "        \n",
    "        # Group by beach and apply statistic\n",
    "        stats_grouped = (df.groupby(['beach', 'year'], as_index=False)\n",
    "                         .aggregate(time_stat)\n",
    "                         .rename({'beach': 'id',\n",
    "                                  'deacl_dist': 'DEA CoastLines',\n",
    "                                  'val_dist': title}, axis=1)\n",
    "                         .groupby('id')\n",
    "                         .filter(lambda x: len(x) > 1))\n",
    "\n",
    "        # Melt data into long format for faceted plotting\n",
    "        stats_melted = pd.melt(stats_grouped, \n",
    "                               id_vars=['id', 'year'],\n",
    "                               value_vars=['DEA CoastLines', title],\n",
    "                               value_name='Distance (m)')\n",
    "\n",
    "        # Plot facet data\n",
    "        g = sns.relplot(data=stats_melted,\n",
    "                        x=\"year\", \n",
    "                        y=\"Distance (m)\", \n",
    "                        col=\"id\", \n",
    "                        hue=\"variable\",\n",
    "                        height=1.7, \n",
    "                        aspect=1.0, \n",
    "                        kind=\"line\", \n",
    "                        legend='full', \n",
    "                        col_wrap=5,\n",
    "                        **time_kwargs)\n",
    "        plt.subplots_adjust(top=0.9)\n",
    "        g.fig.suptitle(f'DEA CoastLines vs {title}', \n",
    "                       weight='bold', \n",
    "                       ha='right')\n",
    "        \n",
    "        # Simplify titles\n",
    "        g.set_titles(row_template='{row_name}', \n",
    "                     col_template='{col_name}')\n",
    "\n",
    "        # Customise legend\n",
    "        g._legend.texts[0].set_text(\"\")\n",
    "        g._legend.set_bbox_to_anchor(time_legend_pos)\n",
    "        \n",
    "        # Export to file\n",
    "        g.savefig(f\"{title}_time_offset{offset:.1f}.png\", dpi=300)\n",
    "\n",
    "        \n",
    "# Run analysis\n",
    "g = val_plot(df=stats_subset,\n",
    "             title='Narrabeen-Collaroy Beach Survey Program',\n",
    "             scatter=True, \n",
    "             density=True,\n",
    "             time=True,\n",
    "             time_stat='median',\n",
    "             time_legend_pos=[0.67, 0.11],\n",
    "             offset=0,\n",
    "             extent=(0, 150))"
   ]
  },
  {
   "cell_type": "markdown",
   "metadata": {},
   "source": [
    "***\n",
    "\n",
    "## Additional information"
   ]
  },
  {
   "cell_type": "markdown",
   "metadata": {},
   "source": [
    "**License:** The code in this notebook is licensed under the [Apache License, Version 2.0](https://www.apache.org/licenses/LICENSE-2.0). \n",
    "Digital Earth Australia data is licensed under the [Creative Commons by Attribution 4.0](https://creativecommons.org/licenses/by/4.0/) license.\n",
    "\n",
    "**Contact:** If you need assistance, please post a question on the [Open Data Cube Slack channel](http://slack.opendatacube.org/) or on the [GIS Stack Exchange](https://gis.stackexchange.com/questions/ask?tags=open-data-cube) using the `open-data-cube` tag (you can view previously asked questions [here](https://gis.stackexchange.com/questions/tagged/open-data-cube)).\n",
    "If you would like to report an issue with this notebook, you can file one on [Github](https://github.com/GeoscienceAustralia/dea-notebooks).\n",
    "\n",
    "**Last modified:** May 2020"
   ]
  }
 ],
 "metadata": {
  "kernelspec": {
   "display_name": "Python 3",
   "language": "python",
   "name": "python3"
  },
  "language_info": {
   "codemirror_mode": {
    "name": "ipython",
    "version": 3
   },
   "file_extension": ".py",
   "mimetype": "text/x-python",
   "name": "python",
   "nbconvert_exporter": "python",
   "pygments_lexer": "ipython3",
   "version": "3.6.10"
  },
  "widgets": {
   "application/vnd.jupyter.widget-state+json": {
    "state": {},
    "version_major": 2,
    "version_minor": 0
   }
  }
 },
 "nbformat": 4,
 "nbformat_minor": 4
}
