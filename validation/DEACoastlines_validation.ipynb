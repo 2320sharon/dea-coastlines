{
 "cells": [
  {
   "cell_type": "markdown",
   "metadata": {},
   "source": [
    "# DEA Coastlines validation\n",
    "\n",
    "To do:\n",
    "* [X] Change output CRS to Australian Albers\n",
    "* [X] Discard validation sides with multiple intersects?\n",
    "* [X] Split analysis code into:\n",
    "    * Aggregate multiple profiles and export into single file\n",
    "    * Analyse and plot single file\n",
    "* [X] Add extraction of environmental data for each profile line"
   ]
  },
  {
   "cell_type": "markdown",
   "metadata": {},
   "source": [
    "## Load modules/functions\n"
   ]
  },
  {
   "cell_type": "code",
   "execution_count": 2,
   "metadata": {},
   "outputs": [],
   "source": [
    "%matplotlib inline\n",
    "%load_ext line_profiler\n",
    "%load_ext autoreload\n",
    "%autoreload 2\n",
    "\n",
    "import os\n",
    "import sys\n",
    "import glob\n",
    "import numpy as np\n",
    "import geopandas as gpd\n",
    "import pandas as pd\n",
    "import seaborn as sns\n",
    "import matplotlib.pyplot as plt\n",
    "from shapely.geometry import box\n",
    "import multiprocessing as mp\n",
    "from sklearn.metrics import mean_squared_error\n",
    "from sklearn.metrics import mean_absolute_error\n",
    "import statsmodels.api as sm\n",
    "lowess = sm.nonparametric.lowess\n",
    "\n",
    "sys.path.append('/g/data/r78/DEACoastlines/')\n",
    "import deacoastlines_validation as deacl_val\n",
    "import deacoastlines_statistics as deacl_stats\n",
    "\n",
    "def to_vector(df,\n",
    "              fname='test.shp',\n",
    "              x='x',\n",
    "              y='y',\n",
    "              crs='EPSG:3577',\n",
    "              output_crs='EPSG:3577'):\n",
    "    \n",
    "    # Convert datetimes to strings\n",
    "    df = df.copy()\n",
    "    is_datetime = df.dtypes == 'datetime64[ns]'\n",
    "    df.loc[:, is_datetime] = df.loc[:, is_datetime].astype(str) \n",
    "    \n",
    "    # Export to file\n",
    "    gdf = gpd.GeoDataFrame(data=df.loc[:, df.dtypes != 'datetime64[ns]'],\n",
    "                     geometry=gpd.points_from_xy(x=df[x], y=df[y]),\n",
    "                     crs=crs).to_crs(output_crs).to_file(fname)\n",
    "    \n",
    "    return gdf\n",
    "\n",
    "\n",
    "def export_eval(df, output_name, output_crs='EPSG:3577'):\n",
    "    \n",
    "    from shapely.geometry import box, Point, LineString\n",
    "\n",
    "    # Extract geometries\n",
    "    val_points = gpd.points_from_xy(x=df.val_x, y=df.val_y)\n",
    "    deacl_points = gpd.points_from_xy(x=df.deacl_x, y=df.deacl_y)\n",
    "    df_profiles = df.groupby('id').first()\n",
    "    profile_lines = df_profiles.apply(\n",
    "        lambda x: LineString([(x.start_x, x.start_y), (x.end_x, x.end_y)]), axis=1)\n",
    "\n",
    "    # Export validation points\n",
    "    val_gdf = gpd.GeoDataFrame(data=df,\n",
    "                               geometry=val_points,\n",
    "                               crs=output_crs).to_crs('EPSG:4326')\n",
    "    val_gdf.to_file(f'figures/eval/{output_name}_val.geojson', \n",
    "                    driver='GeoJSON')\n",
    "\n",
    "    # Export DEACL points\n",
    "    deacl_gdf = gpd.GeoDataFrame(data=df,\n",
    "                                 geometry=deacl_points,\n",
    "                                 crs=output_crs).to_crs('EPSG:4326')\n",
    "    deacl_gdf.to_file(f'figures/eval/{output_name}_deacl.geojson', \n",
    "                      driver='GeoJSON')\n",
    "\n",
    "    # Export profiles\n",
    "    profile_gdf = gpd.GeoDataFrame(data=df_profiles,\n",
    "                                 geometry=profile_lines,\n",
    "                                 crs=output_crs).to_crs('EPSG:4326')\n",
    "    profile_gdf.to_file(f'figures/eval/{output_name}_profiles.geojson', \n",
    "                        driver='GeoJSON')\n",
    "\n",
    "\n",
    "def deacl_val_stats(val_dist, deacl_dist, n=None, remove_bias=False):\n",
    "\n",
    "    np.seterr(all='ignore')\n",
    "\n",
    "    # Compute difference and bias\n",
    "    diff_dist = val_dist - deacl_dist\n",
    "    bias = diff_dist.mean()\n",
    "    \n",
    "    if remove_bias:\n",
    "        deacl_dist += bias\n",
    "        diff_dist = val_dist - deacl_dist\n",
    "\n",
    "    # Compute stats\n",
    "    if n is None:\n",
    "        n = len(val_dist)\n",
    "    else:\n",
    "        n = sum(n)\n",
    "        \n",
    "    mae = mean_absolute_error(val_dist, deacl_dist)\n",
    "    rmse = mean_squared_error(val_dist, deacl_dist)**0.5\n",
    "    \n",
    "    \n",
    "    if n > 1:\n",
    "        corr = np.corrcoef(x=val_dist, y=deacl_dist)[0][1]\n",
    "        stdev = diff_dist.std()\n",
    "    else:\n",
    "        corr = np.nan\n",
    "        stdev = np.nan\n",
    "\n",
    "    return pd.Series({\n",
    "        'n': n,\n",
    "        'mae': f'{mae:.2f}',\n",
    "        'rmse': f'{rmse:.2f}',\n",
    "        'stdev': f'{stdev:.2f}',\n",
    "        'corr': f'{corr:.3f}',\n",
    "        'bias': f'{bias:.2f}',\n",
    "    }).astype(float)\n",
    "\n",
    "\n",
    "def rse_tableformat(not_bias_corrected, bias_corrected, groupby='source'):\n",
    "\n",
    "    # Fix rounding and total observations\n",
    "    not_bias_corrected['n'] = not_bias_corrected['n'].astype(int)\n",
    "    not_bias_corrected[['bias', 'stdev', 'mae', 'rmse']] = not_bias_corrected[['bias', 'stdev', 'mae', 'rmse']].round(1)\n",
    "    not_bias_corrected['n'] = not_bias_corrected.groupby(groupby)['n'].sum()\n",
    "    \n",
    "    # Move bias corrected values into brackets\n",
    "    not_bias_corrected['MAE (m)'] = (not_bias_corrected.mae.astype('str') + ' (' + \n",
    "                                 bias_corrected.mae.round(1).astype('str') + ')')\n",
    "    not_bias_corrected['RMSE (m)'] = (not_bias_corrected.rmse.astype('str') + ' (' + \n",
    "                                  bias_corrected.rmse.round(1).astype('str') + ')')\n",
    "    \n",
    "    # Sort by MAE, rename columns\n",
    "    not_bias_corrected = (not_bias_corrected.sort_values('mae')\n",
    "     .drop(['mae', 'rmse'], axis=1)\n",
    "     .rename({'stdev': 'SD (m)', 'corr': 'Correlation', 'bias': 'Bias (m)'}, axis=1)\n",
    "             [['n', 'Bias (m)', 'MAE (m)', 'RMSE (m)', 'SD (m)', 'Correlation']])\n",
    "\n",
    "    return not_bias_corrected"
   ]
  },
  {
   "cell_type": "code",
   "execution_count": null,
   "metadata": {},
   "outputs": [],
   "source": [
    "# to_vector(output_stats, fname='test6.shp', x='0_x', y='0_y', crs='EPSG:3577')"
   ]
  },
  {
   "cell_type": "markdown",
   "metadata": {},
   "source": [
    "## Pre-processing\n"
   ]
  },
  {
   "cell_type": "markdown",
   "metadata": {},
   "source": [
    "### Sunshine Coast"
   ]
  },
  {
   "cell_type": "code",
   "execution_count": null,
   "metadata": {},
   "outputs": [],
   "source": [
    "sites = ['8.Pumicestone - Bribie', '1.Coolum-Sunshine', '5.Dicky Beach', \n",
    "        '7.Kings Beach', '3.Mooloolaba', '2.Mudjimba-Yaroomba', '6.Shelly Beach',\n",
    "        '4.South Mooloolaba']\n",
    "\n",
    "for site in sites:\n",
    "    deacl_val.preprocess_sunshinecoast(site, datum=0, overwrite=True)\n"
   ]
  },
  {
   "cell_type": "markdown",
   "metadata": {},
   "source": [
    "### Moruya"
   ]
  },
  {
   "cell_type": "code",
   "execution_count": null,
   "metadata": {},
   "outputs": [],
   "source": [
    "deacl_val.preprocess_moruya(fname_out='output_data/moruya.csv', datum=0, overwrite=True)"
   ]
  },
  {
   "cell_type": "markdown",
   "metadata": {},
   "source": [
    "### Victoria/Deakin\n",
    "* [X] Renovated"
   ]
  },
  {
   "cell_type": "code",
   "execution_count": null,
   "metadata": {},
   "outputs": [],
   "source": [
    "deacl_val.preprocess_vicdeakin(fname='input_data/vicdeakin/z_data_10cm_VIC.csv',\n",
    "                               datum=0)"
   ]
  },
  {
   "cell_type": "markdown",
   "metadata": {},
   "source": [
    "### WRL Narrabeen \n",
    "* [X] Renovated"
   ]
  },
  {
   "cell_type": "code",
   "execution_count": null,
   "metadata": {},
   "outputs": [],
   "source": [
    "deacl_val.preprocess_narrabeen(fname='input_data/wrl/Narrabeen_Profiles_2019.csv',\n",
    "                               datum=0,\n",
    "                               overwrite=True)\n"
   ]
  },
  {
   "cell_type": "markdown",
   "metadata": {},
   "source": [
    "### NSW Beach Profile Database\n",
    "* [X] Renovated"
   ]
  },
  {
   "cell_type": "code",
   "execution_count": null,
   "metadata": {},
   "outputs": [],
   "source": [
    "with mp.Pool(mp.cpu_count()) as pool:\n",
    "    for fname in glob.glob('input_data/nswbpd/*.csv'):\n",
    "        pool.apply_async(deacl_val.preprocess_nswbpd, \n",
    "                         [fname, 0, False])\n",
    "\n",
    "    pool.close()\n",
    "    pool.join()\n",
    "    \n",
    "# fname = '/g/data/r78/DEACoastlines/validation/input_data/nswbpd/photogrammetry_Xsections_Lennox Head.csv'\n",
    "# profiles_df, intercept_df = deacl_val.preprocess_nswbpd(fname, 0, True)\n"
   ]
  },
  {
   "cell_type": "markdown",
   "metadata": {},
   "source": [
    "### City of Gold Coast\n",
    "* [X] Renovated\n",
    "* [ ] Fix North Kirra name"
   ]
  },
  {
   "cell_type": "code",
   "execution_count": null,
   "metadata": {},
   "outputs": [],
   "source": [
    "sites = ['BILINGA', 'BROADBEACH', 'BURLEIGH HEADS', 'COOLANGATTA', 'CURRUMBIN',\n",
    "         'DURANABH', 'FINGAL', 'GREENMOUNT HILL', 'KINGSCLIFF', 'KIRRA',\n",
    "         'MAIN BEACH', 'MERMAID BEACH', 'MIAMI', 'Main Beach Cross Sections',\n",
    "         'NARROWNECK', 'NO*TlH KIRRA', 'PALM BEACH', 'POINT DANGER', \n",
    "         'RAINBOW BAY', 'SEAWAY CENTRE LINE', 'SNAPPER ROCKS', \n",
    "         'SOUTH STRADBROKE', 'SURFERS PARADISE', 'THE SPIT', 'TUGUN', \n",
    "         'TWEED RIVER ENTRANCE']\n",
    "# sites=['MAIN BEACH']\n",
    "\n",
    "with mp.Pool(mp.cpu_count()) as pool:\n",
    "    for site in sites:\n",
    "        pool.apply_async(deacl_val.preprocess_cgc, \n",
    "                         [site, 0, False])\n",
    "\n",
    "    pool.close()\n",
    "    pool.join()\n"
   ]
  },
  {
   "cell_type": "markdown",
   "metadata": {},
   "source": [
    "### TASMARC\n",
    "* [X] Renovated"
   ]
  },
  {
   "cell_type": "code",
   "execution_count": null,
   "metadata": {},
   "outputs": [],
   "source": [
    "# List of sites to iterate over\n",
    "sites = [i.split('/')[2] for i in glob.glob('input_data/tasmarc/*/')]\n",
    "# sites = sites[2:]\n",
    "\n",
    "with mp.Pool(mp.cpu_count()) as pool:\n",
    "    for site in sites:\n",
    "        pool.apply_async(deacl_val.preprocess_tasmarc, \n",
    "                         [site, 0, False])\n",
    "\n",
    "    pool.close()\n",
    "    pool.join()\n"
   ]
  },
  {
   "cell_type": "markdown",
   "metadata": {},
   "source": [
    "### WA DoT\n",
    "* [X] Renovated"
   ]
  },
  {
   "cell_type": "code",
   "execution_count": null,
   "metadata": {},
   "outputs": [],
   "source": [
    "regions_gdf = gpd.read_file('input_data/WA_tertiaryCC.shp').to_crs('EPSG:3577').iloc[::-1]\n",
    "regions_gdf.index = (regions_gdf.LABEL\n",
    "                     .str.replace(' - ', '_')\n",
    "                     .str.replace('-', '')\n",
    "                     .str.replace(' ', '')\n",
    "                     .str.replace('/', '')\n",
    "                     .str.replace(',', '')\n",
    "                     .str.replace('_', '-')\n",
    "                     .str.lower())\n",
    "regions_gdf.head(1)\n"
   ]
  },
  {
   "cell_type": "code",
   "execution_count": null,
   "metadata": {},
   "outputs": [],
   "source": [
    "deacl_val.coastal_transects_parallel(\n",
    "    regions_gdf,\n",
    "    interval=200,\n",
    "    transect_length=500,\n",
    "    simplify_length=200,\n",
    "    transect_buffer=50,\n",
    "    overwrite=False,\n",
    "    output_path='input_data/coastal_transects_wadot.geojson')"
   ]
  },
  {
   "cell_type": "code",
   "execution_count": null,
   "metadata": {},
   "outputs": [],
   "source": [
    "with mp.Pool(mp.cpu_count()-1) as pool:\n",
    "    for i, _ in regions_gdf.iterrows():\n",
    "        pool.apply_async(deacl_val.preprocess_wadot, \n",
    "                         [regions_gdf.loc[[i]], False])\n",
    "\n",
    "    pool.close()\n",
    "    pool.join()\n"
   ]
  },
  {
   "cell_type": "markdown",
   "metadata": {},
   "source": [
    "### WA DoT - Stirling"
   ]
  },
  {
   "cell_type": "code",
   "execution_count": null,
   "metadata": {},
   "outputs": [],
   "source": [
    "deacl_val.preprocess_stirling(fname_out='output_data/stirling_stirling.csv',\n",
    "                              datum=0)"
   ]
  },
  {
   "cell_type": "markdown",
   "metadata": {},
   "source": [
    "### SA Department of Environment and Water"
   ]
  },
  {
   "cell_type": "code",
   "execution_count": 443,
   "metadata": {},
   "outputs": [
    {
     "name": "stdout",
     "output_type": "stream",
     "text": [
      "input_data/sadew/815013.CSV\n",
      "Processing output_data/sadew_815013.csv                                                    \r"
     ]
    },
    {
     "data": {
      "text/html": [
       "<div>\n",
       "<style scoped>\n",
       "    .dataframe tbody tr th:only-of-type {\n",
       "        vertical-align: middle;\n",
       "    }\n",
       "\n",
       "    .dataframe tbody tr th {\n",
       "        vertical-align: top;\n",
       "    }\n",
       "\n",
       "    .dataframe thead th {\n",
       "        text-align: right;\n",
       "    }\n",
       "</style>\n",
       "<table border=\"1\" class=\"dataframe\">\n",
       "  <thead>\n",
       "    <tr style=\"text-align: right;\">\n",
       "      <th></th>\n",
       "      <th>x</th>\n",
       "      <th>y</th>\n",
       "      <th>profile</th>\n",
       "      <th>z</th>\n",
       "      <th>date</th>\n",
       "      <th>beach</th>\n",
       "      <th>section</th>\n",
       "      <th>id</th>\n",
       "      <th>source</th>\n",
       "      <th>name</th>\n",
       "      <th>start_x</th>\n",
       "      <th>start_y</th>\n",
       "      <th>end_x</th>\n",
       "      <th>end_y</th>\n",
       "      <th>distance</th>\n",
       "    </tr>\n",
       "  </thead>\n",
       "  <tbody>\n",
       "    <tr>\n",
       "      <th>0</th>\n",
       "      <td>438388.090045</td>\n",
       "      <td>-3.907657e+06</td>\n",
       "      <td>815013</td>\n",
       "      <td>6.05</td>\n",
       "      <td>1988-12-15</td>\n",
       "      <td>sadew</td>\n",
       "      <td>all</td>\n",
       "      <td>sadew_all_815013</td>\n",
       "      <td>hydrographic survey</td>\n",
       "      <td>sadew</td>\n",
       "      <td>438388.090045</td>\n",
       "      <td>-3.907657e+06</td>\n",
       "      <td>438099.648771</td>\n",
       "      <td>-3.907630e+06</td>\n",
       "      <td>0.00000</td>\n",
       "    </tr>\n",
       "    <tr>\n",
       "      <th>1</th>\n",
       "      <td>438387.591322</td>\n",
       "      <td>-3.907657e+06</td>\n",
       "      <td>815013</td>\n",
       "      <td>6.16</td>\n",
       "      <td>1988-12-15</td>\n",
       "      <td>sadew</td>\n",
       "      <td>all</td>\n",
       "      <td>sadew_all_815013</td>\n",
       "      <td>hydrographic survey</td>\n",
       "      <td>sadew</td>\n",
       "      <td>438388.090045</td>\n",
       "      <td>-3.907657e+06</td>\n",
       "      <td>438099.648771</td>\n",
       "      <td>-3.907630e+06</td>\n",
       "      <td>0.50118</td>\n",
       "    </tr>\n",
       "  </tbody>\n",
       "</table>\n",
       "</div>"
      ],
      "text/plain": [
       "               x             y profile     z       date  beach section  \\\n",
       "0  438388.090045 -3.907657e+06  815013  6.05 1988-12-15  sadew     all   \n",
       "1  438387.591322 -3.907657e+06  815013  6.16 1988-12-15  sadew     all   \n",
       "\n",
       "                 id               source   name        start_x       start_y  \\\n",
       "0  sadew_all_815013  hydrographic survey  sadew  438388.090045 -3.907657e+06   \n",
       "1  sadew_all_815013  hydrographic survey  sadew  438388.090045 -3.907657e+06   \n",
       "\n",
       "           end_x         end_y  distance  \n",
       "0  438099.648771 -3.907630e+06   0.00000  \n",
       "1  438099.648771 -3.907630e+06   0.50118  "
      ]
     },
     "execution_count": 443,
     "metadata": {},
     "output_type": "execute_result"
    }
   ],
   "source": [
    "sites = ['200048',\n",
    " '320010',\n",
    " '320011',\n",
    " '330005',\n",
    " '330014',\n",
    " '425001',\n",
    " '425002',\n",
    " '440004',\n",
    " '525019',\n",
    " '525022',\n",
    " '525023',\n",
    " '530009',\n",
    " '545001',\n",
    " '555007',\n",
    " '555012',\n",
    " '815013']\n",
    "\n",
    "fname = f'input_data/sadew/{sites[15]}.CSV'\n",
    "print(fname)\n",
    "profile_df = deacl_val.preprocess_sadew(fname, datum=0, overwrite=True)\n",
    "profile_df.head(2)"
   ]
  },
  {
   "cell_type": "code",
   "execution_count": 424,
   "metadata": {},
   "outputs": [
    {
     "data": {
      "text/plain": [
       "<matplotlib.axes._subplots.AxesSubplot at 0x7fbb5feb0c50>"
      ]
     },
     "execution_count": 424,
     "metadata": {},
     "output_type": "execute_result"
    },
    {
     "data": {
      "image/png": "[encoded data removed]",
      "text/plain": [
       "<Figure size 432x288 with 1 Axes>"
      ]
     },
     "metadata": {
      "needs_background": "light"
     },
     "output_type": "display_data"
    }
   ],
   "source": [
    "unique_years = profile_df.date.unique()[-5]\n",
    "profile_df.loc[profile_df.date == unique_years].plot(x='x', y='z')"
   ]
  },
  {
   "cell_type": "code",
   "execution_count": 57,
   "metadata": {},
   "outputs": [
    {
     "name": "stdout",
     "output_type": "stream",
     "text": [
      "Processing output_data/sadew_200011.csv                                                    Processing output_data/sadew_315004.csv                                                    Processing output_data/sadew_340001.csv                                                    Processing output_data/sadew_815011.csv                                                    Processing output_data/sadew_340009.csv                                                    Processing output_data/sadew_550013.csv                                                    Processing output_data/sadew_315001.csv                                                    Processing output_data/sadew_555005.csv                                                    Processing output_data/sadew_560026.csv                                                    Processing output_data/sadew_615007.csv                                                    Processing output_data/sadew_810004.csv                                                    Processing output_data/sadew_710022.csv                                                    Processing output_data/sadew_525003.csv                                                    Processing output_data/sadew_325003.csv                                                    Processing output_data/sadew_440001.csv                                                    Processing output_data/sadew_560010.csv                                                    Processing output_data/sadew_525012.csv                                                    \r"
     ]
    }
   ],
   "source": [
    "# from pathlib import Path\n",
    "# for fname in fname_list:\n",
    "#     preprocess_sadew(fname, datum=0, overwrite=False)\n",
    "\n",
    "fname_list = glob.glob('input_data/sadew/*.CSV')    \n",
    "\n",
    "with mp.Pool(mp.cpu_count()-1) as pool:\n",
    "    for fname in fname_list:\n",
    "        pool.apply_async(deacl_val.preprocess_sadew, \n",
    "                         [fname, 0, True])\n",
    "\n",
    "    pool.close()\n",
    "    pool.join()\n"
   ]
  },
  {
   "cell_type": "code",
   "execution_count": 139,
   "metadata": {},
   "outputs": [],
   "source": [
    "# profile_df['date'] = profile_df['variable'].str[1:].str.strip()\n",
    "# profile_df['date'] = pd.to_datetime(profile_df['date'], format='%d%m%Y')\n",
    "# profile_df = profile_df.drop('variable', axis=1)"
   ]
  },
  {
   "cell_type": "code",
   "execution_count": 147,
   "metadata": {},
   "outputs": [
    {
     "data": {
      "text/plain": [
       "0       1985-12-02\n",
       "1       1985-12-02\n",
       "2       1985-12-02\n",
       "3       1985-12-02\n",
       "4       1985-12-02\n",
       "           ...    \n",
       "70980   2019-12-03\n",
       "70981   2019-12-03\n",
       "70982   2019-12-03\n",
       "70983   2019-12-03\n",
       "70984   2019-12-03\n",
       "Name: date, Length: 46616, dtype: datetime64[ns]"
      ]
     },
     "execution_count": 147,
     "metadata": {},
     "output_type": "execute_result"
    }
   ],
   "source": [
    "pd.to_datetime(profile_df['date'], errors='coerce',format='%d%m%Y')"
   ]
  },
  {
   "cell_type": "code",
   "execution_count": 145,
   "metadata": {},
   "outputs": [
    {
     "data": {
      "text/plain": [
       "array(['02121985', '09121988', '05121991', '02121992', '30111993',\n",
       "       '30111994', '30111995', '01121997', '23111998', '27112000',\n",
       "       '06122001', '07122001', '30112005', '31112005', '04122007',\n",
       "       '05122007', '03122008', '04122008', '03122009', '04122009',\n",
       "       '09122010', '05122012', '06122012', '27042015', '28042015',\n",
       "       '05122016', '06122016', '15122017', '16122017', '14112018',\n",
       "       '15112018', '02122019', '03122019'], dtype=object)"
      ]
     },
     "execution_count": 145,
     "metadata": {},
     "output_type": "execute_result"
    }
   ],
   "source": [
    "profile_df['date'].unique()"
   ]
  },
  {
   "cell_type": "code",
   "execution_count": 111,
   "metadata": {},
   "outputs": [],
   "source": [
    "fname_list = glob.glob('input_data/sadew/*.CSV')"
   ]
  },
  {
   "cell_type": "code",
   "execution_count": 101,
   "metadata": {},
   "outputs": [],
   "source": [
    "out = []\n",
    "\n",
    "for fname in fname_list:\n",
    "    \n",
    "    # Load data and set nodata values to NaN\n",
    "#     print(fname)\n",
    "    wide_df = pd.read_csv(fname, nrows=1, usecols=[0, 2, 3]).replace(-9999, np.nan)\n",
    "    wide_df.columns = wide_df.columns.str.lower()\n",
    "    wide_df = wide_df.rename({'easting': 'x', 'northing': 'y'}, axis=1)\n",
    "    if (wide_df.x == 'EASTING').any():\n",
    "        print(fname)\n",
    "    \n",
    "    out.append(wide_df)  \n"
   ]
  },
  {
   "cell_type": "code",
   "execution_count": 112,
   "metadata": {},
   "outputs": [],
   "source": [
    "df = pd.concat(out)\n",
    "gdf = gpd.GeoDataFrame(data={'profile': df.profile}, geometry=gpd.points_from_xy(x=df.x, y=df.y), crs=\"EPSG:28353\")"
   ]
  },
  {
   "cell_type": "code",
   "execution_count": 113,
   "metadata": {},
   "outputs": [],
   "source": [
    "gdf.to_file('sa_test_UTM53.shp')"
   ]
  },
  {
   "cell_type": "markdown",
   "metadata": {},
   "source": [
    "## Analysis\n",
    "To investigate:\n",
    "* [ ] **Cluster of outliers at Evans Head and Broadwater**\n",
    "* [ ] **Extreme outliers at Flynn's Beach**\n",
    "* [ ] **Skewed result at Gerringong Harbour**\n",
    "* [ ] Outliers in Hargrave's Beach\n",
    "* [ ] Remaining outliers at Jimmy's Beach\n",
    "* [ ] Outliers at Shellharbour Little Lake\n",
    "* [ ] **Several remaining outliers at Swansea Belmont**\n",
    "* [ ] **Major issues with Valla Beach**"
   ]
  },
  {
   "cell_type": "code",
   "execution_count": 1,
   "metadata": {},
   "outputs": [
    {
     "ename": "NameError",
     "evalue": "name 'glob' is not defined",
     "output_type": "error",
     "traceback": [
      "\u001b[0;31m---------------------------------------------------------------------------\u001b[0m",
      "\u001b[0;31mNameError\u001b[0m                                 Traceback (most recent call last)",
      "\u001b[0;32m<ipython-input-1-0a3a32fd42d5>\u001b[0m in \u001b[0;36m<module>\u001b[0;34m\u001b[0m\n\u001b[1;32m      1\u001b[0m \u001b[0;32mimport\u001b[0m \u001b[0mrandom\u001b[0m\u001b[0;34m\u001b[0m\u001b[0;34m\u001b[0m\u001b[0m\n\u001b[0;32m----> 2\u001b[0;31m \u001b[0mval_paths\u001b[0m \u001b[0;34m=\u001b[0m \u001b[0mglob\u001b[0m\u001b[0;34m.\u001b[0m\u001b[0mglob\u001b[0m\u001b[0;34m(\u001b[0m\u001b[0;34m'output_data/*.csv'\u001b[0m\u001b[0;34m)\u001b[0m\u001b[0;34m\u001b[0m\u001b[0;34m\u001b[0m\u001b[0m\n\u001b[0m\u001b[1;32m      3\u001b[0m \u001b[0mrandom\u001b[0m\u001b[0;34m.\u001b[0m\u001b[0mshuffle\u001b[0m\u001b[0;34m(\u001b[0m\u001b[0mval_paths\u001b[0m\u001b[0;34m)\u001b[0m\u001b[0;34m\u001b[0m\u001b[0;34m\u001b[0m\u001b[0m\n\u001b[1;32m      4\u001b[0m \u001b[0;31m# deacl_path = '/g/data/r78/DEACoastlines/DEACoastLines_coastlines_v1.0.0.shp'\u001b[0m\u001b[0;34m\u001b[0m\u001b[0;34m\u001b[0m\u001b[0;34m\u001b[0m\u001b[0m\n\u001b[1;32m      5\u001b[0m \u001b[0mdeacl_path\u001b[0m \u001b[0;34m=\u001b[0m \u001b[0;34m'/g/data/r78/DEACoastlines/DEACoastlines_coastlines_v1.1.3.shp'\u001b[0m\u001b[0;34m\u001b[0m\u001b[0;34m\u001b[0m\u001b[0m\n",
      "\u001b[0;31mNameError\u001b[0m: name 'glob' is not defined"
     ]
    }
   ],
   "source": [
    "import random \n",
    "val_paths = glob.glob('output_data/*.csv')\n",
    "random.shuffle(val_paths)\n",
    "# deacl_path = '/g/data/r78/DEACoastlines/DEACoastLines_coastlines_v1.0.0.shp'\n",
    "deacl_path = '/g/data/r78/DEACoastlines/DEACoastlines_coastlines_v1.1.3.shp'\n",
    "# deacl_path = '/g/data/r78/DEACoastlines/cloud_buffer_test_v1.1.0.shp'\n",
    "\n",
    "prefix='v1.1.3'\n",
    "\n",
    "with mp.Pool(6) as pool:\n",
    "    for val_path in val_paths:\n",
    "        \n",
    "        # Run analysis and close resulting figure\n",
    "        pool.apply_async(deacl_val.deacl_validation, \n",
    "                         [val_path, deacl_path, 0, prefix, False])\n",
    "\n",
    "    pool.close()\n",
    "    pool.join()"
   ]
  },
  {
   "cell_type": "code",
   "execution_count": 186,
   "metadata": {},
   "outputs": [
    {
     "name": "stdout",
     "output_type": "stream",
     "text": [
      "output_data/sadew_815013.csv                                                    \r"
     ]
    }
   ],
   "source": [
    "for val_path in val_paths:\n",
    "    try:\n",
    "        deacl_val.deacl_validation(val_path, deacl_path, 0, prefix, False)\n",
    "    except:\n",
    "        pass"
   ]
  },
  {
   "cell_type": "code",
   "execution_count": 4,
   "metadata": {},
   "outputs": [],
   "source": [
    "prefix = 'v1.1.3'"
   ]
  },
  {
   "cell_type": "code",
   "execution_count": 5,
   "metadata": {},
   "outputs": [
    {
     "name": "stdout",
     "output_type": "stream",
     "text": [
      "Combining data\n"
     ]
    },
    {
     "data": {
      "text/plain": [
       "n        57662.000\n",
       "mae         13.740\n",
       "rmse        19.260\n",
       "stdev       16.820\n",
       "corr         0.991\n",
       "bias         9.370\n",
       "dtype: float64"
      ]
     },
     "execution_count": 5,
     "metadata": {},
     "output_type": "execute_result"
    }
   ],
   "source": [
    "# Load all results into a single file\n",
    "print('Combining data')\n",
    "stats_list = glob.glob(f'{prefix}_*.csv')\n",
    "stats_df = pd.concat([pd.read_csv(csv) for csv in stats_list])\n",
    "stats_df.to_csv('deacl_all_results.csv', index=False)\n",
    "deacl_val_stats(stats_df.val_dist, stats_df.deacl_dist, n=stats_df.n)"
   ]
  },
  {
   "cell_type": "code",
   "execution_count": 6,
   "metadata": {},
   "outputs": [],
   "source": [
    "stats_df = stats_df.loc[stats_df.name == 'sunshinecoast']"
   ]
  },
  {
   "cell_type": "code",
   "execution_count": 44,
   "metadata": {},
   "outputs": [
    {
     "data": {
      "text/plain": [
       "n        184.00\n",
       "mae        6.64\n",
       "rmse      13.32\n",
       "stdev     13.36\n",
       "corr       1.00\n",
       "bias       9.58\n",
       "dtype: float64"
      ]
     },
     "execution_count": 44,
     "metadata": {},
     "output_type": "execute_result"
    }
   ],
   "source": [
    "deacl_val_stats(stats_df.val_dist, stats_df.deacl_dist, n=stats_df.n, remove_bias=True)"
   ]
  },
  {
   "cell_type": "code",
   "execution_count": 137,
   "metadata": {},
   "outputs": [
    {
     "data": {
      "text/plain": [
       "<matplotlib.axes._subplots.AxesSubplot at 0x7f8a7a6524e0>"
      ]
     },
     "execution_count": 137,
     "metadata": {},
     "output_type": "execute_result"
    },
    {
     "data": {
      "image/png": "[encoded data removed]",
      "text/plain": [
       "<Figure size 432x288 with 1 Axes>"
      ]
     },
     "metadata": {
      "needs_background": "light"
     },
     "output_type": "display_data"
    }
   ],
   "source": [
    "test = stats_df.loc[stats_df.id == 'sadew_all_200020']\n",
    "test.plot(x='year', y='deacl_dist')\n",
    "test.plot(x='year', y='val_dist', ax=plt.gca())"
   ]
  },
  {
   "cell_type": "code",
   "execution_count": 2,
   "metadata": {},
   "outputs": [
    {
     "ename": "NameError",
     "evalue": "name 'stats_df' is not defined",
     "output_type": "error",
     "traceback": [
      "\u001b[0;31m---------------------------------------------------------------------------\u001b[0m",
      "\u001b[0;31mNameError\u001b[0m                                 Traceback (most recent call last)",
      "\u001b[0;32m<ipython-input-2-453efc2da9cd>\u001b[0m in \u001b[0;36m<module>\u001b[0;34m\u001b[0m\n\u001b[1;32m      1\u001b[0m \u001b[0;31m# Export evaluation vector\u001b[0m\u001b[0;34m\u001b[0m\u001b[0;34m\u001b[0m\u001b[0;34m\u001b[0m\u001b[0m\n\u001b[1;32m      2\u001b[0m \u001b[0moutput_name\u001b[0m \u001b[0;34m=\u001b[0m \u001b[0;34m'all_profiles'\u001b[0m\u001b[0;34m\u001b[0m\u001b[0;34m\u001b[0m\u001b[0m\n\u001b[0;32m----> 3\u001b[0;31m \u001b[0mexport_eval\u001b[0m\u001b[0;34m(\u001b[0m\u001b[0mstats_df\u001b[0m\u001b[0;34m,\u001b[0m \u001b[0moutput_name\u001b[0m\u001b[0;34m)\u001b[0m\u001b[0;34m\u001b[0m\u001b[0;34m\u001b[0m\u001b[0m\n\u001b[0m",
      "\u001b[0;31mNameError\u001b[0m: name 'stats_df' is not defined"
     ]
    }
   ],
   "source": [
    "# Export evaluation vector\n",
    "output_name = 'all_profiles'\n",
    "export_eval(stats_df, output_name)"
   ]
  },
  {
   "cell_type": "markdown",
   "metadata": {},
   "source": [
    "### Plot and analyse results"
   ]
  },
  {
   "cell_type": "code",
   "execution_count": 3,
   "metadata": {},
   "outputs": [
    {
     "data": {
      "text/html": [
       "<div>\n",
       "<style scoped>\n",
       "    .dataframe tbody tr th:only-of-type {\n",
       "        vertical-align: middle;\n",
       "    }\n",
       "\n",
       "    .dataframe tbody tr th {\n",
       "        vertical-align: top;\n",
       "    }\n",
       "\n",
       "    .dataframe thead th {\n",
       "        text-align: right;\n",
       "    }\n",
       "</style>\n",
       "<table border=\"1\" class=\"dataframe\">\n",
       "  <thead>\n",
       "    <tr style=\"text-align: right;\">\n",
       "      <th></th>\n",
       "      <th>id</th>\n",
       "      <th>year</th>\n",
       "      <th>beach</th>\n",
       "      <th>section</th>\n",
       "      <th>profile</th>\n",
       "      <th>name</th>\n",
       "      <th>source</th>\n",
       "      <th>certainty</th>\n",
       "      <th>n</th>\n",
       "      <th>lon</th>\n",
       "      <th>...</th>\n",
       "      <th>start_y</th>\n",
       "      <th>end_x</th>\n",
       "      <th>end_y</th>\n",
       "      <th>val_x</th>\n",
       "      <th>val_y</th>\n",
       "      <th>val_dist</th>\n",
       "      <th>deacl_x</th>\n",
       "      <th>deacl_y</th>\n",
       "      <th>deacl_dist</th>\n",
       "      <th>error_m</th>\n",
       "    </tr>\n",
       "  </thead>\n",
       "  <tbody>\n",
       "    <tr>\n",
       "      <th>0</th>\n",
       "      <td>pointann-pointhood_all_7435</td>\n",
       "      <td>2008</td>\n",
       "      <td>pointann-pointhood</td>\n",
       "      <td>all</td>\n",
       "      <td>7435</td>\n",
       "      <td>wadot</td>\n",
       "      <td>aerial photogrammetry</td>\n",
       "      <td>good</td>\n",
       "      <td>1</td>\n",
       "      <td>119.507</td>\n",
       "      <td>...</td>\n",
       "      <td>-3.806676e+06</td>\n",
       "      <td>-1.142207e+06</td>\n",
       "      <td>-3.806464e+06</td>\n",
       "      <td>-1.142461e+06</td>\n",
       "      <td>-3.806583e+06</td>\n",
       "      <td>219.586065</td>\n",
       "      <td>-1.142461e+06</td>\n",
       "      <td>-3.806583e+06</td>\n",
       "      <td>219.736830</td>\n",
       "      <td>-0.150766</td>\n",
       "    </tr>\n",
       "    <tr>\n",
       "      <th>1</th>\n",
       "      <td>pointann-pointhood_all_7436</td>\n",
       "      <td>2008</td>\n",
       "      <td>pointann-pointhood</td>\n",
       "      <td>all</td>\n",
       "      <td>7436</td>\n",
       "      <td>wadot</td>\n",
       "      <td>aerial photogrammetry</td>\n",
       "      <td>good</td>\n",
       "      <td>1</td>\n",
       "      <td>119.506</td>\n",
       "      <td>...</td>\n",
       "      <td>-3.806495e+06</td>\n",
       "      <td>-1.142291e+06</td>\n",
       "      <td>-3.806283e+06</td>\n",
       "      <td>-1.142572e+06</td>\n",
       "      <td>-3.806415e+06</td>\n",
       "      <td>189.909898</td>\n",
       "      <td>-1.142579e+06</td>\n",
       "      <td>-3.806417e+06</td>\n",
       "      <td>183.155542</td>\n",
       "      <td>6.754355</td>\n",
       "    </tr>\n",
       "    <tr>\n",
       "      <th>2</th>\n",
       "      <td>pointann-pointhood_all_7437</td>\n",
       "      <td>2008</td>\n",
       "      <td>pointann-pointhood</td>\n",
       "      <td>all</td>\n",
       "      <td>7437</td>\n",
       "      <td>wadot</td>\n",
       "      <td>aerial photogrammetry</td>\n",
       "      <td>good</td>\n",
       "      <td>1</td>\n",
       "      <td>119.506</td>\n",
       "      <td>...</td>\n",
       "      <td>-3.806314e+06</td>\n",
       "      <td>-1.142376e+06</td>\n",
       "      <td>-3.806102e+06</td>\n",
       "      <td>-1.142679e+06</td>\n",
       "      <td>-3.806244e+06</td>\n",
       "      <td>165.554717</td>\n",
       "      <td>-1.142683e+06</td>\n",
       "      <td>-3.806246e+06</td>\n",
       "      <td>160.903462</td>\n",
       "      <td>4.651255</td>\n",
       "    </tr>\n",
       "    <tr>\n",
       "      <th>3</th>\n",
       "      <td>pointann-pointhood_all_7438</td>\n",
       "      <td>2008</td>\n",
       "      <td>pointann-pointhood</td>\n",
       "      <td>all</td>\n",
       "      <td>7438</td>\n",
       "      <td>wadot</td>\n",
       "      <td>aerial photogrammetry</td>\n",
       "      <td>good</td>\n",
       "      <td>1</td>\n",
       "      <td>119.505</td>\n",
       "      <td>...</td>\n",
       "      <td>-3.806133e+06</td>\n",
       "      <td>-1.142461e+06</td>\n",
       "      <td>-3.805921e+06</td>\n",
       "      <td>-1.142771e+06</td>\n",
       "      <td>-3.806066e+06</td>\n",
       "      <td>157.802766</td>\n",
       "      <td>-1.142780e+06</td>\n",
       "      <td>-3.806070e+06</td>\n",
       "      <td>148.022147</td>\n",
       "      <td>9.780619</td>\n",
       "    </tr>\n",
       "    <tr>\n",
       "      <th>4</th>\n",
       "      <td>pointann-pointhood_all_7439</td>\n",
       "      <td>2008</td>\n",
       "      <td>pointann-pointhood</td>\n",
       "      <td>all</td>\n",
       "      <td>7439</td>\n",
       "      <td>wadot</td>\n",
       "      <td>aerial photogrammetry</td>\n",
       "      <td>good</td>\n",
       "      <td>1</td>\n",
       "      <td>119.504</td>\n",
       "      <td>...</td>\n",
       "      <td>-3.805951e+06</td>\n",
       "      <td>-1.142545e+06</td>\n",
       "      <td>-3.805740e+06</td>\n",
       "      <td>-1.142845e+06</td>\n",
       "      <td>-3.805880e+06</td>\n",
       "      <td>169.048967</td>\n",
       "      <td>-1.142859e+06</td>\n",
       "      <td>-3.805886e+06</td>\n",
       "      <td>154.159998</td>\n",
       "      <td>14.888968</td>\n",
       "    </tr>\n",
       "  </tbody>\n",
       "</table>\n",
       "<p>5 rows × 24 columns</p>\n",
       "</div>"
      ],
      "text/plain": [
       "                            id  year               beach section profile  \\\n",
       "0  pointann-pointhood_all_7435  2008  pointann-pointhood     all    7435   \n",
       "1  pointann-pointhood_all_7436  2008  pointann-pointhood     all    7436   \n",
       "2  pointann-pointhood_all_7437  2008  pointann-pointhood     all    7437   \n",
       "3  pointann-pointhood_all_7438  2008  pointann-pointhood     all    7438   \n",
       "4  pointann-pointhood_all_7439  2008  pointann-pointhood     all    7439   \n",
       "\n",
       "    name                 source certainty  n      lon  ...       start_y  \\\n",
       "0  wadot  aerial photogrammetry      good  1  119.507  ... -3.806676e+06   \n",
       "1  wadot  aerial photogrammetry      good  1  119.506  ... -3.806495e+06   \n",
       "2  wadot  aerial photogrammetry      good  1  119.506  ... -3.806314e+06   \n",
       "3  wadot  aerial photogrammetry      good  1  119.505  ... -3.806133e+06   \n",
       "4  wadot  aerial photogrammetry      good  1  119.504  ... -3.805951e+06   \n",
       "\n",
       "          end_x         end_y         val_x         val_y    val_dist  \\\n",
       "0 -1.142207e+06 -3.806464e+06 -1.142461e+06 -3.806583e+06  219.586065   \n",
       "1 -1.142291e+06 -3.806283e+06 -1.142572e+06 -3.806415e+06  189.909898   \n",
       "2 -1.142376e+06 -3.806102e+06 -1.142679e+06 -3.806244e+06  165.554717   \n",
       "3 -1.142461e+06 -3.805921e+06 -1.142771e+06 -3.806066e+06  157.802766   \n",
       "4 -1.142545e+06 -3.805740e+06 -1.142845e+06 -3.805880e+06  169.048967   \n",
       "\n",
       "        deacl_x       deacl_y  deacl_dist    error_m  \n",
       "0 -1.142461e+06 -3.806583e+06  219.736830  -0.150766  \n",
       "1 -1.142579e+06 -3.806417e+06  183.155542   6.754355  \n",
       "2 -1.142683e+06 -3.806246e+06  160.903462   4.651255  \n",
       "3 -1.142780e+06 -3.806070e+06  148.022147   9.780619  \n",
       "4 -1.142859e+06 -3.805886e+06  154.159998  14.888968  \n",
       "\n",
       "[5 rows x 24 columns]"
      ]
     },
     "execution_count": 3,
     "metadata": {},
     "output_type": "execute_result"
    }
   ],
   "source": [
    "# Read in results\n",
    "stats_df = pd.read_csv('deacl_all_results.csv')\n",
    "stats_df.head()"
   ]
  },
  {
   "cell_type": "code",
   "execution_count": 9,
   "metadata": {},
   "outputs": [
    {
     "data": {
      "text/plain": [
       "39"
      ]
     },
     "execution_count": 9,
     "metadata": {},
     "output_type": "execute_result"
    }
   ],
   "source": [
    "len(stats_df.smartline.unique())"
   ]
  },
  {
   "cell_type": "markdown",
   "metadata": {},
   "source": [
    "#### Validation dataset stats\n",
    "\n",
    "Plot of validation sites:"
   ]
  },
  {
   "cell_type": "code",
   "execution_count": 4,
   "metadata": {},
   "outputs": [
    {
     "data": {
      "text/html": [
       "<div>\n",
       "<style scoped>\n",
       "    .dataframe tbody tr th:only-of-type {\n",
       "        vertical-align: middle;\n",
       "    }\n",
       "\n",
       "    .dataframe tbody tr th {\n",
       "        vertical-align: top;\n",
       "    }\n",
       "\n",
       "    .dataframe thead th {\n",
       "        text-align: right;\n",
       "    }\n",
       "</style>\n",
       "<table border=\"1\" class=\"dataframe\">\n",
       "  <thead>\n",
       "    <tr style=\"text-align: right;\">\n",
       "      <th></th>\n",
       "      <th>n</th>\n",
       "      <th>Bias (m)</th>\n",
       "      <th>MAE (m)</th>\n",
       "      <th>RMSE (m)</th>\n",
       "      <th>SD (m)</th>\n",
       "      <th>Correlation</th>\n",
       "    </tr>\n",
       "    <tr>\n",
       "      <th>name</th>\n",
       "      <th></th>\n",
       "      <th></th>\n",
       "      <th></th>\n",
       "      <th></th>\n",
       "      <th></th>\n",
       "      <th></th>\n",
       "    </tr>\n",
       "  </thead>\n",
       "  <tbody>\n",
       "    <tr>\n",
       "      <th>wrl</th>\n",
       "      <td>2446</td>\n",
       "      <td>4.2</td>\n",
       "      <td>5.7 (4.5)</td>\n",
       "      <td>7.3 (5.9)</td>\n",
       "      <td>6.0</td>\n",
       "      <td>0.971</td>\n",
       "    </tr>\n",
       "    <tr>\n",
       "      <th>sadew</th>\n",
       "      <td>3908</td>\n",
       "      <td>2.7</td>\n",
       "      <td>9.0 (8.8)</td>\n",
       "      <td>12.1 (11.8)</td>\n",
       "      <td>11.8</td>\n",
       "      <td>0.996</td>\n",
       "    </tr>\n",
       "    <tr>\n",
       "      <th>sunshinecoast</th>\n",
       "      <td>184</td>\n",
       "      <td>9.6</td>\n",
       "      <td>10.4 (6.6)</td>\n",
       "      <td>16.4 (13.3)</td>\n",
       "      <td>13.4</td>\n",
       "      <td>1.000</td>\n",
       "    </tr>\n",
       "    <tr>\n",
       "      <th>vicdeakin</th>\n",
       "      <td>1573</td>\n",
       "      <td>10.1</td>\n",
       "      <td>11.0 (7.0)</td>\n",
       "      <td>13.4 (8.8)</td>\n",
       "      <td>8.8</td>\n",
       "      <td>0.853</td>\n",
       "    </tr>\n",
       "    <tr>\n",
       "      <th>tasmarc</th>\n",
       "      <td>478</td>\n",
       "      <td>8.6</td>\n",
       "      <td>11.8 (9.8)</td>\n",
       "      <td>15.3 (12.7)</td>\n",
       "      <td>12.7</td>\n",
       "      <td>0.868</td>\n",
       "    </tr>\n",
       "    <tr>\n",
       "      <th>wadot</th>\n",
       "      <td>18945</td>\n",
       "      <td>5.4</td>\n",
       "      <td>11.9 (11.1)</td>\n",
       "      <td>18.7 (17.9)</td>\n",
       "      <td>17.9</td>\n",
       "      <td>0.954</td>\n",
       "    </tr>\n",
       "    <tr>\n",
       "      <th>nswbpd</th>\n",
       "      <td>20596</td>\n",
       "      <td>11.1</td>\n",
       "      <td>14.3 (11.3)</td>\n",
       "      <td>19.0 (15.4)</td>\n",
       "      <td>15.4</td>\n",
       "      <td>0.990</td>\n",
       "    </tr>\n",
       "    <tr>\n",
       "      <th>cgc</th>\n",
       "      <td>8895</td>\n",
       "      <td>22.6</td>\n",
       "      <td>23.2 (10.2)</td>\n",
       "      <td>26.7 (14.2)</td>\n",
       "      <td>14.2</td>\n",
       "      <td>0.942</td>\n",
       "    </tr>\n",
       "    <tr>\n",
       "      <th>moruya</th>\n",
       "      <td>637</td>\n",
       "      <td>31.7</td>\n",
       "      <td>32.4 (13.5)</td>\n",
       "      <td>36.3 (17.6)</td>\n",
       "      <td>17.8</td>\n",
       "      <td>0.750</td>\n",
       "    </tr>\n",
       "  </tbody>\n",
       "</table>\n",
       "</div>"
      ],
      "text/plain": [
       "                   n  Bias (m)      MAE (m)     RMSE (m)  SD (m)  Correlation\n",
       "name                                                                         \n",
       "wrl             2446       4.2    5.7 (4.5)    7.3 (5.9)     6.0        0.971\n",
       "sadew           3908       2.7    9.0 (8.8)  12.1 (11.8)    11.8        0.996\n",
       "sunshinecoast    184       9.6   10.4 (6.6)  16.4 (13.3)    13.4        1.000\n",
       "vicdeakin       1573      10.1   11.0 (7.0)   13.4 (8.8)     8.8        0.853\n",
       "tasmarc          478       8.6   11.8 (9.8)  15.3 (12.7)    12.7        0.868\n",
       "wadot          18945       5.4  11.9 (11.1)  18.7 (17.9)    17.9        0.954\n",
       "nswbpd         20596      11.1  14.3 (11.3)  19.0 (15.4)    15.4        0.990\n",
       "cgc             8895      22.6  23.2 (10.2)  26.7 (14.2)    14.2        0.942\n",
       "moruya           637      31.7  32.4 (13.5)  36.3 (17.6)    17.8        0.750"
      ]
     },
     "execution_count": 4,
     "metadata": {},
     "output_type": "execute_result"
    }
   ],
   "source": [
    "by_source = stats_df.groupby('name').apply(\n",
    "    lambda x: deacl_val_stats(x.val_dist, x.deacl_dist, x.n))\n",
    "by_source_nobias = stats_df.groupby('name').apply(\n",
    "    lambda x: deacl_val_stats(x.val_dist, x.deacl_dist, x.n, True))\n",
    "\n",
    "rse_tableformat(by_source, by_source_nobias, 'name')\n"
   ]
  },
  {
   "cell_type": "code",
   "execution_count": 77,
   "metadata": {},
   "outputs": [],
   "source": [
    "stats_gdf = gpd.GeoDataFrame(data=stats_df,\n",
    "                             geometry=gpd.points_from_xy(\n",
    "                                 x=stats_df.lon,\n",
    "                                 y=stats_df.lat,\n",
    "                                 crs='EPSG:4326')).to_crs('EPSG:3577')\n",
    "\n",
    "stats_gdf.to_file('../bishoptaylor_2020/Validation_extent/validation_points.shp')\n",
    "\n",
    "# Load and reverse buffer Australian boundary\n",
    "aus_inside = (gpd.read_file('/g/data/r78/rt1527/shapefiles/australia/australia/cstauscd_r.shp')\n",
    " .query(\"FEAT_CODE=='mainland'\")\n",
    " .to_crs('EPSG:3577')\n",
    " .assign(dissolve=1)\n",
    " .dissolve('dissolve')\n",
    " .simplify(10000)\n",
    " .buffer(-100000)\n",
    " .buffer(50000))\n",
    "\n",
    "# Compute convex hulls for each validation dataset\n",
    "convex_hulls = stats_gdf.dissolve('name').convex_hull.buffer(50000)\n",
    "\n",
    "# Clip convex hulls by Australia coastline\n",
    "gpd.overlay(gpd.GeoDataFrame(geometry=convex_hulls), \n",
    "            gpd.GeoDataFrame(geometry=aus_inside), \n",
    "            how='difference').buffer(100000).to_file('../bishoptaylor_2020/Validation_extent/validation_extent.shp')"
   ]
  },
  {
   "cell_type": "markdown",
   "metadata": {},
   "source": [
    "Number of validation sites by source:"
   ]
  },
  {
   "cell_type": "code",
   "execution_count": 27,
   "metadata": {},
   "outputs": [
    {
     "data": {
      "text/plain": [
       "57662"
      ]
     },
     "execution_count": 27,
     "metadata": {},
     "output_type": "execute_result"
    }
   ],
   "source": [
    "stats_df['n'].sum()"
   ]
  },
  {
   "cell_type": "code",
   "execution_count": 26,
   "metadata": {},
   "outputs": [
    {
     "data": {
      "text/plain": [
       "name\n",
       "cgc               8895\n",
       "moruya             637\n",
       "nswbpd           20596\n",
       "sadew             3908\n",
       "sunshinecoast      184\n",
       "tasmarc            478\n",
       "vicdeakin         1573\n",
       "wadot            18945\n",
       "wrl               2446\n",
       "Name: n, dtype: int64"
      ]
     },
     "execution_count": 26,
     "metadata": {},
     "output_type": "execute_result"
    }
   ],
   "source": [
    "stats_df.groupby(\"name\")['n'].sum()"
   ]
  },
  {
   "cell_type": "code",
   "execution_count": 36,
   "metadata": {},
   "outputs": [
    {
     "data": {
      "text/html": [
       "<div>\n",
       "<style scoped>\n",
       "    .dataframe tbody tr th:only-of-type {\n",
       "        vertical-align: middle;\n",
       "    }\n",
       "\n",
       "    .dataframe tbody tr th {\n",
       "        vertical-align: top;\n",
       "    }\n",
       "\n",
       "    .dataframe thead th {\n",
       "        text-align: right;\n",
       "    }\n",
       "</style>\n",
       "<table border=\"1\" class=\"dataframe\">\n",
       "  <thead>\n",
       "    <tr style=\"text-align: right;\">\n",
       "      <th></th>\n",
       "      <th>amin</th>\n",
       "      <th>amax</th>\n",
       "    </tr>\n",
       "    <tr>\n",
       "      <th>name</th>\n",
       "      <th></th>\n",
       "      <th></th>\n",
       "    </tr>\n",
       "  </thead>\n",
       "  <tbody>\n",
       "    <tr>\n",
       "      <th>cgc</th>\n",
       "      <td>1988</td>\n",
       "      <td>2018</td>\n",
       "    </tr>\n",
       "    <tr>\n",
       "      <th>moruya</th>\n",
       "      <td>2007</td>\n",
       "      <td>2018</td>\n",
       "    </tr>\n",
       "    <tr>\n",
       "      <th>nswbpd</th>\n",
       "      <td>1988</td>\n",
       "      <td>2019</td>\n",
       "    </tr>\n",
       "    <tr>\n",
       "      <th>sunshinecoast</th>\n",
       "      <td>1988</td>\n",
       "      <td>1993</td>\n",
       "    </tr>\n",
       "    <tr>\n",
       "      <th>tasmarc</th>\n",
       "      <td>2005</td>\n",
       "      <td>2019</td>\n",
       "    </tr>\n",
       "    <tr>\n",
       "      <th>vicdeakin</th>\n",
       "      <td>2018</td>\n",
       "      <td>2019</td>\n",
       "    </tr>\n",
       "    <tr>\n",
       "      <th>wadot</th>\n",
       "      <td>1988</td>\n",
       "      <td>2016</td>\n",
       "    </tr>\n",
       "    <tr>\n",
       "      <th>wrl</th>\n",
       "      <td>1988</td>\n",
       "      <td>2019</td>\n",
       "    </tr>\n",
       "  </tbody>\n",
       "</table>\n",
       "</div>"
      ],
      "text/plain": [
       "               amin  amax\n",
       "name                     \n",
       "cgc            1988  2018\n",
       "moruya         2007  2018\n",
       "nswbpd         1988  2019\n",
       "sunshinecoast  1988  1993\n",
       "tasmarc        2005  2019\n",
       "vicdeakin      2018  2019\n",
       "wadot          1988  2016\n",
       "wrl            1988  2019"
      ]
     },
     "execution_count": 36,
     "metadata": {},
     "output_type": "execute_result"
    }
   ],
   "source": [
    "stats_df.groupby(\"name\")['year'].agg([np.min,np.max])"
   ]
  },
  {
   "cell_type": "code",
   "execution_count": 5,
   "metadata": {},
   "outputs": [
    {
     "data": {
      "text/html": [
       "<div>\n",
       "<style scoped>\n",
       "    .dataframe tbody tr th:only-of-type {\n",
       "        vertical-align: middle;\n",
       "    }\n",
       "\n",
       "    .dataframe tbody tr th {\n",
       "        vertical-align: top;\n",
       "    }\n",
       "\n",
       "    .dataframe thead th {\n",
       "        text-align: right;\n",
       "    }\n",
       "</style>\n",
       "<table border=\"1\" class=\"dataframe\">\n",
       "  <thead>\n",
       "    <tr style=\"text-align: right;\">\n",
       "      <th>source_updated</th>\n",
       "      <th>Aerial photogrammetry</th>\n",
       "      <th>Drone photogrammetry</th>\n",
       "      <th>Hydrographic survey</th>\n",
       "      <th>LiDAR</th>\n",
       "      <th>Other</th>\n",
       "    </tr>\n",
       "    <tr>\n",
       "      <th>year</th>\n",
       "      <th></th>\n",
       "      <th></th>\n",
       "      <th></th>\n",
       "      <th></th>\n",
       "      <th></th>\n",
       "    </tr>\n",
       "  </thead>\n",
       "  <tbody>\n",
       "    <tr>\n",
       "      <th>1988</th>\n",
       "      <td>0.012407</td>\n",
       "      <td>NaN</td>\n",
       "      <td>0.002898</td>\n",
       "      <td>NaN</td>\n",
       "      <td>0.000937</td>\n",
       "    </tr>\n",
       "    <tr>\n",
       "      <th>1989</th>\n",
       "      <td>0.002742</td>\n",
       "      <td>NaN</td>\n",
       "      <td>0.003731</td>\n",
       "      <td>NaN</td>\n",
       "      <td>0.000868</td>\n",
       "    </tr>\n",
       "    <tr>\n",
       "      <th>1990</th>\n",
       "      <td>0.023443</td>\n",
       "      <td>NaN</td>\n",
       "      <td>0.006490</td>\n",
       "      <td>NaN</td>\n",
       "      <td>0.000521</td>\n",
       "    </tr>\n",
       "    <tr>\n",
       "      <th>1991</th>\n",
       "      <td>0.012112</td>\n",
       "      <td>NaN</td>\n",
       "      <td>0.003453</td>\n",
       "      <td>NaN</td>\n",
       "      <td>0.000607</td>\n",
       "    </tr>\n",
       "    <tr>\n",
       "      <th>1992</th>\n",
       "      <td>0.001301</td>\n",
       "      <td>NaN</td>\n",
       "      <td>0.003661</td>\n",
       "      <td>NaN</td>\n",
       "      <td>0.000694</td>\n",
       "    </tr>\n",
       "    <tr>\n",
       "      <th>1993</th>\n",
       "      <td>0.047216</td>\n",
       "      <td>NaN</td>\n",
       "      <td>0.003922</td>\n",
       "      <td>0.002221</td>\n",
       "      <td>0.001024</td>\n",
       "    </tr>\n",
       "    <tr>\n",
       "      <th>1994</th>\n",
       "      <td>0.012095</td>\n",
       "      <td>NaN</td>\n",
       "      <td>0.003592</td>\n",
       "      <td>NaN</td>\n",
       "      <td>0.000521</td>\n",
       "    </tr>\n",
       "    <tr>\n",
       "      <th>1995</th>\n",
       "      <td>0.009526</td>\n",
       "      <td>NaN</td>\n",
       "      <td>0.005778</td>\n",
       "      <td>NaN</td>\n",
       "      <td>0.000954</td>\n",
       "    </tr>\n",
       "    <tr>\n",
       "      <th>1996</th>\n",
       "      <td>0.037412</td>\n",
       "      <td>NaN</td>\n",
       "      <td>0.004893</td>\n",
       "      <td>NaN</td>\n",
       "      <td>0.000781</td>\n",
       "    </tr>\n",
       "    <tr>\n",
       "      <th>1997</th>\n",
       "      <td>0.001406</td>\n",
       "      <td>NaN</td>\n",
       "      <td>0.006004</td>\n",
       "      <td>NaN</td>\n",
       "      <td>0.000868</td>\n",
       "    </tr>\n",
       "    <tr>\n",
       "      <th>1998</th>\n",
       "      <td>0.005605</td>\n",
       "      <td>NaN</td>\n",
       "      <td>0.011210</td>\n",
       "      <td>NaN</td>\n",
       "      <td>0.000850</td>\n",
       "    </tr>\n",
       "    <tr>\n",
       "      <th>1999</th>\n",
       "      <td>0.021048</td>\n",
       "      <td>NaN</td>\n",
       "      <td>0.006160</td>\n",
       "      <td>NaN</td>\n",
       "      <td>0.000868</td>\n",
       "    </tr>\n",
       "    <tr>\n",
       "      <th>2000</th>\n",
       "      <td>0.018220</td>\n",
       "      <td>NaN</td>\n",
       "      <td>0.005258</td>\n",
       "      <td>NaN</td>\n",
       "      <td>0.000954</td>\n",
       "    </tr>\n",
       "    <tr>\n",
       "      <th>2001</th>\n",
       "      <td>0.010238</td>\n",
       "      <td>NaN</td>\n",
       "      <td>0.006767</td>\n",
       "      <td>NaN</td>\n",
       "      <td>0.000850</td>\n",
       "    </tr>\n",
       "    <tr>\n",
       "      <th>2002</th>\n",
       "      <td>0.002603</td>\n",
       "      <td>NaN</td>\n",
       "      <td>0.004789</td>\n",
       "      <td>NaN</td>\n",
       "      <td>0.000781</td>\n",
       "    </tr>\n",
       "    <tr>\n",
       "      <th>2003</th>\n",
       "      <td>0.005744</td>\n",
       "      <td>NaN</td>\n",
       "      <td>0.002880</td>\n",
       "      <td>NaN</td>\n",
       "      <td>0.000868</td>\n",
       "    </tr>\n",
       "    <tr>\n",
       "      <th>2004</th>\n",
       "      <td>0.039286</td>\n",
       "      <td>NaN</td>\n",
       "      <td>0.002273</td>\n",
       "      <td>NaN</td>\n",
       "      <td>0.001024</td>\n",
       "    </tr>\n",
       "    <tr>\n",
       "      <th>2005</th>\n",
       "      <td>0.004668</td>\n",
       "      <td>NaN</td>\n",
       "      <td>0.002933</td>\n",
       "      <td>0.003123</td>\n",
       "      <td>0.001648</td>\n",
       "    </tr>\n",
       "    <tr>\n",
       "      <th>2006</th>\n",
       "      <td>0.010516</td>\n",
       "      <td>NaN</td>\n",
       "      <td>0.004755</td>\n",
       "      <td>NaN</td>\n",
       "      <td>0.002152</td>\n",
       "    </tr>\n",
       "    <tr>\n",
       "      <th>2007</th>\n",
       "      <td>0.017109</td>\n",
       "      <td>NaN</td>\n",
       "      <td>0.005622</td>\n",
       "      <td>NaN</td>\n",
       "      <td>0.002204</td>\n",
       "    </tr>\n",
       "    <tr>\n",
       "      <th>2008</th>\n",
       "      <td>0.048153</td>\n",
       "      <td>NaN</td>\n",
       "      <td>0.004720</td>\n",
       "      <td>0.000035</td>\n",
       "      <td>0.002325</td>\n",
       "    </tr>\n",
       "    <tr>\n",
       "      <th>2009</th>\n",
       "      <td>0.003332</td>\n",
       "      <td>NaN</td>\n",
       "      <td>0.005310</td>\n",
       "      <td>NaN</td>\n",
       "      <td>0.002030</td>\n",
       "    </tr>\n",
       "    <tr>\n",
       "      <th>2010</th>\n",
       "      <td>0.016693</td>\n",
       "      <td>NaN</td>\n",
       "      <td>0.006247</td>\n",
       "      <td>NaN</td>\n",
       "      <td>0.003019</td>\n",
       "    </tr>\n",
       "    <tr>\n",
       "      <th>2011</th>\n",
       "      <td>0.028059</td>\n",
       "      <td>NaN</td>\n",
       "      <td>0.008121</td>\n",
       "      <td>NaN</td>\n",
       "      <td>0.002985</td>\n",
       "    </tr>\n",
       "    <tr>\n",
       "      <th>2012</th>\n",
       "      <td>0.008451</td>\n",
       "      <td>NaN</td>\n",
       "      <td>0.010758</td>\n",
       "      <td>NaN</td>\n",
       "      <td>0.002516</td>\n",
       "    </tr>\n",
       "    <tr>\n",
       "      <th>2013</th>\n",
       "      <td>0.048396</td>\n",
       "      <td>NaN</td>\n",
       "      <td>0.008607</td>\n",
       "      <td>NaN</td>\n",
       "      <td>0.002794</td>\n",
       "    </tr>\n",
       "    <tr>\n",
       "      <th>2014</th>\n",
       "      <td>0.031928</td>\n",
       "      <td>NaN</td>\n",
       "      <td>0.006611</td>\n",
       "      <td>0.000364</td>\n",
       "      <td>0.007357</td>\n",
       "    </tr>\n",
       "    <tr>\n",
       "      <th>2015</th>\n",
       "      <td>0.007028</td>\n",
       "      <td>NaN</td>\n",
       "      <td>0.006750</td>\n",
       "      <td>0.002742</td>\n",
       "      <td>0.009474</td>\n",
       "    </tr>\n",
       "    <tr>\n",
       "      <th>2016</th>\n",
       "      <td>0.112947</td>\n",
       "      <td>NaN</td>\n",
       "      <td>0.018584</td>\n",
       "      <td>0.050062</td>\n",
       "      <td>0.004442</td>\n",
       "    </tr>\n",
       "    <tr>\n",
       "      <th>2017</th>\n",
       "      <td>NaN</td>\n",
       "      <td>NaN</td>\n",
       "      <td>0.025977</td>\n",
       "      <td>0.008850</td>\n",
       "      <td>0.002985</td>\n",
       "    </tr>\n",
       "    <tr>\n",
       "      <th>2018</th>\n",
       "      <td>NaN</td>\n",
       "      <td>0.014125</td>\n",
       "      <td>0.024606</td>\n",
       "      <td>0.009943</td>\n",
       "      <td>0.003193</td>\n",
       "    </tr>\n",
       "    <tr>\n",
       "      <th>2019</th>\n",
       "      <td>NaN</td>\n",
       "      <td>0.013170</td>\n",
       "      <td>0.001996</td>\n",
       "      <td>0.005188</td>\n",
       "      <td>0.002048</td>\n",
       "    </tr>\n",
       "  </tbody>\n",
       "</table>\n",
       "</div>"
      ],
      "text/plain": [
       "source_updated  Aerial photogrammetry  Drone photogrammetry  \\\n",
       "year                                                          \n",
       "1988                         0.012407                   NaN   \n",
       "1989                         0.002742                   NaN   \n",
       "1990                         0.023443                   NaN   \n",
       "1991                         0.012112                   NaN   \n",
       "1992                         0.001301                   NaN   \n",
       "1993                         0.047216                   NaN   \n",
       "1994                         0.012095                   NaN   \n",
       "1995                         0.009526                   NaN   \n",
       "1996                         0.037412                   NaN   \n",
       "1997                         0.001406                   NaN   \n",
       "1998                         0.005605                   NaN   \n",
       "1999                         0.021048                   NaN   \n",
       "2000                         0.018220                   NaN   \n",
       "2001                         0.010238                   NaN   \n",
       "2002                         0.002603                   NaN   \n",
       "2003                         0.005744                   NaN   \n",
       "2004                         0.039286                   NaN   \n",
       "2005                         0.004668                   NaN   \n",
       "2006                         0.010516                   NaN   \n",
       "2007                         0.017109                   NaN   \n",
       "2008                         0.048153                   NaN   \n",
       "2009                         0.003332                   NaN   \n",
       "2010                         0.016693                   NaN   \n",
       "2011                         0.028059                   NaN   \n",
       "2012                         0.008451                   NaN   \n",
       "2013                         0.048396                   NaN   \n",
       "2014                         0.031928                   NaN   \n",
       "2015                         0.007028                   NaN   \n",
       "2016                         0.112947                   NaN   \n",
       "2017                              NaN                   NaN   \n",
       "2018                              NaN              0.014125   \n",
       "2019                              NaN              0.013170   \n",
       "\n",
       "source_updated  Hydrographic survey     LiDAR     Other  \n",
       "year                                                     \n",
       "1988                       0.002898       NaN  0.000937  \n",
       "1989                       0.003731       NaN  0.000868  \n",
       "1990                       0.006490       NaN  0.000521  \n",
       "1991                       0.003453       NaN  0.000607  \n",
       "1992                       0.003661       NaN  0.000694  \n",
       "1993                       0.003922  0.002221  0.001024  \n",
       "1994                       0.003592       NaN  0.000521  \n",
       "1995                       0.005778       NaN  0.000954  \n",
       "1996                       0.004893       NaN  0.000781  \n",
       "1997                       0.006004       NaN  0.000868  \n",
       "1998                       0.011210       NaN  0.000850  \n",
       "1999                       0.006160       NaN  0.000868  \n",
       "2000                       0.005258       NaN  0.000954  \n",
       "2001                       0.006767       NaN  0.000850  \n",
       "2002                       0.004789       NaN  0.000781  \n",
       "2003                       0.002880       NaN  0.000868  \n",
       "2004                       0.002273       NaN  0.001024  \n",
       "2005                       0.002933  0.003123  0.001648  \n",
       "2006                       0.004755       NaN  0.002152  \n",
       "2007                       0.005622       NaN  0.002204  \n",
       "2008                       0.004720  0.000035  0.002325  \n",
       "2009                       0.005310       NaN  0.002030  \n",
       "2010                       0.006247       NaN  0.003019  \n",
       "2011                       0.008121       NaN  0.002985  \n",
       "2012                       0.010758       NaN  0.002516  \n",
       "2013                       0.008607       NaN  0.002794  \n",
       "2014                       0.006611  0.000364  0.007357  \n",
       "2015                       0.006750  0.002742  0.009474  \n",
       "2016                       0.018584  0.050062  0.004442  \n",
       "2017                       0.025977  0.008850  0.002985  \n",
       "2018                       0.024606  0.009943  0.003193  \n",
       "2019                       0.001996  0.005188  0.002048  "
      ]
     },
     "execution_count": 5,
     "metadata": {},
     "output_type": "execute_result"
    }
   ],
   "source": [
    "rename_dict = dict(zip(stats_df.groupby([\"source\"])['year'].count().sort_values().index[0:4], ['Other']*4))\n",
    "rename_dict = {**rename_dict, **{'aerial photogrammetry': 'Aerial photogrammetry',\n",
    "                                 'drone photogrammetry': 'Drone photogrammetry',\n",
    "                                 'hydrographic survey': 'Hydrographic survey',\n",
    "                                 'lidar': 'LiDAR'}}\n",
    "\n",
    "counts_per_year = (stats_df\n",
    "                   .pipe(lambda x: x.assign(source_updated = x.source.replace(rename_dict)))\n",
    "                   .groupby([\"year\", \"source_updated\"])['n']\n",
    "                   .sum()\n",
    "                   .unstack()) \n",
    "counts_per_year = counts_per_year / counts_per_year.sum().sum()\n",
    "counts_per_year"
   ]
  },
  {
   "cell_type": "code",
   "execution_count": 7,
   "metadata": {},
   "outputs": [
    {
     "data": {
      "image/png": "[encoded data removed]",
      "text/plain": [
       "<Figure size 792x576 with 1 Axes>"
      ]
     },
     "metadata": {
      "needs_background": "light"
     },
     "output_type": "display_data"
    }
   ],
   "source": [
    "import matplotlib.ticker as mtick\n",
    "\n",
    "fig, ax = plt.subplots(1,1, figsize=(11, 8))\n",
    "counts_per_year.plot(ax=ax, \n",
    "                     kind='bar', \n",
    "                     stacked=True, \n",
    "                     width=1.0, \n",
    "                     edgecolor='#484746', \n",
    "                     linewidth=1.0, \n",
    "                     color=['#e5c494', '#ff7f0e', '#7295c1', '#8dbe8d', 'lightgrey']\n",
    "                    ) \n",
    "ax.yaxis.set_ticks_position('right')\n",
    "ax.spines['left'].set_visible(False)\n",
    "ax.spines['top'].set_visible(False)\n",
    "ax.xaxis.label.set_visible(False)\n",
    "plt.yticks([0, 0.05, 0.10, 0.15, 0.20], ['0%', '5%', '10%', '15%', '20%']);\n",
    "plt.legend(loc=\"upper left\", ncol=5, bbox_to_anchor=(0, -0.08), fancybox=False, shadow=False, frameon=False)\n",
    "\n",
    "# Export to file\n",
    "fig.savefig(fname='../bishoptaylor_2020/Validation_extent/validation_temporal2.png', \n",
    "            dpi=300, pad_inches=0, bbox_inches=\"tight\")"
   ]
  },
  {
   "cell_type": "code",
   "execution_count": 6,
   "metadata": {},
   "outputs": [
    {
     "data": {
      "text/plain": [
       "name\n",
       "cgc                                          [hydrographic survey]\n",
       "moruya                                           [emery/levelling]\n",
       "nswbpd           [lidar, aerial photogrammetry, terrestrial las...\n",
       "sadew                                        [hydrographic survey]\n",
       "sunshinecoast                                [hydrographic survey]\n",
       "tasmarc               [gps, total station, emery/levelling, lidar]\n",
       "vicdeakin                                   [drone photogrammetry]\n",
       "wadot                                      [aerial photogrammetry]\n",
       "wrl                                    [emery/levelling, gps, nan]\n",
       "Name: source, dtype: object"
      ]
     },
     "execution_count": 6,
     "metadata": {},
     "output_type": "execute_result"
    }
   ],
   "source": [
    "stats_df.groupby(\"name\")[\"source\"].unique()"
   ]
  },
  {
   "cell_type": "markdown",
   "metadata": {},
   "source": [
    "#### Results by substrate"
   ]
  },
  {
   "cell_type": "code",
   "execution_count": 19,
   "metadata": {},
   "outputs": [
    {
     "data": {
      "text/html": [
       "<div>\n",
       "<style scoped>\n",
       "    .dataframe tbody tr th:only-of-type {\n",
       "        vertical-align: middle;\n",
       "    }\n",
       "\n",
       "    .dataframe tbody tr th {\n",
       "        vertical-align: top;\n",
       "    }\n",
       "\n",
       "    .dataframe thead th {\n",
       "        text-align: right;\n",
       "    }\n",
       "</style>\n",
       "<table border=\"1\" class=\"dataframe\">\n",
       "  <thead>\n",
       "    <tr style=\"text-align: right;\">\n",
       "      <th></th>\n",
       "      <th>n</th>\n",
       "      <th>Bias (m)</th>\n",
       "      <th>MAE (m)</th>\n",
       "      <th>RMSE (m)</th>\n",
       "      <th>SD (m)</th>\n",
       "      <th>Correlation</th>\n",
       "    </tr>\n",
       "    <tr>\n",
       "      <th>smartline</th>\n",
       "      <th></th>\n",
       "      <th></th>\n",
       "      <th></th>\n",
       "      <th></th>\n",
       "      <th></th>\n",
       "      <th></th>\n",
       "    </tr>\n",
       "  </thead>\n",
       "  <tbody>\n",
       "    <tr>\n",
       "      <th>rocky</th>\n",
       "      <td>2638</td>\n",
       "      <td>-0.2</td>\n",
       "      <td>10.7 (10.7)</td>\n",
       "      <td>16.6 (16.6)</td>\n",
       "      <td>16.6</td>\n",
       "      <td>0.996</td>\n",
       "    </tr>\n",
       "    <tr>\n",
       "      <th>sandy</th>\n",
       "      <td>53330</td>\n",
       "      <td>10.3</td>\n",
       "      <td>13.8 (11.4)</td>\n",
       "      <td>19.2 (16.2)</td>\n",
       "      <td>16.2</td>\n",
       "      <td>0.991</td>\n",
       "    </tr>\n",
       "    <tr>\n",
       "      <th>muddy</th>\n",
       "      <td>1248</td>\n",
       "      <td>-0.6</td>\n",
       "      <td>16.6 (16.7)</td>\n",
       "      <td>24.6 (24.6)</td>\n",
       "      <td>24.6</td>\n",
       "      <td>0.961</td>\n",
       "    </tr>\n",
       "  </tbody>\n",
       "</table>\n",
       "</div>"
      ],
      "text/plain": [
       "               n  Bias (m)      MAE (m)     RMSE (m)  SD (m)  Correlation\n",
       "smartline                                                                \n",
       "rocky       2638      -0.2  10.7 (10.7)  16.6 (16.6)    16.6        0.996\n",
       "sandy      53330      10.3  13.8 (11.4)  19.2 (16.2)    16.2        0.991\n",
       "muddy       1248      -0.6  16.6 (16.7)  24.6 (24.6)    24.6        0.961"
      ]
     },
     "execution_count": 19,
     "metadata": {},
     "output_type": "execute_result"
    }
   ],
   "source": [
    "rename_dict = {\n",
    "    'Beachrock undiff': 'rocky',\n",
    "    'Beachrock undiff dominant': 'rocky',\n",
    "    'Boulder or shingle-grade beach undiff': 'rocky',\n",
    "    'Boulder groyne or breakwater undiff': 'rocky',\n",
    "    'Flat boulder deposit (rock) undiff': 'rocky',\n",
    "    'Hard bedrock shore': 'rocky',\n",
    "    'Hard bedrock shore inferred': 'rocky',\n",
    "    'Hard rock cliff (>5m)': 'rocky',\n",
    "    'Hard rocky shore platform': 'rocky',\n",
    "    'Rocky shore platform (undiff)': 'rocky',\n",
    "    'Sloping boulder deposit (rock) undiff': 'rocky',\n",
    "    'Sloping hard rock shore': 'rocky',\n",
    "    'Sloping soft `bedrock¿ shore': 'rocky',\n",
    "    'Sloping soft ‘bedrock’ shore': 'rocky',\n",
    "    'Soft `bedrock¿ shore inferred': 'rocky',\n",
    "    'Soft `bedrock¿ shore platform': 'rocky',\n",
    "    'Beach (sediment type undiff)': 'sandy',\n",
    "    'Fine-medium sand beach': 'sandy',\n",
    "    'Fine-medium sandy tidal flats': 'sandy',\n",
    "    'Mixed sand and shell beach': 'sandy',\n",
    "    'Mixed sandy shore undiff': 'sandy',\n",
    "    'Perched sandy beach (undiff)': 'sandy',\n",
    "    'Sandy beach undiff': 'sandy',\n",
    "    'Sandy beach with cobbles/pebbles (rock)': 'sandy',\n",
    "    'Sandy shore undiff': 'sandy',\n",
    "    'Sandy tidal flats': 'sandy',\n",
    "    'Sandy tidal flats with coarse stony debris': 'sandy',\n",
    "    'Sandy tidal flats, no bedrock protruding': 'sandy',\n",
    "    'Sloping coffee rock deposit': 'rocky',\n",
    "    'Muddy tidal flats': 'muddy',\n",
    "    'Tidal flats (sediment undiff)': 'muddy',\n",
    "    'Artificial shoreline undiff': 'rocky',\n",
    "    'Artificial boulder structures undiff': 'rocky',\n",
    "    'Boulder revetment': 'rocky',\n",
    "    'Boulder seawall': 'rocky',\n",
    "    'Concrete sea wall': 'rocky',\n",
    "    'Piles (Jetty)': 'rocky',\n",
    "    'Coarse sand beach': 'sandy'\n",
    "}\n",
    "\n",
    "# Rename smartline categories to smaller subset\n",
    "stats_df['smartline'] = stats_df.smartline.replace(rename_dict)\n",
    "\n",
    "# Stats by substrate, no bias correction\n",
    "by_smartline = stats_df.groupby('smartline').apply(\n",
    "    lambda x: deacl_val_stats(x.val_dist, x.deacl_dist, x.n))\n",
    "by_smartline_nobias = stats_df.groupby('smartline').apply(\n",
    "    lambda x: deacl_val_stats(x.val_dist, x.deacl_dist, x.n, True))\n",
    "\n",
    "out = rse_tableformat(by_smartline, by_smartline_nobias, 'smartline')\n",
    "out\n"
   ]
  },
  {
   "cell_type": "code",
   "execution_count": 28,
   "metadata": {},
   "outputs": [
    {
     "data": {
      "text/plain": [
       "smartline\n",
       "rocky    0.046106\n",
       "sandy    0.932082\n",
       "muddy    0.021812\n",
       "Name: n, dtype: float64"
      ]
     },
     "execution_count": 28,
     "metadata": {},
     "output_type": "execute_result"
    }
   ],
   "source": [
    "out['n'] / out['n'].sum()"
   ]
  },
  {
   "cell_type": "code",
   "execution_count": 21,
   "metadata": {},
   "outputs": [
    {
     "data": {
      "text/plain": [
       "name\n",
       "cgc                     [sandy, rocky, nan]\n",
       "moruya                              [sandy]\n",
       "nswbpd                  [sandy, rocky, nan]\n",
       "sadew                        [sandy, rocky]\n",
       "sunshinecoast                [rocky, sandy]\n",
       "tasmarc                             [sandy]\n",
       "vicdeakin                    [sandy, rocky]\n",
       "wadot            [sandy, rocky, muddy, nan]\n",
       "wrl                                 [sandy]\n",
       "Name: smartline, dtype: object"
      ]
     },
     "execution_count": 21,
     "metadata": {},
     "output_type": "execute_result"
    }
   ],
   "source": [
    "stats_df.groupby('name')['smartline'].unique()"
   ]
  },
  {
   "cell_type": "markdown",
   "metadata": {},
   "source": [
    "#### Results by slope"
   ]
  },
  {
   "cell_type": "code",
   "execution_count": 42,
   "metadata": {},
   "outputs": [
    {
     "data": {
      "image/png": "[encoded data removed]",
      "text/plain": [
       "<Figure size 864x360 with 2 Axes>"
      ]
     },
     "metadata": {
      "needs_background": "light"
     },
     "output_type": "display_data"
    }
   ],
   "source": [
    "fig, (ax1, ax2) = plt.subplots(1, 2, figsize=(12, 5))\n",
    "\n",
    "by_slope_nobias.plot.scatter(x='slope', y='mae', c='C1', ax=ax1, s=6)\n",
    "by_slope.plot.scatter(x='slope', y='mae', c='C0', ax=ax1, s=6)\n",
    "by_yearly_obs_nobias.plot.scatter(x='n', y='mae', c='C1', ax=ax2, s=6)\n",
    "by_yearly_obs.plot.scatter(x='n', y='mae', c='C0', ax=ax2, s=6)\n",
    "by_slope.plot.scatter(x='slope', y='bias', c='dimgrey', ax=ax1, s=6)\n",
    "by_yearly_obs.plot.scatter(x='n', y='bias', c='dimgrey', ax=ax2, s=6)\n",
    "\n",
    "# Add trendline and restrict extent\n",
    "z = lowess(by_slope['mae'], by_slope['slope'])\n",
    "ax1.plot(z[:, 0], z[:, 1], '--', color = 'C0', linewidth = 1.3, zorder=3);\n",
    "z = lowess(by_slope_nobias['mae'], by_slope_nobias['slope'])\n",
    "ax1.plot(z[:, 0], z[:, 1], '--', color = 'C1', linewidth = 1.3);\n",
    "z = lowess(by_yearly_obs['mae'], by_yearly_obs['n'])\n",
    "ax2.plot(z[:, 0], z[:, 1], '--', color = 'C0', linewidth = 1.3, zorder=3);\n",
    "z = lowess(by_yearly_obs_nobias['mae'], by_yearly_obs_nobias['n'])\n",
    "ax2.plot(z[:, 0], z[:, 1], '--', color = 'C1', linewidth = 1.3);\n",
    "z = lowess(by_slope['bias'], by_slope['slope'])\n",
    "ax1.plot(z[:, 0], z[:, 1], '--', color = 'dimgrey', linewidth = 1.0, zorder=0);\n",
    "z = lowess(by_yearly_obs['bias'], by_yearly_obs['n'])\n",
    "ax2.plot(z[:, 0], z[:, 1], '--', color = 'dimgrey', linewidth = 1.0, zorder=0);\n",
    "\n",
    "# Set axis limita\n",
    "ax1.set_xticks(np.arange(0, 0.2, 0.02))\n",
    "ax1.set_ylabel('Metres (m)')\n",
    "ax1.set_xlabel('Slope')\n",
    "ax2.set_xlabel('Survey frequency (observations per year)')\n",
    "ax2.set_ylim(0, 25)\n",
    "ax2.yaxis.label.set_visible(False)\n",
    "plt.subplots_adjust(wspace=0.1, hspace=0)\n",
    "ax1.legend(['Mean Absolute Error (MAE)', 'Bias-corrected MAE', 'Bias'], frameon=False)\n",
    "\n",
    "for axis in ['top','bottom','left','right']:\n",
    "    ax1.spines[axis].set_linewidth(1.5)\n",
    "    ax2.spines[axis].set_linewidth(1.5)\n",
    "\n",
    "plt.savefig(fname=f'../bishoptaylor_2020/SlopeObs/FigureX_Effectofslopeandobs.png', \n",
    "            bbox_inches='tight',\n",
    "            transparent=True,\n",
    "            pad_inches=0.05, dpi=300)"
   ]
  },
  {
   "cell_type": "code",
   "execution_count": 140,
   "metadata": {},
   "outputs": [
    {
     "data": {
      "image/png": "[encoded data removed]",
      "text/plain": [
       "<Figure size 864x360 with 3 Axes>"
      ]
     },
     "metadata": {
      "needs_background": "light"
     },
     "output_type": "display_data"
    }
   ],
   "source": [
    "fig, (ax2, ax1) = plt.subplots(1, 2, figsize=(12, 5))\n",
    "\n",
    "# by_yearly_obs = stats_df.groupby('n').apply(\n",
    "#     lambda x: deacl_val_stats(x.val_dist, x.deacl_dist, x.n, False)).drop('n', axis=1).reset_index()\n",
    "by_yearly_obs.plot.scatter(x='n', y='mae', ax=ax2, s=15)\n",
    "\n",
    "\n",
    "for axis in ['top','bottom','left','right']:\n",
    "    ax1.spines[axis].set_linewidth(1.5)\n",
    "    ax2.spines[axis].set_linewidth(1.5)\n",
    "\n",
    "by_slope = stats_df[['slope', 'error_m']].dropna(axis=0) \n",
    "by_slope['slope'] = by_slope.slope.abs()\n",
    "\n",
    "sns.kdeplot(ax=ax1,\n",
    "            data=by_slope['slope'],\n",
    "            data2=by_slope['error_m'],\n",
    "            cmap='YlOrRd',\n",
    "            legend=True, \n",
    "            cbar=True,\n",
    "            shade=True,\n",
    "            shade_lowest=False,\n",
    "            levels=16,\n",
    "            clip=([0, 0.202], [-20, 55]),\n",
    "            cbar_kws={\"use_gridspec\":False, \n",
    "                      \"location\":\"top\",\n",
    "                      \"shrink\":0.5, \n",
    "                      \"anchor\":(0.92, 0.0),\n",
    "                      'label': 'Density',\n",
    "                      'ticklocation':\"left\",\n",
    "                      \"ticks\": [0, 0.1, 0.2, 0.3, 0.4, 0.5]}\n",
    "           )\n",
    "\n",
    "sns.kdeplot(ax=ax1,\n",
    "            data=by_slope['slope'],\n",
    "            data2=by_slope['error_m'],\n",
    "            colors=\"black\",\n",
    "            shade=False,\n",
    "            shade_lowest=False,\n",
    "            levels=16,\n",
    "            clip=([0, 0.202], [-20, 55]),\n",
    "            linewidths=0.5\n",
    "#             linestyles=\":\"\n",
    "           )\n",
    "\n",
    "# Add trendline and restrict extent\n",
    "z = lowess(by_yearly_obs['mae'], by_yearly_obs['n'])\n",
    "ax2.plot(z[:, 0], z[:, 1], '--', color = 'black', linewidth = 1.3, zorder=3);\n",
    "\n",
    "ax1.set(ylim=(-25, 55))\n",
    "# # Set axis limita\n",
    "# ax1.set_xticks(np.arange(0, 0.2, 0.02))\n",
    "ax1.set_ylabel('Errors (m)')\n",
    "ax2.set_ylabel('Mean Absolute Error (MAE)')\n",
    "ax1.set_xlabel('Intertidal slope (tan θ)')\n",
    "ax2.set_xlabel('Survey frequency (observations per year)')\n",
    "ax2.set_ylim(0, 25)\n",
    "plt.subplots_adjust(wspace=0.15, hspace=0)\n",
    "ax2.legend(['Trendline (LOESS)'], frameon=False)\n",
    "ax1.axhline(y=0, linestyle='--', color='black', linewidth = 0.5)\n",
    "\n",
    "\n",
    "ax1.annotate('Landward\\nbias', \n",
    "             xytext=(0.1817, 2), \n",
    "             xy=(0.1817, 13.8), \n",
    "             arrowprops={'arrowstyle': '-|>', \n",
    "                         'facecolor': 'black', \n",
    "                         'mutation_scale': 15}, \n",
    "             ha='center')\n",
    "ax1.annotate('Seaward\\nbias', \n",
    "             xytext=(0.1817, -7.5), \n",
    "             xy=(0.1817, -14), \n",
    "             arrowprops={'arrowstyle': '-|>', \n",
    "                         'facecolor': 'black', \n",
    "                         'mutation_scale': 15}, \n",
    "             ha='center')\n",
    "\n",
    "plt.savefig(fname=f'../bishoptaylor_2020/SlopeObs/FigureX_Effectofslopeandobs.png', \n",
    "            bbox_inches='tight',\n",
    "            transparent=True,\n",
    "            pad_inches=0.05, dpi=300)\n",
    "\n"
   ]
  },
  {
   "cell_type": "markdown",
   "metadata": {},
   "source": [
    "#### Temporal plots"
   ]
  },
  {
   "cell_type": "code",
   "execution_count": 37,
   "metadata": {},
   "outputs": [
    {
     "data": {
      "text/plain": [
       "<seaborn.axisgrid.FacetGrid at 0x7f82e3c61fd0>"
      ]
     },
     "execution_count": 37,
     "metadata": {},
     "output_type": "execute_result"
    },
    {
     "data": {
      "image/png": "[encoded data removed]",
      "text/plain": [
       "<Figure size 1007.98x288 with 4 Axes>"
      ]
     },
     "metadata": {
      "needs_background": "light"
     },
     "output_type": "display_data"
    }
   ],
   "source": [
    "subpixel_subset = ['currumbin_eta_27', 'tugun_eta_25', 'narrabeen_all_pf8']\n",
    "subpixel_subset = ['kingsbeach_na_KB35', 'kingsbeach_na_KB47', 'kingsbeach_na_KB56', 'kingsbeach_na_KB53']\n",
    "is_subpixel = stats_df[stats_df.id.isin(subpixel_subset)]\n",
    "\n",
    "is_subpixel_stats = is_subpixel.groupby('id').apply(\n",
    "    lambda x: deacl_val_stats(x.val_dist, x.deacl_dist, x.n))\n",
    "\n",
    "is_subpixel_merged = pd.merge(\n",
    "    left=is_subpixel,\n",
    "    right=is_subpixel_stats,\n",
    "    how=\"inner\",\n",
    "    on='id')\n",
    "\n",
    "is_subpixel_merged['deacl_dist'] += is_subpixel_merged['bias']\n",
    "\n",
    "is_subpixel_melted = pd.melt(is_subpixel_merged, \n",
    "                    id_vars=['id', 'year'], \n",
    "                    value_vars=['val_dist', 'deacl_dist'], \n",
    "                    value_name='distance')\n",
    "\n",
    "\n",
    "# Plot in facets\n",
    "out = sns.relplot(\n",
    "    data=is_subpixel_melted,\n",
    "    x=\"year\", y=\"distance\", hue='variable', kind=\"line\",\n",
    "    col=\"id\",\n",
    "#     facet_kws={'sharey': False, 'sharex': False}\n",
    "#     facet_kws={'ymin': 0},\n",
    "    aspect=0.8, height=4\n",
    "    \n",
    ")\n",
    "out.set(ylim=(0, 100))"
   ]
  },
  {
   "cell_type": "code",
   "execution_count": 22,
   "metadata": {},
   "outputs": [
    {
     "data": {
      "text/plain": [
       "array(['mooloolaba', 'southmooloolaba', 'kingsbeach', 'mudjimba-yaroomba',\n",
       "       'dickybeach', 'coolum-sunshine'], dtype=object)"
      ]
     },
     "execution_count": 22,
     "metadata": {},
     "output_type": "execute_result"
    }
   ],
   "source": [
    "stats_df.beach.unique()"
   ]
  },
  {
   "cell_type": "code",
   "execution_count": 15,
   "metadata": {},
   "outputs": [],
   "source": [
    "id_var = 'id'\n",
    "high_freq = stats_df.groupby(id_var).filter(lambda x: len(x) >= 1)\n",
    "high_freq_stats = high_freq.groupby(id_var).apply(\n",
    "    lambda x: deacl_val_stats(x.val_dist, x.deacl_dist, x.n))"
   ]
  },
  {
   "cell_type": "code",
   "execution_count": 16,
   "metadata": {},
   "outputs": [],
   "source": [
    "high_freq_merged = pd.merge(\n",
    "    left=high_freq,\n",
    "    right=high_freq_stats,\n",
    "    how=\"inner\",\n",
    "    on=id_var)"
   ]
  },
  {
   "cell_type": "code",
   "execution_count": 17,
   "metadata": {},
   "outputs": [],
   "source": [
    "high_freq_merged['deacl_dist'] += high_freq_merged['bias']"
   ]
  },
  {
   "cell_type": "code",
   "execution_count": 18,
   "metadata": {},
   "outputs": [
    {
     "data": {
      "text/html": [
       "<div>\n",
       "<style scoped>\n",
       "    .dataframe tbody tr th:only-of-type {\n",
       "        vertical-align: middle;\n",
       "    }\n",
       "\n",
       "    .dataframe tbody tr th {\n",
       "        vertical-align: top;\n",
       "    }\n",
       "\n",
       "    .dataframe thead th {\n",
       "        text-align: right;\n",
       "    }\n",
       "</style>\n",
       "<table border=\"1\" class=\"dataframe\">\n",
       "  <thead>\n",
       "    <tr style=\"text-align: right;\">\n",
       "      <th></th>\n",
       "      <th>id</th>\n",
       "      <th>year</th>\n",
       "      <th>variable</th>\n",
       "      <th>distance</th>\n",
       "    </tr>\n",
       "  </thead>\n",
       "  <tbody>\n",
       "    <tr>\n",
       "      <th>0</th>\n",
       "      <td>mooloolaba_na_522</td>\n",
       "      <td>1993</td>\n",
       "      <td>val_dist</td>\n",
       "      <td>1020.995529</td>\n",
       "    </tr>\n",
       "    <tr>\n",
       "      <th>1</th>\n",
       "      <td>mooloolaba_na_523</td>\n",
       "      <td>1993</td>\n",
       "      <td>val_dist</td>\n",
       "      <td>975.308240</td>\n",
       "    </tr>\n",
       "    <tr>\n",
       "      <th>2</th>\n",
       "      <td>mooloolaba_na_527</td>\n",
       "      <td>1993</td>\n",
       "      <td>val_dist</td>\n",
       "      <td>850.088450</td>\n",
       "    </tr>\n",
       "    <tr>\n",
       "      <th>3</th>\n",
       "      <td>mooloolaba_na_530</td>\n",
       "      <td>1993</td>\n",
       "      <td>val_dist</td>\n",
       "      <td>2906.751169</td>\n",
       "    </tr>\n",
       "    <tr>\n",
       "      <th>4</th>\n",
       "      <td>mooloolaba_na_532</td>\n",
       "      <td>1993</td>\n",
       "      <td>val_dist</td>\n",
       "      <td>2669.300318</td>\n",
       "    </tr>\n",
       "  </tbody>\n",
       "</table>\n",
       "</div>"
      ],
      "text/plain": [
       "                  id  year  variable     distance\n",
       "0  mooloolaba_na_522  1993  val_dist  1020.995529\n",
       "1  mooloolaba_na_523  1993  val_dist   975.308240\n",
       "2  mooloolaba_na_527  1993  val_dist   850.088450\n",
       "3  mooloolaba_na_530  1993  val_dist  2906.751169\n",
       "4  mooloolaba_na_532  1993  val_dist  2669.300318"
      ]
     },
     "execution_count": 18,
     "metadata": {},
     "output_type": "execute_result"
    }
   ],
   "source": [
    "high_freq_melted = pd.melt(high_freq_merged, #.query('corr > 0.8'), \n",
    "                    id_vars=[id_var, 'year'], \n",
    "                    value_vars=['val_dist', 'deacl_dist'], \n",
    "                    value_name='distance')\n",
    "high_freq_melted.head()"
   ]
  },
  {
   "cell_type": "code",
   "execution_count": 28,
   "metadata": {},
   "outputs": [
    {
     "data": {
      "text/plain": [
       "array(['mooloolaba_na_522', 'mooloolaba_na_523', 'mooloolaba_na_527',\n",
       "       'mooloolaba_na_530', 'mooloolaba_na_532', 'southmooloolaba_na_494',\n",
       "       'southmooloolaba_na_496', 'southmooloolaba_na_500',\n",
       "       'southmooloolaba_na_502', 'southmooloolaba_na_504',\n",
       "       'southmooloolaba_na_506', 'southmooloolaba_na_510',\n",
       "       'southmooloolaba_na_512', 'southmooloolaba_na_514',\n",
       "       'kingsbeach_na_KB1', 'kingsbeach_na_KB2', 'kingsbeach_na_KB21',\n",
       "       'kingsbeach_na_KB22', 'kingsbeach_na_KB23', 'kingsbeach_na_KB24',\n",
       "       'kingsbeach_na_KB25', 'kingsbeach_na_KB25.5', 'kingsbeach_na_KB26',\n",
       "       'kingsbeach_na_KB27', 'kingsbeach_na_KB28', 'kingsbeach_na_KB29',\n",
       "       'kingsbeach_na_KB30', 'kingsbeach_na_KB31', 'kingsbeach_na_KB32',\n",
       "       'kingsbeach_na_KB34', 'kingsbeach_na_KB35', 'kingsbeach_na_KB37',\n",
       "       'kingsbeach_na_KB38', 'kingsbeach_na_KB39', 'kingsbeach_na_KB40',\n",
       "       'kingsbeach_na_KB41', 'kingsbeach_na_KB42', 'kingsbeach_na_KB43',\n",
       "       'kingsbeach_na_KB44', 'kingsbeach_na_KB45', 'kingsbeach_na_KB46',\n",
       "       'kingsbeach_na_KB47', 'kingsbeach_na_KB48', 'kingsbeach_na_KB49',\n",
       "       'kingsbeach_na_KB50', 'kingsbeach_na_KB50.5', 'kingsbeach_na_KB52',\n",
       "       'kingsbeach_na_KB54', 'kingsbeach_na_KB55', 'kingsbeach_na_KB56',\n",
       "       'kingsbeach_na_KB58', 'kingsbeach_na_KB59', 'kingsbeach_na_KB60',\n",
       "       'kingsbeach_na_KB61', 'kingsbeach_na_KB62', 'kingsbeach_na_KB20',\n",
       "       'kingsbeach_na_KB33', 'kingsbeach_na_KB36', 'kingsbeach_na_KB51',\n",
       "       'kingsbeach_na_KB53', 'kingsbeach_na_KB57', 'kingsbeach_na_KB63',\n",
       "       'kingsbeach_na_KB64', 'mudjimba-yaroomba_na_540',\n",
       "       'mudjimba-yaroomba_na_542', 'mudjimba-yaroomba_na_544',\n",
       "       'mudjimba-yaroomba_na_546', 'mudjimba-yaroomba_na_548',\n",
       "       'mudjimba-yaroomba_na_550', 'mudjimba-yaroomba_na_552',\n",
       "       'mudjimba-yaroomba_na_554', 'mudjimba-yaroomba_na_556',\n",
       "       'mudjimba-yaroomba_na_558', 'mudjimba-yaroomba_na_560',\n",
       "       'mudjimba-yaroomba_na_562', 'dickybeach_na_488',\n",
       "       'dickybeach_na_490', 'dickybeach_na_492', 'coolum-sunshine_na_568',\n",
       "       'coolum-sunshine_na_570', 'coolum-sunshine_na_572',\n",
       "       'coolum-sunshine_na_574', 'coolum-sunshine_na_576',\n",
       "       'coolum-sunshine_na_578', 'coolum-sunshine_na_580',\n",
       "       'coolum-sunshine_na_582', 'coolum-sunshine_na_584',\n",
       "       'coolum-sunshine_na_586', 'coolum-sunshine_na_588',\n",
       "       'coolum-sunshine_na_590', 'coolum-sunshine_na_592',\n",
       "       'coolum-sunshine_na_594', 'coolum-sunshine_na_596',\n",
       "       'coolum-sunshine_na_598', 'coolum-sunshine_na_600',\n",
       "       'coolum-sunshine_na_604'], dtype=object)"
      ]
     },
     "execution_count": 28,
     "metadata": {},
     "output_type": "execute_result"
    }
   ],
   "source": [
    "high_freq_melted.id.unique()"
   ]
  },
  {
   "cell_type": "code",
   "execution_count": 19,
   "metadata": {},
   "outputs": [],
   "source": [
    "high_freq_melted['distance'] = high_freq_melted.distance - high_freq_melted.groupby(id_var).distance.transform('min')"
   ]
  },
  {
   "cell_type": "code",
   "execution_count": 20,
   "metadata": {},
   "outputs": [
    {
     "data": {
      "image/png": "[encoded data removed]",
      "text/plain": [
       "<Figure size 1134.69x1310.4 with 96 Axes>"
      ]
     },
     "metadata": {
      "needs_background": "light"
     },
     "output_type": "display_data"
    }
   ],
   "source": [
    "# Plot the lines on two facets\n",
    "g = sns.relplot(\n",
    "    data=high_freq_melted,\n",
    "    x=\"year\", y=\"distance\", hue='variable', kind=\"line\",\n",
    "    col=id_var, col_wrap=7,\n",
    "#     facet_kws={'sharey': False, 'sharex': True},\n",
    "    aspect=1.6, height=1.3\n",
    "    \n",
    ")\n",
    "\n",
    "plt.subplots_adjust(hspace=0.25, wspace=0.10)\n"
   ]
  },
  {
   "cell_type": "code",
   "execution_count": 136,
   "metadata": {},
   "outputs": [],
   "source": [
    "g.fig.savefig(f\"sa_dew_prelim2.png\", dpi=100)"
   ]
  },
  {
   "cell_type": "code",
   "execution_count": 358,
   "metadata": {},
   "outputs": [
    {
     "data": {
      "text/plain": [
       "Text(0.5, 1.0, 'Profile 200020')"
      ]
     },
     "execution_count": 358,
     "metadata": {},
     "output_type": "execute_result"
    },
    {
     "data": {
      "image/png": "[encoded data removed]",
      "text/plain": [
       "<Figure size 547.175x288 with 1 Axes>"
      ]
     },
     "metadata": {
      "needs_background": "light"
     },
     "output_type": "display_data"
    }
   ],
   "source": [
    "test = high_freq_melted.loc[high_freq_melted.profile == 715009]\n",
    "\n",
    "# Plot the lines on two facets\n",
    "g = sns.relplot(\n",
    "    data=test,\n",
    "    x=\"year\", y=\"distance\", hue='variable', kind=\"line\",\n",
    "    aspect=1.6, height=4,  \n",
    ")\n",
    "\n",
    "# plt.gca().set(ylim=(40, 110))\n",
    "# plt.gca().axhspan(62, 92, alpha=0.16, color='grey')\n",
    "plt.gca().set_title('Profile 200020')"
   ]
  },
  {
   "cell_type": "markdown",
   "metadata": {},
   "source": [
    "#### Results by profile\n",
    "ID filtered to multi-year observations"
   ]
  },
  {
   "cell_type": "code",
   "execution_count": null,
   "metadata": {},
   "outputs": [],
   "source": [
    "by_id = stats_df.groupby('id').apply(\n",
    "    lambda x: deacl_val_stats(x.val_dist, x.deacl_dist))"
   ]
  },
  {
   "cell_type": "code",
   "execution_count": null,
   "metadata": {},
   "outputs": [],
   "source": [
    "by_id.query(\"n > 5\").astype('float').boxplot(column='mae')"
   ]
  },
  {
   "cell_type": "code",
   "execution_count": null,
   "metadata": {},
   "outputs": [],
   "source": [
    "by_id.query(\"n > 5\")['mae'].astype('float').plot.hist(bins=30)"
   ]
  },
  {
   "cell_type": "markdown",
   "metadata": {},
   "source": [
    "#### Effect of validation source"
   ]
  },
  {
   "cell_type": "code",
   "execution_count": 25,
   "metadata": {},
   "outputs": [
    {
     "data": {
      "text/html": [
       "<div>\n",
       "<style scoped>\n",
       "    .dataframe tbody tr th:only-of-type {\n",
       "        vertical-align: middle;\n",
       "    }\n",
       "\n",
       "    .dataframe tbody tr th {\n",
       "        vertical-align: top;\n",
       "    }\n",
       "\n",
       "    .dataframe thead th {\n",
       "        text-align: right;\n",
       "    }\n",
       "</style>\n",
       "<table border=\"1\" class=\"dataframe\">\n",
       "  <thead>\n",
       "    <tr style=\"text-align: right;\">\n",
       "      <th></th>\n",
       "      <th>n</th>\n",
       "      <th>Bias (m)</th>\n",
       "      <th>MAE (m)</th>\n",
       "      <th>RMSE (m)</th>\n",
       "      <th>SD (m)</th>\n",
       "      <th>Correlation</th>\n",
       "    </tr>\n",
       "    <tr>\n",
       "      <th>source</th>\n",
       "      <th></th>\n",
       "      <th></th>\n",
       "      <th></th>\n",
       "      <th></th>\n",
       "      <th></th>\n",
       "      <th></th>\n",
       "    </tr>\n",
       "  </thead>\n",
       "  <tbody>\n",
       "    <tr>\n",
       "      <th>gps</th>\n",
       "      <td>1665</td>\n",
       "      <td>6.6</td>\n",
       "      <td>8.1 (6.7)</td>\n",
       "      <td>11.8 (9.8)</td>\n",
       "      <td>9.8</td>\n",
       "      <td>0.930</td>\n",
       "    </tr>\n",
       "    <tr>\n",
       "      <th>total station</th>\n",
       "      <td>63</td>\n",
       "      <td>5.8</td>\n",
       "      <td>10.0 (9.0)</td>\n",
       "      <td>13.5 (12.2)</td>\n",
       "      <td>12.3</td>\n",
       "      <td>0.875</td>\n",
       "    </tr>\n",
       "    <tr>\n",
       "      <th>drone photogrammetry</th>\n",
       "      <td>1573</td>\n",
       "      <td>10.1</td>\n",
       "      <td>11.0 (7.0)</td>\n",
       "      <td>13.4 (8.8)</td>\n",
       "      <td>8.8</td>\n",
       "      <td>0.853</td>\n",
       "    </tr>\n",
       "    <tr>\n",
       "      <th>aerial photogrammetry</th>\n",
       "      <td>34559</td>\n",
       "      <td>7.6</td>\n",
       "      <td>12.6 (11.2)</td>\n",
       "      <td>18.5 (16.9)</td>\n",
       "      <td>16.9</td>\n",
       "      <td>0.981</td>\n",
       "    </tr>\n",
       "    <tr>\n",
       "      <th>emery/levelling</th>\n",
       "      <td>1798</td>\n",
       "      <td>12.2</td>\n",
       "      <td>14.6 (12.2)</td>\n",
       "      <td>20.0 (15.9)</td>\n",
       "      <td>15.9</td>\n",
       "      <td>0.841</td>\n",
       "    </tr>\n",
       "    <tr>\n",
       "      <th>terrestrial laser scanning</th>\n",
       "      <td>228</td>\n",
       "      <td>16.8</td>\n",
       "      <td>16.8 (1.3)</td>\n",
       "      <td>16.9 (1.6)</td>\n",
       "      <td>1.6</td>\n",
       "      <td>0.998</td>\n",
       "    </tr>\n",
       "    <tr>\n",
       "      <th>lidar</th>\n",
       "      <td>4756</td>\n",
       "      <td>14.0</td>\n",
       "      <td>17.3 (11.9)</td>\n",
       "      <td>21.4 (16.2)</td>\n",
       "      <td>16.2</td>\n",
       "      <td>0.992</td>\n",
       "    </tr>\n",
       "    <tr>\n",
       "      <th>hydrographic survey</th>\n",
       "      <td>12987</td>\n",
       "      <td>14.8</td>\n",
       "      <td>17.5 (12.6)</td>\n",
       "      <td>22.1 (16.4)</td>\n",
       "      <td>16.4</td>\n",
       "      <td>0.997</td>\n",
       "    </tr>\n",
       "  </tbody>\n",
       "</table>\n",
       "</div>"
      ],
      "text/plain": [
       "                                n  Bias (m)      MAE (m)     RMSE (m)  SD (m)  \\\n",
       "source                                                                          \n",
       "gps                          1665       6.6    8.1 (6.7)   11.8 (9.8)     9.8   \n",
       "total station                  63       5.8   10.0 (9.0)  13.5 (12.2)    12.3   \n",
       "drone photogrammetry         1573      10.1   11.0 (7.0)   13.4 (8.8)     8.8   \n",
       "aerial photogrammetry       34559       7.6  12.6 (11.2)  18.5 (16.9)    16.9   \n",
       "emery/levelling              1798      12.2  14.6 (12.2)  20.0 (15.9)    15.9   \n",
       "terrestrial laser scanning    228      16.8   16.8 (1.3)   16.9 (1.6)     1.6   \n",
       "lidar                        4756      14.0  17.3 (11.9)  21.4 (16.2)    16.2   \n",
       "hydrographic survey         12987      14.8  17.5 (12.6)  22.1 (16.4)    16.4   \n",
       "\n",
       "                            Correlation  \n",
       "source                                   \n",
       "gps                               0.930  \n",
       "total station                     0.875  \n",
       "drone photogrammetry              0.853  \n",
       "aerial photogrammetry             0.981  \n",
       "emery/levelling                   0.841  \n",
       "terrestrial laser scanning        0.998  \n",
       "lidar                             0.992  \n",
       "hydrographic survey               0.997  "
      ]
     },
     "execution_count": 25,
     "metadata": {},
     "output_type": "execute_result"
    }
   ],
   "source": [
    "by_source = stats_df.groupby('source').apply(\n",
    "    lambda x: deacl_val_stats(x.val_dist, x.deacl_dist, x.n))\n",
    "by_source_nobias = stats_df.groupby('source').apply(\n",
    "    lambda x: deacl_val_stats(x.val_dist, x.deacl_dist, x.n, True))\n",
    "\n",
    "rse_tableformat(by_source, by_source_nobias)\n"
   ]
  },
  {
   "cell_type": "markdown",
   "metadata": {},
   "source": [
    "#### Effect of yearly validation observations"
   ]
  },
  {
   "cell_type": "code",
   "execution_count": 29,
   "metadata": {},
   "outputs": [
    {
     "data": {
      "text/plain": [
       "57662"
      ]
     },
     "execution_count": 29,
     "metadata": {},
     "output_type": "execute_result"
    }
   ],
   "source": [
    "stats_df.n.sum()"
   ]
  },
  {
   "cell_type": "code",
   "execution_count": 30,
   "metadata": {},
   "outputs": [
    {
     "data": {
      "text/plain": [
       "13352"
      ]
     },
     "execution_count": 30,
     "metadata": {},
     "output_type": "execute_result"
    }
   ],
   "source": [
    "stats_df[stats_df.n > 1].n.sum()"
   ]
  },
  {
   "cell_type": "code",
   "execution_count": 31,
   "metadata": {},
   "outputs": [
    {
     "data": {
      "text/plain": [
       "0.23155631091533424"
      ]
     },
     "execution_count": 31,
     "metadata": {},
     "output_type": "execute_result"
    }
   ],
   "source": [
    "1 - (stats_df[stats_df.n == 1].n.sum() / stats_df.n.sum())"
   ]
  },
  {
   "cell_type": "code",
   "execution_count": 32,
   "metadata": {},
   "outputs": [
    {
     "data": {
      "text/plain": [
       "2292"
      ]
     },
     "execution_count": 32,
     "metadata": {},
     "output_type": "execute_result"
    }
   ],
   "source": [
    "stats_df[stats_df.n >= 12].n.sum()"
   ]
  },
  {
   "cell_type": "code",
   "execution_count": 33,
   "metadata": {},
   "outputs": [
    {
     "data": {
      "text/plain": [
       "0.03974888141236863"
      ]
     },
     "execution_count": 33,
     "metadata": {},
     "output_type": "execute_result"
    }
   ],
   "source": [
    "stats_df[stats_df.n >= 12].n.sum()  / stats_df.n.sum()"
   ]
  },
  {
   "cell_type": "code",
   "execution_count": null,
   "metadata": {},
   "outputs": [],
   "source": [
    "stats_df[stats_df.n >= 12].beach.unique()"
   ]
  },
  {
   "cell_type": "code",
   "execution_count": null,
   "metadata": {},
   "outputs": [],
   "source": [
    "by_yearly_obs = stats_df.groupby('n').apply(\n",
    "    lambda x: deacl_val_stats(x.val_dist, x.deacl_dist, False)).drop('n', axis=1).reset_index()"
   ]
  },
  {
   "cell_type": "code",
   "execution_count": null,
   "metadata": {},
   "outputs": [],
   "source": [
    "\n",
    "by_yearly_obs = stats_df.groupby('n').apply(\n",
    "    lambda x: deacl_val_stats(x.val_dist, x.deacl_dist, False)).drop('n', axis=1).reset_index()\n",
    "by_yearly_obs.plot.scatter(x='n', y='mae')\n",
    "\n",
    "# Add trendline and restrict extent\n",
    "z = lowess(by_yearly_obs['mae'], by_yearly_obs['n'])\n",
    "plt.gca().plot(z[:, 0], z[:, 1], '--', color = 'black', linewidth = 1, );\n"
   ]
  },
  {
   "cell_type": "code",
   "execution_count": null,
   "metadata": {},
   "outputs": [],
   "source": [
    "by_slope = stats_df[['n', 'error_m']].dropna(axis=0) \n",
    "by_slope['error_m'] = by_slope.error_m.abs()\n",
    "\n",
    "plt.figure(figsize=(8, 8))\n",
    "a = sns.kdeplot(ax=plt.gca(),\n",
    "            data=by_slope['n'],\n",
    "            data2=by_slope['error_m'],\n",
    "            cmap='YlOrRd',\n",
    "            shade=True,\n",
    "            shade_lowest=False,\n",
    "#             levels=15,\n",
    "#             clip=([0, 0.18], [-20, 55]),\n",
    "           )\n",
    "\n",
    "# # Add trendline and restrict extent\n",
    "# z = lowess(by_slope['error_m'], by_slope['slope'])\n",
    "# plt.gca().plot(z[:, 0], z[:, 1], '--', color = 'black', linewidth = 1, )\n",
    "# a.set(xlim=(0, 0.18))\n",
    "# a.set(ylim=(-20, 55))"
   ]
  },
  {
   "cell_type": "code",
   "execution_count": null,
   "metadata": {},
   "outputs": [],
   "source": [
    "by_slope.plot.scatter(x='n', y='error_m')"
   ]
  },
  {
   "cell_type": "markdown",
   "metadata": {},
   "source": [
    "### Plots"
   ]
  },
  {
   "cell_type": "code",
   "execution_count": null,
   "metadata": {},
   "outputs": [],
   "source": [
    "# # Export evaluation vector\n",
    "output_name = 'vicdeakin'\n",
    "export_eval(stats_df, output_name)"
   ]
  },
  {
   "cell_type": "code",
   "execution_count": 39,
   "metadata": {},
   "outputs": [
    {
     "data": {
      "image/png": "[encoded data removed]",
      "text/plain": [
       "<Figure size 576x576 with 1 Axes>"
      ]
     },
     "metadata": {
      "needs_background": "light"
     },
     "output_type": "display_data"
    },
    {
     "data": {
      "image/png": "[encoded data removed]",
      "text/plain": [
       "<Figure size 576x576 with 1 Axes>"
      ]
     },
     "metadata": {
      "needs_background": "light"
     },
     "output_type": "display_data"
    }
   ],
   "source": [
    "# Print stats and plot scatterplot\n",
    "stats_subset = stats_df  #.query(\"deacl_dist < 3000\")  #.loc[stats_df.id.isin(['bussleton_all_31'])]\n",
    "\n",
    "def val_plot(df, \n",
    "             title='Validation',\n",
    "             scatter=True, \n",
    "             density=True,\n",
    "             time=True, \n",
    "             time_stat='mean',\n",
    "             time_legend_pos=[0.8, 0.035],\n",
    "             offset=0,\n",
    "             extent=(0, 120),\n",
    "             scatter_kwargs={}, \n",
    "             time_kwargs={}):\n",
    "    \n",
    "    # Copy data and apply offset\n",
    "    df = df.copy()\n",
    "    df['error_m'] += offset\n",
    "    df['deacl_dist'] += offset\n",
    "\n",
    "    # Compute stats  \n",
    "    n, mae, rmse, stdev, corr, bias = deacl_val_stats(\n",
    "        val_dist=df.val_dist, \n",
    "        deacl_dist=df.deacl_dist)    \n",
    "    offset_str = 'landward offset' if bias > 0 else 'ocean-ward offset'\n",
    "\n",
    "    if scatter:\n",
    "        \n",
    "        # Plot data as scatterplot\n",
    "        fig, ax = plt.subplots(figsize=(8, 8))\n",
    "        df.plot.scatter(x='val_dist',\n",
    "                        y='deacl_dist',\n",
    "                        s=25,\n",
    "                        edgecolors='black',\n",
    "                        linewidth=0.5,\n",
    "#                         xlim=extent,\n",
    "#                         ylim=extent,\n",
    "                        ax=ax,\n",
    "                        **scatter_kwargs)\n",
    "        \n",
    "        # Add dashed line\n",
    "        \n",
    "        \n",
    "        ax.plot(\n",
    "                np.linspace(df.loc[:, ['deacl_dist', 'val_dist']].values.min(), \n",
    "                            df.loc[:, ['deacl_dist', 'val_dist']].values.max()),\n",
    "                np.linspace(df.loc[:, ['deacl_dist', 'val_dist']].values.min(), \n",
    "                            df.loc[:, ['deacl_dist', 'val_dist']].values.max()),\n",
    "                color='black',\n",
    "                linestyle='dashed')\n",
    "        \n",
    "        ax.set_xlabel(f'{title} (metres along transect)')\n",
    "        ax.set_ylabel(f'DEA CoastLines (metres along transect)')\n",
    "        \n",
    "        # Add annotation\n",
    "        ax.annotate(f'Mean Absolute Error: {mae:.1f} m\\n' \\\n",
    "                    f'RMSE: {rmse:.1f} m\\n' \\\n",
    "                    f'Standard deviation: {stdev:.1f} m\\n' \\\n",
    "                    f'Bias: {bias:.1f} m {offset_str}\\n' \\\n",
    "                    f'Correlation: {corr:.2f}\\n',\n",
    "                    xy=(0.04, 0.75),\n",
    "                    fontsize=14,\n",
    "                    xycoords='axes fraction')\n",
    "\n",
    "        # Set title\n",
    "        plt.gca().set_title(f'DEA CoastLines vs {title}', weight='bold')\n",
    "        \n",
    "        # Export to file        \n",
    "        fig.savefig(f\"{title}_scatter_offset{offset:.1f}.png\", dpi=300)\n",
    "        \n",
    "    if density:\n",
    "        \n",
    "        fig, ax = plt.subplots(figsize=(8, 8))\n",
    "\n",
    "        g = sns.kdeplot(ax=ax,\n",
    "                        data=df.val_dist,\n",
    "                        data2=df.deacl_dist, \n",
    "                        cmap='YlOrRd', \n",
    "                        shade=True,\n",
    "                        bw=4,\n",
    "                        shade_lowest=False,\n",
    "                        clip=(extent, extent))\n",
    "\n",
    "        g.set(xlabel=f'{title} (metres along transect)', \n",
    "              ylabel=f'DEA CoastLines (metres along transect)')\n",
    "        ax.set_title(f'DEA CoastLines vs {title}', weight='bold')\n",
    "\n",
    "        # Add stats annotation\n",
    "        ax.annotate(f'Mean Absolute Error: {mae:.1f} m\\n' \\\n",
    "                    f'RMSE: {rmse:.1f} m\\n' \\\n",
    "                    f'Standard deviation: {stdev:.1f} m\\n' \\\n",
    "                    f'Bias: {bias:.1f} m {offset_str}\\n' \\\n",
    "                    f'Correlation: {corr:.2f}\\n',\n",
    "                    xy=(0.04, 0.75),\n",
    "                    fontsize=14,\n",
    "                    xycoords='axes fraction')\n",
    "\n",
    "        # Add diagonal line\n",
    "        plt.gca().plot(np.linspace(*extent), \n",
    "                       np.linspace(*extent),\n",
    "                       color='black',\n",
    "                       linestyle='dashed')\n",
    "        \n",
    "        plt.gca().set_ylim(bottom=extent[0])\n",
    "        plt.gca().set_xlim(left=extent[0])\n",
    "\n",
    "        # Export to file\n",
    "        fig = g.get_figure()\n",
    "        fig.savefig(f\"{title}_heatmap_offset{offset:.1f}.png\", dpi=300)\n",
    "        \n",
    "    if time:\n",
    "        \n",
    "        # Group by beach and apply statistic\n",
    "        stats_grouped = (df.groupby(['beach', 'year'], as_index=False)\n",
    "                         .aggregate(time_stat)\n",
    "                         .rename({'beach': 'id',\n",
    "                                  'deacl_dist': 'DEA CoastLines',\n",
    "                                  'val_dist': title}, axis=1)\n",
    "                         .groupby('id')\n",
    "                         .filter(lambda x: len(x) > 1))\n",
    "\n",
    "        # Melt data into long format for faceted plotting\n",
    "        stats_melted = pd.melt(stats_grouped, \n",
    "                               id_vars=['id', 'year'],\n",
    "                               value_vars=['DEA CoastLines', title],\n",
    "                               value_name='Distance (m)')\n",
    "\n",
    "        # Plot facet data\n",
    "        g = sns.relplot(data=stats_melted,\n",
    "                        x=\"year\", \n",
    "                        y=\"Distance (m)\", \n",
    "                        col=\"id\", \n",
    "                        hue=\"variable\",\n",
    "                        height=1.7, \n",
    "                        aspect=1.0, \n",
    "                        kind=\"line\", \n",
    "                        legend='full', \n",
    "                        col_wrap=5,\n",
    "                        **time_kwargs)\n",
    "        plt.subplots_adjust(top=0.9)\n",
    "        g.fig.suptitle(f'DEA CoastLines vs {title}', \n",
    "                       weight='bold', \n",
    "                       ha='right')\n",
    "        \n",
    "        # Simplify titles\n",
    "        g.set_titles(row_template='{row_name}', \n",
    "                     col_template='{col_name}')\n",
    "\n",
    "        # Customise legend\n",
    "        g._legend.texts[0].set_text(\"\")\n",
    "        g._legend.set_bbox_to_anchor(time_legend_pos)\n",
    "        \n",
    "        # Export to file\n",
    "        g.savefig(f\"{title}_time_offset{offset:.1f}.png\", dpi=300)\n",
    "        \n",
    "    return pd.Series({'Mean Absolute Error': mae, \n",
    "                    f'RMSE': rmse,\n",
    "                    f'Standard deviation': stdev,\n",
    "                    f'Bias': f'{bias:.1f} m {offset_str}',\n",
    "                    f'Correlation': corr})\n",
    "\n",
    "# for i, sub in stats_subset.groupby('smartline'):\n",
    "\n",
    "#     # Run analysis\n",
    "#     g = val_plot(df=sub,  # stats_subset,\n",
    "#                  title=i.replace('/', '-'),\n",
    "#                  scatter=True, \n",
    "#                  density=False,\n",
    "#                  time=False,\n",
    "#                  time_stat='median',\n",
    "#                  time_legend_pos=[0.67, 0.11],\n",
    "#                  offset=0,\n",
    "#                  extent=(0, 1000))\n",
    "\n",
    "# Run analysis\n",
    "g = val_plot(df=stats_subset,  # stats_subset,\n",
    "         title='Sunshine Coast Council',\n",
    "         scatter=True, \n",
    "         density=True,\n",
    "         time=False,\n",
    "         time_stat='median',\n",
    "         time_legend_pos=[0.67, 0.11],\n",
    "         offset=0,\n",
    "         extent=(0, 300))"
   ]
  },
  {
   "cell_type": "code",
   "execution_count": null,
   "metadata": {},
   "outputs": [],
   "source": [
    "g = val_plot(df=stats_subset,  # stats_subset,\n",
    "         title='All',\n",
    "         scatter=False, \n",
    "         density=False,\n",
    "         time=True,\n",
    "         time_stat='median',\n",
    "         time_legend_pos=[0.67, 0.11],\n",
    "         offset=0,\n",
    "         extent=(0, 300))"
   ]
  },
  {
   "cell_type": "code",
   "execution_count": null,
   "metadata": {},
   "outputs": [],
   "source": [
    "out_data = []\n",
    "\n",
    "for beach in stats_subset.beach.unique():\n",
    "\n",
    "    # Run analysis\n",
    "    g = val_plot(df=stats_subset.loc[stats_subset.beach == beach],\n",
    "                 title=f'Sunshine Coast Council - {beach}',\n",
    "                 scatter=True, \n",
    "                 density=False,\n",
    "                 time=False,\n",
    "                 time_stat='median',\n",
    "                 time_legend_pos=[0.67, 0.11],\n",
    "                 offset=0,\n",
    "                 extent=(0, 120))\n",
    "    \n",
    "    out_data.append(g)"
   ]
  },
  {
   "cell_type": "code",
   "execution_count": null,
   "metadata": {},
   "outputs": [],
   "source": [
    "pd.DataFrame(out_data)"
   ]
  },
  {
   "cell_type": "code",
   "execution_count": null,
   "metadata": {},
   "outputs": [],
   "source": [
    "pd.DataFrame(out_data).loc[:, 'Correlation'].plot.hist()\n",
    "plt.title('DEA Coastlines precision\\n(correlation)')\n",
    "plt.xlabel('Correlation (metres)')\n",
    "plt.ylabel('n');\n"
   ]
  },
  {
   "cell_type": "code",
   "execution_count": null,
   "metadata": {},
   "outputs": [],
   "source": [
    "pd.DataFrame(out_data).loc[:, 'Standard deviation'].plot.hist()\n",
    "plt.title('DEA Coastlines precision\\n(standard deviation of errors)')\n",
    "plt.xlabel('Precision (metres)')\n",
    "plt.ylabel('n');\n"
   ]
  },
  {
   "cell_type": "code",
   "execution_count": null,
   "metadata": {},
   "outputs": [],
   "source": [
    "pd.DataFrame(out_data).loc[:, 'RMSE'].plot.hist()\n",
    "plt.title('DEA Coastlines accuracy\\n(root mean squared error)')\n",
    "plt.xlabel('Accuracy (metres)')\n",
    "plt.ylabel('n');"
   ]
  },
  {
   "cell_type": "markdown",
   "metadata": {},
   "source": [
    "***\n",
    "\n",
    "## Additional information"
   ]
  },
  {
   "cell_type": "markdown",
   "metadata": {},
   "source": [
    "**License:** The code in this notebook is licensed under the [Apache License, Version 2.0](https://www.apache.org/licenses/LICENSE-2.0). \n",
    "Digital Earth Australia data is licensed under the [Creative Commons by Attribution 4.0](https://creativecommons.org/licenses/by/4.0/) license.\n",
    "\n",
    "**Contact:** For assistance with any of the Python code or Jupyter Notebooks in this repository, please post a [Github issue](https://github.com/GeoscienceAustralia/DEACoastLines/issues/new). For questions or more information about this product, sign up to the [Open Data Cube Slack](https://join.slack.com/t/opendatacube/shared_invite/zt-d6hu7l35-CGDhSxiSmTwacKNuXWFUkg) and post on the [`#dea-coastlines`](https://app.slack.com/client/T0L4V0TFT/C018X6J9HLY/details/) channel.\n",
    "\n",
    "**Last modified:** March 2021"
   ]
  }
 ],
 "metadata": {
  "kernelspec": {
   "display_name": "Python 3",
   "language": "python",
   "name": "python3"
  },
  "language_info": {
   "codemirror_mode": {
    "name": "ipython",
    "version": 3
   },
   "file_extension": ".py",
   "mimetype": "text/x-python",
   "name": "python",
   "nbconvert_exporter": "python",
   "pygments_lexer": "ipython3",
   "version": "3.6.10"
  },
  "widgets": {
   "application/vnd.jupyter.widget-state+json": {
    "state": {},
    "version_major": 2,
    "version_minor": 0
   }
  }
 },
 "nbformat": 4,
 "nbformat_minor": 4
}
